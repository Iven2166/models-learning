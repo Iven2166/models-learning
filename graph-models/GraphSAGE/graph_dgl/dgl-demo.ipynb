{
 "cells": [
  {
   "cell_type": "markdown",
   "metadata": {},
   "source": [
    "## 1.2 图、节点和边\n",
    "https://docs.dgl.ai/en/0.9.x/guide_cn/graph-graphs-nodes-edges.html"
   ]
  },
  {
   "cell_type": "code",
   "execution_count": 2,
   "metadata": {},
   "outputs": [],
   "source": [
    "import dgl\n",
    "import torch as th"
   ]
  },
  {
   "cell_type": "code",
   "execution_count": 16,
   "metadata": {},
   "outputs": [],
   "source": [
    "u, v = th.tensor([0,0,0,1]), th.tensor([1,2,3,3])"
   ]
  },
  {
   "cell_type": "code",
   "execution_count": 17,
   "metadata": {},
   "outputs": [],
   "source": [
    "g = dgl.graph((u,v))"
   ]
  },
  {
   "cell_type": "code",
   "execution_count": 18,
   "metadata": {},
   "outputs": [
    {
     "name": "stdout",
     "output_type": "stream",
     "text": [
      "Graph(num_nodes=4, num_edges=4,\n",
      "      ndata_schemes={}\n",
      "      edata_schemes={})\n",
      "nodes:  tensor([0, 1, 2, 3])\n",
      "edges:  (tensor([0, 0, 0, 1]), tensor([1, 2, 3, 3]))\n"
     ]
    }
   ],
   "source": [
    "print(g)\n",
    "print('nodes: ', g.nodes())\n",
    "print('edges: ', g.edges())"
   ]
  },
  {
   "cell_type": "code",
   "execution_count": 19,
   "metadata": {},
   "outputs": [],
   "source": [
    "# 如果具有最大ID的节点没有边，在创建图的时候，用户需要明确地指明节点的数量。\n",
    "g = dgl.graph((u, v), num_nodes=8)"
   ]
  },
  {
   "cell_type": "code",
   "execution_count": 22,
   "metadata": {},
   "outputs": [
    {
     "name": "stdout",
     "output_type": "stream",
     "text": [
      "Graph(num_nodes=8, num_edges=4,\n",
      "      ndata_schemes={}\n",
      "      edata_schemes={})\n",
      "nodes:  tensor([0, 1, 2, 3, 4, 5, 6, 7])\n",
      "edges:  (tensor([0, 0, 0, 1]), tensor([1, 2, 3, 3]))\n"
     ]
    }
   ],
   "source": [
    "print(g)\n",
    "print('nodes: ', g.nodes())\n",
    "print('edges: ', g.edges())"
   ]
  },
  {
   "cell_type": "code",
   "execution_count": null,
   "metadata": {},
   "outputs": [],
   "source": []
  },
  {
   "cell_type": "markdown",
   "metadata": {},
   "source": [
    "对于无向的图，用户需要为每条边都创建两个方向的边。可以使用 dgl.to_bidirected() 函数来实现这个目的。 如下面的代码段所示，这个函数可以把原图转换成一个包含反向边的图。"
   ]
  },
  {
   "cell_type": "code",
   "execution_count": 23,
   "metadata": {},
   "outputs": [
    {
     "name": "stdout",
     "output_type": "stream",
     "text": [
      "(tensor([0, 0, 0, 1, 1, 2, 3, 3]), tensor([1, 2, 3, 0, 3, 0, 0, 1]))\n"
     ]
    }
   ],
   "source": [
    "bg = dgl.to_bidirected(g)\n",
    "print(bg.edges())"
   ]
  },
  {
   "cell_type": "code",
   "execution_count": null,
   "metadata": {},
   "outputs": [],
   "source": []
  },
  {
   "cell_type": "code",
   "execution_count": null,
   "metadata": {},
   "outputs": [],
   "source": []
  },
  {
   "cell_type": "code",
   "execution_count": null,
   "metadata": {},
   "outputs": [],
   "source": []
  }
 ],
 "metadata": {
  "kernelspec": {
   "display_name": "Python 3 (ipykernel)",
   "language": "python",
   "name": "python3"
  },
  "language_info": {
   "codemirror_mode": {
    "name": "ipython",
    "version": 3
   },
   "file_extension": ".py",
   "mimetype": "text/x-python",
   "name": "python",
   "nbconvert_exporter": "python",
   "pygments_lexer": "ipython3",
   "version": "3.7.5"
  }
 },
 "nbformat": 4,
 "nbformat_minor": 1
}
