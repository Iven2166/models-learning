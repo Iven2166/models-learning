{
 "cells": [
  {
   "cell_type": "markdown",
   "id": "d80e932c-3d93-4f7c-a50a-e682b93c74ad",
   "metadata": {},
   "source": [
    "# Introduction\n",
    "\n",
    "The source code: https://github.com/dglai/WSDM21-Hands-on-Tutorial/blob/main/L2_large_link_prediction.ipynb\n",
    "\n",
    "This replica is simple but clear in showing how unsupvised learning works in DGL module."
   ]
  },
  {
   "cell_type": "code",
   "execution_count": null,
   "id": "f3214bfa-6d03-494a-9a7e-1bce107b56a4",
   "metadata": {},
   "outputs": [],
   "source": []
  },
  {
   "cell_type": "markdown",
   "id": "9d748902-b8c6-43ef-9f41-ca62330bf3a9",
   "metadata": {},
   "source": [
    "# loading dataset"
   ]
  },
  {
   "cell_type": "code",
   "execution_count": 73,
   "id": "3a4f6314-09a6-42b9-816f-09d4dc9b52a8",
   "metadata": {},
   "outputs": [],
   "source": [
    "import dgl\n",
    "import torch\n",
    "from dgl.data import AsNodePredDataset\n",
    "import numpy as np \n",
    "\n",
    "device = 'cpu'"
   ]
  },
  {
   "cell_type": "code",
   "execution_count": 2,
   "id": "6c348a68-6fce-40e7-afd3-7b839dc358ba",
   "metadata": {},
   "outputs": [],
   "source": [
    "def load_cora():\n",
    "    data0 = dgl.data.CSVDataset('../graph_dgl/cora_csv/')\n",
    "    data = AsNodePredDataset(data0, split_ratio=(0.5,0.2,0.3))\n",
    "    g = data[0]\n",
    "    g.ndata[\"features\"] = g.ndata.pop(\"feat\")\n",
    "    g.ndata[\"labels\"] = g.ndata.pop(\"label\")\n",
    "    return g, data.num_classes"
   ]
  },
  {
   "cell_type": "code",
   "execution_count": 7,
   "id": "bd307364-4666-4aac-bcc5-0cf842403434",
   "metadata": {},
   "outputs": [
    {
     "name": "stdout",
     "output_type": "stream",
     "text": [
      "Done loading data from cached files.\n"
     ]
    }
   ],
   "source": [
    "raw_g, n_classes = load_cora()"
   ]
  },
  {
   "cell_type": "code",
   "execution_count": 8,
   "id": "95831045-b22d-4754-8539-6971507fd813",
   "metadata": {},
   "outputs": [],
   "source": [
    "g = dgl.add_reverse_edges(raw_g)"
   ]
  },
  {
   "cell_type": "code",
   "execution_count": 17,
   "id": "262512fa-12d3-4370-8c9b-1df152769195",
   "metadata": {},
   "outputs": [
    {
     "name": "stdout",
     "output_type": "stream",
     "text": [
      "Number of classes: 7\n"
     ]
    }
   ],
   "source": [
    "node_features = g.ndata['features']\n",
    "node_labels = g.ndata['labels']\n",
    "num_features = node_features.shape[1]\n",
    "num_classes = (node_labels.max() + 1).item()\n",
    "print('Number of classes: {:d}'.format(num_classes))"
   ]
  },
  {
   "cell_type": "code",
   "execution_count": 18,
   "id": "ab3b644f-43c9-448d-b5db-927bd3814add",
   "metadata": {},
   "outputs": [],
   "source": [
    "train_nid = torch.nonzero(g.ndata['train_mask'], as_tuple=True)[0]\n",
    "val_nid = torch.nonzero(g.ndata['val_mask'], as_tuple=True)[0]\n",
    "test_nid = torch.nonzero(~(g.ndata['train_mask'] | g.ndata['val_mask']), as_tuple=True)[0]"
   ]
  },
  {
   "cell_type": "code",
   "execution_count": 23,
   "id": "2b433a56-f6a0-4c95-9d3c-4ff14624701c",
   "metadata": {},
   "outputs": [
    {
     "data": {
      "text/plain": [
       "(torch.Size([1354]), torch.Size([541]), torch.Size([813]))"
      ]
     },
     "execution_count": 23,
     "metadata": {},
     "output_type": "execute_result"
    }
   ],
   "source": [
    "train_nid.shape, val_nid.shape, test_nid.shape"
   ]
  },
  {
   "cell_type": "code",
   "execution_count": null,
   "id": "78be5b8b-18c5-402b-bcb7-207555376689",
   "metadata": {},
   "outputs": [],
   "source": []
  },
  {
   "cell_type": "markdown",
   "id": "7a63ff53-6655-477d-807c-91130c43c603",
   "metadata": {},
   "source": [
    "# Defining Neighbor Sampler and Data Loader in DGL"
   ]
  },
  {
   "cell_type": "markdown",
   "id": "3aa3111f-1361-456a-980b-20f47c61ba7e",
   "metadata": {},
   "source": [
    "DGL provides `dgl.dataloading.EdgeDataLoader` to iterate over edges for edge classification or link prediction tasks.\n",
    "\n",
    "To perform link prediction, you need to specify a negative sampler. DGL provides builtin negative samplers such as `dgl.dataloading.negative_sampler.Uniform`. \n",
    "\n",
    "Here this tutorial uniformly **draws $N$ negative examples per positive example**."
   ]
  },
  {
   "cell_type": "code",
   "execution_count": 44,
   "id": "97c52a1c-9544-4ea9-a5e1-c537884a8400",
   "metadata": {},
   "outputs": [],
   "source": [
    "negative_sampler = dgl.dataloading.negative_sampler.Uniform(3)  # N = 3"
   ]
  },
  {
   "cell_type": "code",
   "execution_count": 45,
   "id": "b98e7b84-978a-4e92-85d8-2c39c6eb4789",
   "metadata": {},
   "outputs": [],
   "source": [
    "sampler = dgl.dataloading.MultiLayerNeighborSampler([4,4])  # select 4 on each layer\n",
    "train_dataloader = dgl.dataloading.EdgeDataLoader(\n",
    "    g,\n",
    "    torch.arange(g.number_of_edges()), # the edges to iterate over \n",
    "    sampler,                           # neighbor sampler\n",
    "    negative_sampler=negative_sampler, \n",
    "    device = device,\n",
    "    # --- the following arguments are inherited from Pytorch Dataloader ---\n",
    "    batch_size = 128,\n",
    "    shuffle = True,\n",
    "    drop_last = False, # if we drop the last incomplete batch\n",
    "    num_workers = 0\n",
    ")"
   ]
  },
  {
   "cell_type": "code",
   "execution_count": 49,
   "id": "7104886d-07d9-47ae-bcf6-ffe1afdc01df",
   "metadata": {},
   "outputs": [
    {
     "name": "stdout",
     "output_type": "stream",
     "text": [
      "Number of input nodes: 2021\n",
      "Positive graph # nodes: 574 # edges: 128\n",
      "Negative graph # nodes: 574 # edges: 384\n",
      "[Block(num_src_nodes=2021, num_dst_nodes=1411, num_edges=4545), Block(num_src_nodes=1411, num_dst_nodes=574, num_edges=1785)]\n"
     ]
    }
   ],
   "source": [
    "input_nodes, pos_graph, neg_graph, mfgs = next(iter(train_dataloader))\n",
    "print('Number of input nodes:', len(input_nodes))\n",
    "print('Positive graph # nodes:', pos_graph.number_of_nodes(), '# edges:', pos_graph.number_of_edges())\n",
    "print('Negative graph # nodes:', neg_graph.number_of_nodes(), '# edges:', neg_graph.number_of_edges())\n",
    "print(mfgs)\n",
    "\n",
    "# 128 * 3 = 384"
   ]
  },
  {
   "cell_type": "code",
   "execution_count": 50,
   "id": "9d4534d1-2262-498e-8ac0-01f8af3d8779",
   "metadata": {},
   "outputs": [
    {
     "data": {
      "text/plain": [
       "Graph(num_nodes=574, num_edges=128,\n",
       "      ndata_schemes={'train_mask': Scheme(shape=(), dtype=torch.bool), 'val_mask': Scheme(shape=(), dtype=torch.bool), 'test_mask': Scheme(shape=(), dtype=torch.bool), 'features': Scheme(shape=(1433,), dtype=torch.int64), 'labels': Scheme(shape=(), dtype=torch.int64), '_ID': Scheme(shape=(), dtype=torch.int64)}\n",
       "      edata_schemes={'_ID': Scheme(shape=(), dtype=torch.int64)})"
      ]
     },
     "execution_count": 50,
     "metadata": {},
     "output_type": "execute_result"
    }
   ],
   "source": [
    "pos_graph"
   ]
  },
  {
   "cell_type": "code",
   "execution_count": 51,
   "id": "5531d9da-d9bc-4d2f-becb-042c208b2aa4",
   "metadata": {},
   "outputs": [
    {
     "data": {
      "text/plain": [
       "Graph(num_nodes=574, num_edges=384,\n",
       "      ndata_schemes={'_ID': Scheme(shape=(), dtype=torch.int64)}\n",
       "      edata_schemes={})"
      ]
     },
     "execution_count": 51,
     "metadata": {},
     "output_type": "execute_result"
    }
   ],
   "source": [
    "neg_graph"
   ]
  },
  {
   "cell_type": "code",
   "execution_count": 56,
   "id": "e189b62e-8915-4498-b6e9-455f4896f248",
   "metadata": {},
   "outputs": [
    {
     "data": {
      "text/plain": [
       "1411"
      ]
     },
     "execution_count": 56,
     "metadata": {},
     "output_type": "execute_result"
    }
   ],
   "source": [
    "mfgs[0].num_dst_nodes()"
   ]
  },
  {
   "cell_type": "code",
   "execution_count": 64,
   "id": "2a1f4479-780c-4f66-9f87-6676b405711a",
   "metadata": {},
   "outputs": [
    {
     "data": {
      "text/plain": [
       "torch.Size([100, 1433])"
      ]
     },
     "execution_count": 64,
     "metadata": {},
     "output_type": "execute_result"
    }
   ],
   "source": [
    "mfgs[0].srcdata['features'][:100].shape"
   ]
  },
  {
   "cell_type": "code",
   "execution_count": 65,
   "id": "e77a6116-ffaf-4a90-bca5-3c1cdc80528b",
   "metadata": {},
   "outputs": [
    {
     "data": {
      "text/plain": [
       "1411"
      ]
     },
     "execution_count": 65,
     "metadata": {},
     "output_type": "execute_result"
    }
   ],
   "source": [
    "mfgs[0].num_dst_nodes()"
   ]
  },
  {
   "cell_type": "code",
   "execution_count": null,
   "id": "018b012f-3aea-47b9-8695-d315c318d34f",
   "metadata": {},
   "outputs": [],
   "source": []
  },
  {
   "cell_type": "code",
   "execution_count": null,
   "id": "48facf3d-2f6d-4822-b477-13dd85c8d1ef",
   "metadata": {},
   "outputs": [],
   "source": []
  },
  {
   "cell_type": "markdown",
   "id": "f59fa23e-7fc4-499d-8a07-c8f93e9c32da",
   "metadata": {},
   "source": [
    "# Defining Model for Node Representation (Emb)"
   ]
  },
  {
   "cell_type": "code",
   "execution_count": 53,
   "id": "3cbf7115-6b19-4184-87ea-89766ea3f8af",
   "metadata": {},
   "outputs": [],
   "source": [
    "import torch.nn as nn \n",
    "import torch.nn.functional as F\n",
    "from dgl.nn import SAGEConv"
   ]
  },
  {
   "cell_type": "markdown",
   "id": "0fd0c55a-a2bc-4dbb-8f4e-c295fa110a86",
   "metadata": {},
   "source": [
    "To illustrate the following code:\n",
    "\n",
    "Recall that the MFGs yielded by the NodeDataLoader and EdgeDataLoader have the property that the ***first few source nodes are always identical to the destination nodes***:\n",
    "\n",
    "[LINK](https://github.com/dglai/WSDM21-Hands-on-Tutorial/blob/cd3e28bae0395868e30e8c0fc002bf0b77739585//L4_message_passing.ipynb)"
   ]
  },
  {
   "cell_type": "code",
   "execution_count": 72,
   "id": "5bc0a5f7-db56-459b-b458-6be5ddb25d32",
   "metadata": {},
   "outputs": [
    {
     "name": "stdout",
     "output_type": "stream",
     "text": [
      "True\n"
     ]
    }
   ],
   "source": [
    "print(torch.equal(mfgs[0].srcdata[dgl.NID][: mfgs[0].num_dst_nodes()], mfgs[0].dstdata[dgl.NID]))"
   ]
  },
  {
   "cell_type": "code",
   "execution_count": null,
   "id": "57e3ce63-2dcf-4708-9065-c9e56200d9c3",
   "metadata": {},
   "outputs": [],
   "source": []
  },
  {
   "cell_type": "code",
   "execution_count": 74,
   "id": "84614661-8cba-4649-9cad-6be1f2e3e55d",
   "metadata": {},
   "outputs": [],
   "source": [
    "class Model(nn.Module):\n",
    "    def __init__(self, in_feats, h_feats):\n",
    "        super(Model, self).__init__()\n",
    "        self.h_feats = h_feats\n",
    "        self.in_feats = in_feats\n",
    "        self.conv1 = SAGEConv(self.in_feats, self.h_feats, aggregator_type='mean')\n",
    "        self.conv2 = SAGEConv(self.h_feats, self.h_feats, aggregator_type='mean')\n",
    "        \n",
    "    def forward(self, mfgs, x):\n",
    "        h_dst = x[: mfgs[0].num_dst_nodes()]\n",
    "        h = self.conv1(mfgs[0], (x, h_dst))\n",
    "        h = F.relu(h)\n",
    "        h_dst = h[: mfgs[1].num_dst_nodes()]\n",
    "        h = self.conv2(mfgs[1], (h, h_dst))\n",
    "        return h"
   ]
  },
  {
   "cell_type": "code",
   "execution_count": 75,
   "id": "e41c14df-6696-4d0b-aa92-2c87a016709e",
   "metadata": {},
   "outputs": [],
   "source": [
    "model = Model(num_features, 256).to(device)"
   ]
  },
  {
   "cell_type": "code",
   "execution_count": null,
   "id": "c71d007e-05e8-4f49-9329-3763a710bc8d",
   "metadata": {},
   "outputs": [],
   "source": []
  },
  {
   "cell_type": "markdown",
   "id": "e7f41135-fcc7-42ce-bfdd-b8892876636b",
   "metadata": {},
   "source": [
    "# Defining the Score Predictor for Edges"
   ]
  },
  {
   "cell_type": "code",
   "execution_count": null,
   "id": "d6ca1eb9-4327-4161-b664-dadf72f3c732",
   "metadata": {},
   "outputs": [],
   "source": []
  },
  {
   "cell_type": "code",
   "execution_count": null,
   "id": "d2993239-8e09-4dfc-a90b-53b80044603d",
   "metadata": {},
   "outputs": [],
   "source": []
  },
  {
   "cell_type": "code",
   "execution_count": null,
   "id": "44be5e35-a580-4999-af92-74a134bd6482",
   "metadata": {},
   "outputs": [],
   "source": []
  },
  {
   "cell_type": "code",
   "execution_count": null,
   "id": "553ca8f6-c0d4-4999-b784-0a6e68f8ae64",
   "metadata": {},
   "outputs": [],
   "source": []
  },
  {
   "cell_type": "code",
   "execution_count": null,
   "id": "ebf20dca-6a10-4c3f-9bb9-fe13ca0764f8",
   "metadata": {},
   "outputs": [],
   "source": []
  }
 ],
 "metadata": {
  "kernelspec": {
   "display_name": "Python 3 (ipykernel)",
   "language": "python",
   "name": "python3"
  },
  "language_info": {
   "codemirror_mode": {
    "name": "ipython",
    "version": 3
   },
   "file_extension": ".py",
   "mimetype": "text/x-python",
   "name": "python",
   "nbconvert_exporter": "python",
   "pygments_lexer": "ipython3",
   "version": "3.10.9"
  }
 },
 "nbformat": 4,
 "nbformat_minor": 5
}
