{
 "cells": [
  {
   "cell_type": "code",
   "execution_count": 93,
   "id": "cd73bd4a",
   "metadata": {
    "execution": {
     "iopub.execute_input": "2023-05-13T08:40:09.588536Z",
     "iopub.status.busy": "2023-05-13T08:40:09.588140Z",
     "iopub.status.idle": "2023-05-13T08:40:09.937917Z",
     "shell.execute_reply": "2023-05-13T08:40:09.937331Z",
     "shell.execute_reply.started": "2023-05-13T08:40:09.588506Z"
    },
    "tags": []
   },
   "outputs": [],
   "source": [
    "import pandas  as pd\n",
    "from collections import Counter\n",
    "import torch\n",
    "from torch import nn\n",
    "import collections\n",
    "from tqdm import tqdm \n",
    "from sklearn.model_selection import train_test_split\n",
    "\n",
    "from torch.utils.data import Dataset, DataLoader\n",
    "from torch.nn.utils.rnn import pad_sequence, pack_padded_sequence, pad_packed_sequence"
   ]
  },
  {
   "cell_type": "code",
   "execution_count": 2,
   "id": "25d395ff-6829-4ca7-bd6f-de2741896e5a",
   "metadata": {
    "execution": {
     "iopub.execute_input": "2023-05-13T08:05:33.935506Z",
     "iopub.status.busy": "2023-05-13T08:05:33.935110Z",
     "iopub.status.idle": "2023-05-13T08:05:37.699456Z",
     "shell.execute_reply": "2023-05-13T08:05:37.697824Z",
     "shell.execute_reply.started": "2023-05-13T08:05:33.935485Z"
    }
   },
   "outputs": [],
   "source": [
    "from torchtext.vocab import GloVe\n",
    "global_vectors = GloVe(name='840B', dim=300, cache='../../glove/')"
   ]
  },
  {
   "cell_type": "code",
   "execution_count": 3,
   "id": "7f886004",
   "metadata": {
    "execution": {
     "iopub.execute_input": "2023-05-13T08:05:37.706371Z",
     "iopub.status.busy": "2023-05-13T08:05:37.705906Z",
     "iopub.status.idle": "2023-05-13T08:05:38.700559Z",
     "shell.execute_reply": "2023-05-13T08:05:38.699806Z",
     "shell.execute_reply.started": "2023-05-13T08:05:37.706350Z"
    },
    "tags": []
   },
   "outputs": [],
   "source": [
    "traindata = pd.read_csv('./data/train.csv')"
   ]
  },
  {
   "cell_type": "code",
   "execution_count": 7,
   "id": "c3e25368",
   "metadata": {
    "execution": {
     "iopub.execute_input": "2023-05-13T08:06:02.747486Z",
     "iopub.status.busy": "2023-05-13T08:06:02.747099Z",
     "iopub.status.idle": "2023-05-13T08:06:02.900572Z",
     "shell.execute_reply": "2023-05-13T08:06:02.899821Z",
     "shell.execute_reply.started": "2023-05-13T08:06:02.747463Z"
    },
    "tags": []
   },
   "outputs": [],
   "source": [
    "traindata = traindata.dropna()"
   ]
  },
  {
   "cell_type": "code",
   "execution_count": 8,
   "id": "3c092cf5",
   "metadata": {
    "execution": {
     "iopub.execute_input": "2023-05-13T08:06:03.639138Z",
     "iopub.status.busy": "2023-05-13T08:06:03.638754Z",
     "iopub.status.idle": "2023-05-13T08:06:03.687449Z",
     "shell.execute_reply": "2023-05-13T08:06:03.686856Z",
     "shell.execute_reply.started": "2023-05-13T08:06:03.639113Z"
    },
    "tags": []
   },
   "outputs": [
    {
     "data": {
      "text/plain": [
       "Counter({0: 255024, 1: 149263})"
      ]
     },
     "execution_count": 8,
     "metadata": {},
     "output_type": "execute_result"
    }
   ],
   "source": [
    "Counter(traindata.is_duplicate)"
   ]
  },
  {
   "cell_type": "code",
   "execution_count": 12,
   "id": "b403b6a2-9e2c-41ec-b7cb-b23082be22bf",
   "metadata": {
    "execution": {
     "iopub.execute_input": "2023-05-13T08:06:47.342307Z",
     "iopub.status.busy": "2023-05-13T08:06:47.341507Z",
     "iopub.status.idle": "2023-05-13T08:06:47.358492Z",
     "shell.execute_reply": "2023-05-13T08:06:47.357832Z",
     "shell.execute_reply.started": "2023-05-13T08:06:47.342279Z"
    },
    "tags": []
   },
   "outputs": [],
   "source": [
    "traindata = traindata.reset_index()"
   ]
  },
  {
   "cell_type": "code",
   "execution_count": 13,
   "id": "65b29209",
   "metadata": {
    "execution": {
     "iopub.execute_input": "2023-05-13T08:06:48.553847Z",
     "iopub.status.busy": "2023-05-13T08:06:48.553048Z",
     "iopub.status.idle": "2023-05-13T08:06:49.877971Z",
     "shell.execute_reply": "2023-05-13T08:06:49.877228Z",
     "shell.execute_reply.started": "2023-05-13T08:06:48.553814Z"
    },
    "tags": []
   },
   "outputs": [
    {
     "name": "stdout",
     "output_type": "stream",
     "text": [
      "tensor(0.9039)\n"
     ]
    }
   ],
   "source": [
    "loss_func = torch.nn.NLLLoss()\n",
    "logsoftmax = nn.LogSoftmax(dim=1)\n",
    "\n",
    "digits = torch.randn(len(traindata.is_duplicate),2) \n",
    "print(loss_func(logsoftmax(digits), torch.tensor(traindata['is_duplicate']))) # 随机时 0.9"
   ]
  },
  {
   "cell_type": "code",
   "execution_count": 15,
   "id": "275e90d7",
   "metadata": {
    "execution": {
     "iopub.execute_input": "2023-05-13T08:07:07.541915Z",
     "iopub.status.busy": "2023-05-13T08:07:07.541171Z",
     "iopub.status.idle": "2023-05-13T08:07:07.546254Z",
     "shell.execute_reply": "2023-05-13T08:07:07.545673Z",
     "shell.execute_reply.started": "2023-05-13T08:07:07.541887Z"
    },
    "tags": []
   },
   "outputs": [
    {
     "data": {
      "text/plain": [
       "'What is the step by step guide to invest in share market in india?'"
      ]
     },
     "execution_count": 15,
     "metadata": {},
     "output_type": "execute_result"
    }
   ],
   "source": [
    "traindata.iloc[0]['question1']"
   ]
  },
  {
   "cell_type": "markdown",
   "id": "159c7332-bf38-4b07-b041-23d564998072",
   "metadata": {},
   "source": [
    "### 获取词表"
   ]
  },
  {
   "cell_type": "code",
   "execution_count": 21,
   "id": "2e62c06b-a1cc-4af4-8e09-93f170b81d34",
   "metadata": {
    "execution": {
     "iopub.execute_input": "2023-05-13T08:08:22.243071Z",
     "iopub.status.busy": "2023-05-13T08:08:22.242258Z",
     "iopub.status.idle": "2023-05-13T08:08:22.248007Z",
     "shell.execute_reply": "2023-05-13T08:08:22.247271Z",
     "shell.execute_reply.started": "2023-05-13T08:08:22.243043Z"
    },
    "tags": []
   },
   "outputs": [],
   "source": [
    "def get_tokens_list(df):\n",
    "    token_idx_map = collections.defaultdict()\n",
    "    cnt = 0\n",
    "    for i, sent in tqdm(enumerate(df.question1)):\n",
    "        if isinstance(sent, str):\n",
    "            for token in sent.replace('?','').split(' '):\n",
    "                if token in token_idx_map:\n",
    "                    continue\n",
    "                token_idx_map[token] = cnt\n",
    "                cnt += 1\n",
    "    for i, sent in tqdm(enumerate(df.question2)):\n",
    "        if isinstance(sent, str):\n",
    "            for token in sent.replace('?','').split(' '):\n",
    "                if token in token_idx_map:\n",
    "                    continue\n",
    "                token_idx_map[token] = cnt\n",
    "                cnt += 1\n",
    "    return token_idx_map"
   ]
  },
  {
   "cell_type": "code",
   "execution_count": 22,
   "id": "b9b8722b-be94-43fb-8314-491bf081c520",
   "metadata": {
    "execution": {
     "iopub.execute_input": "2023-05-13T08:08:26.137400Z",
     "iopub.status.busy": "2023-05-13T08:08:26.136581Z",
     "iopub.status.idle": "2023-05-13T08:08:28.000303Z",
     "shell.execute_reply": "2023-05-13T08:08:27.999393Z",
     "shell.execute_reply.started": "2023-05-13T08:08:26.137372Z"
    },
    "tags": []
   },
   "outputs": [
    {
     "name": "stderr",
     "output_type": "stream",
     "text": [
      "404287it [00:00, 433159.30it/s]\n",
      "404287it [00:00, 440695.77it/s]\n"
     ]
    }
   ],
   "source": [
    "token_idx_map = get_tokens_list(traindata)"
   ]
  },
  {
   "cell_type": "markdown",
   "id": "d969f971-d840-4ce9-9036-27a39089fbbb",
   "metadata": {
    "execution": {
     "iopub.execute_input": "2023-05-13T08:09:49.596556Z",
     "iopub.status.busy": "2023-05-13T08:09:49.596173Z",
     "iopub.status.idle": "2023-05-13T08:09:49.624527Z",
     "shell.execute_reply": "2023-05-13T08:09:49.623712Z",
     "shell.execute_reply.started": "2023-05-13T08:09:49.596528Z"
    },
    "tags": []
   },
   "source": [
    "### 整理数据格式到 Dataset 要求类型\n",
    "- sent1的tokenid\n",
    "- sent2的tokenid\n",
    "- label"
   ]
  },
  {
   "cell_type": "code",
   "execution_count": 33,
   "id": "4ca165b2-f12e-4395-92d4-d06483585bb0",
   "metadata": {
    "execution": {
     "iopub.execute_input": "2023-05-13T08:19:12.411582Z",
     "iopub.status.busy": "2023-05-13T08:19:12.411196Z",
     "iopub.status.idle": "2023-05-13T08:19:12.418171Z",
     "shell.execute_reply": "2023-05-13T08:19:12.417374Z",
     "shell.execute_reply.started": "2023-05-13T08:19:12.411560Z"
    },
    "tags": []
   },
   "outputs": [
    {
     "data": {
      "text/plain": [
       "tensor([    17,     18,     19,   3213,   2366,    434,      6,   3214,      8,\n",
       "          2358,      8,     27, 196368])"
      ]
     },
     "execution_count": 33,
     "metadata": {},
     "output_type": "execute_result"
    }
   ],
   "source": [
    "tmp = []\n",
    "for word in traindata.iloc[1000]['question1'].split(' '):\n",
    "    tmp.append(token_idx_map.get(word, len(token_idx_map)+1))\n",
    "torch.tensor(tmp)"
   ]
  },
  {
   "cell_type": "code",
   "execution_count": 99,
   "id": "d5961c44-ea23-4f70-a357-72f2f1e08298",
   "metadata": {
    "execution": {
     "iopub.execute_input": "2023-05-13T08:41:47.529879Z",
     "iopub.status.busy": "2023-05-13T08:41:47.529475Z",
     "iopub.status.idle": "2023-05-13T08:41:47.642828Z",
     "shell.execute_reply": "2023-05-13T08:41:47.642243Z",
     "shell.execute_reply.started": "2023-05-13T08:41:47.529851Z"
    },
    "tags": []
   },
   "outputs": [
    {
     "name": "stdout",
     "output_type": "stream",
     "text": [
      "(323429, 7) (80858, 7)\n"
     ]
    }
   ],
   "source": [
    "train_rawdata, val_rawdata = train_test_split(traindata, test_size=0.2, random_state=24)\n",
    "print(train_data.shape, val_rawdata.shape)"
   ]
  },
  {
   "cell_type": "code",
   "execution_count": 102,
   "id": "21980b2b-39fa-4b9d-a5c4-8c4a977fc966",
   "metadata": {
    "execution": {
     "iopub.execute_input": "2023-05-13T08:42:44.859850Z",
     "iopub.status.busy": "2023-05-13T08:42:44.859455Z",
     "iopub.status.idle": "2023-05-13T08:42:44.864868Z",
     "shell.execute_reply": "2023-05-13T08:42:44.864254Z",
     "shell.execute_reply.started": "2023-05-13T08:42:44.859825Z"
    },
    "tags": []
   },
   "outputs": [],
   "source": [
    "# 回头用多进程改进一下数据处理的地方\n",
    "\n",
    "def df_to_predataset(df, token_idx_map):\n",
    "    n, _ = df.shape\n",
    "    predataset = []\n",
    "    for i in tqdm(range(n)):\n",
    "        row = df.iloc[i]\n",
    "        tmp_dict = {}\n",
    "        tmp_dict['text1_token'] = torch.tensor([token_idx_map.get(word, len(token_idx_map)+1) for word in row['question1'].replace('?','').split(' ')])\n",
    "        tmp_dict['text2_token'] = torch.tensor([token_idx_map.get(word, len(token_idx_map)+1) for word in row['question2'].replace('?','').split(' ')])\n",
    "        tmp_dict['label'] = row['is_duplicate']\n",
    "        tmp_dict['id'] = row['id']\n",
    "        predataset.append(tmp_dict)\n",
    "    return predataset"
   ]
  },
  {
   "cell_type": "code",
   "execution_count": 103,
   "id": "3700688c-b503-44aa-b99a-700bf99ac252",
   "metadata": {
    "execution": {
     "iopub.execute_input": "2023-05-13T08:42:45.402633Z",
     "iopub.status.busy": "2023-05-13T08:42:45.402254Z",
     "iopub.status.idle": "2023-05-13T08:43:35.629413Z",
     "shell.execute_reply": "2023-05-13T08:43:35.628675Z",
     "shell.execute_reply.started": "2023-05-13T08:42:45.402606Z"
    },
    "tags": []
   },
   "outputs": [
    {
     "name": "stderr",
     "output_type": "stream",
     "text": [
      "100%|██████████| 323429/323429 [00:40<00:00, 7985.38it/s]\n",
      "100%|██████████| 80858/80858 [00:09<00:00, 8321.12it/s]\n"
     ]
    }
   ],
   "source": [
    "train_predataset = df_to_predataset(train_rawdata, token_idx_map)\n",
    "eval_predataset = df_to_predataset(val_rawdata, token_idx_map)"
   ]
  },
  {
   "cell_type": "code",
   "execution_count": 105,
   "id": "3b753621-43a4-4698-a82b-c14a9e5afa46",
   "metadata": {
    "execution": {
     "iopub.execute_input": "2023-05-13T08:50:08.445505Z",
     "iopub.status.busy": "2023-05-13T08:50:08.445100Z",
     "iopub.status.idle": "2023-05-13T08:50:08.450277Z",
     "shell.execute_reply": "2023-05-13T08:50:08.449761Z",
     "shell.execute_reply.started": "2023-05-13T08:50:08.445478Z"
    },
    "tags": []
   },
   "outputs": [
    {
     "data": {
      "text/plain": [
       "{'text1_token': tensor([   19,   375, 10545,     8,  6709, 10546,     8,  2061,    44, 10547,\n",
       "             8,  2180,   103, 10548,   234,    99,     2,   797,  1485,  8386,\n",
       "             8,  2424,     8,    27, 10549,  2024,   372,   545,    97]),\n",
       " 'text2_token': tensor([  1239,   3106,   6200,      1, 138656,     22,   2061,      1, 138657,\n",
       "             22,   1429,      8,   7714,      1, 138658,     44,     19,    375,\n",
       "            363,    545,   8638,     75,     19,    342,    343,   7608]),\n",
       " 'label': 0,\n",
       " 'id': 5434}"
      ]
     },
     "execution_count": 105,
     "metadata": {},
     "output_type": "execute_result"
    }
   ],
   "source": [
    "train_predataset[2]"
   ]
  },
  {
   "cell_type": "code",
   "execution_count": 106,
   "id": "bd7c7bd3-4953-4b4c-bbf1-b1635d79ab17",
   "metadata": {
    "execution": {
     "iopub.execute_input": "2023-05-13T08:50:18.500656Z",
     "iopub.status.busy": "2023-05-13T08:50:18.500263Z",
     "iopub.status.idle": "2023-05-13T08:50:18.506664Z",
     "shell.execute_reply": "2023-05-13T08:50:18.506047Z",
     "shell.execute_reply.started": "2023-05-13T08:50:18.500631Z"
    },
    "tags": []
   },
   "outputs": [],
   "source": [
    "class MyDataset(Dataset):\n",
    "\n",
    "    def __init__(self, data):\n",
    "        self.data = data\n",
    "        \n",
    "    def __len__(self):\n",
    "        return len(self.data)\n",
    "\n",
    "    def __getitem__(self, index):\n",
    "        return self.data[index]['text1_token'], self.data[index]['text2_token'], self.data[index]['label'], self.data[index]['id']\n",
    "    \n",
    "def collate_fn_padd(batch):\n",
    "    '''\n",
    "    Padds batch of variable length\n",
    "\n",
    "    note: it converts things ToTensor manually here since the ToTensor transform\n",
    "    assume it takes in images rather than arbitrary tensors.\n",
    "    '''\n",
    "    x, y, label, pair_id = zip(*batch)\n",
    "    x_lens = [len(x_i) for x_i in x]\n",
    "    y_lens = [len(y_i) for y_i in y]\n",
    "    x_pad = torch.nn.utils.rnn.pad_sequence(x, batch_first=True)\n",
    "    y_pad = torch.nn.utils.rnn.pad_sequence(y, batch_first=True)\n",
    "    # z_pad = torch.nn.utils.rnn.pad_sequence(z, batch_first=True)\n",
    "    return x_pad, torch.tensor(x_lens), y_pad, torch.tensor(y_lens), torch.tensor(label), torch.tensor(pair_id)"
   ]
  },
  {
   "cell_type": "code",
   "execution_count": 467,
   "id": "4f260cf4-66e6-4a64-97a6-9d745dcbcf8f",
   "metadata": {
    "execution": {
     "iopub.execute_input": "2023-05-13T10:53:32.460229Z",
     "iopub.status.busy": "2023-05-13T10:53:32.459854Z",
     "iopub.status.idle": "2023-05-13T10:53:32.464474Z",
     "shell.execute_reply": "2023-05-13T10:53:32.463933Z",
     "shell.execute_reply.started": "2023-05-13T10:53:32.460205Z"
    },
    "tags": []
   },
   "outputs": [],
   "source": [
    "train_dataset_loader = DataLoader(\n",
    "    MyDataset(train_predataset),\n",
    "    batch_size=256,\n",
    "    shuffle=True,\n",
    "    collate_fn=lambda x: collate_fn_padd(x))\n",
    "\n",
    "eval_dataset_loader = DataLoader(\n",
    "    MyDataset(eval_predataset),\n",
    "    batch_size=256,\n",
    "    shuffle=False,\n",
    "    collate_fn=lambda x: collate_fn_padd(x))"
   ]
  },
  {
   "cell_type": "code",
   "execution_count": 468,
   "id": "e418fcc8-e619-4cb0-aedc-3890185ee2b6",
   "metadata": {
    "execution": {
     "iopub.execute_input": "2023-05-13T10:53:33.015115Z",
     "iopub.status.busy": "2023-05-13T10:53:33.014749Z",
     "iopub.status.idle": "2023-05-13T10:53:33.300650Z",
     "shell.execute_reply": "2023-05-13T10:53:33.300053Z",
     "shell.execute_reply.started": "2023-05-13T10:53:33.015092Z"
    },
    "tags": []
   },
   "outputs": [],
   "source": [
    "t = next(iter(train_dataset_loader))"
   ]
  },
  {
   "cell_type": "code",
   "execution_count": 469,
   "id": "6492d3c7-7a71-44c7-bfe6-197d7e95b6d8",
   "metadata": {
    "execution": {
     "iopub.execute_input": "2023-05-13T10:53:33.392337Z",
     "iopub.status.busy": "2023-05-13T10:53:33.392024Z",
     "iopub.status.idle": "2023-05-13T10:53:33.395622Z",
     "shell.execute_reply": "2023-05-13T10:53:33.395025Z",
     "shell.execute_reply.started": "2023-05-13T10:53:33.392315Z"
    },
    "tags": []
   },
   "outputs": [
    {
     "name": "stdout",
     "output_type": "stream",
     "text": [
      "torch.Size([256, 49])\n",
      "torch.Size([256])\n",
      "torch.Size([256, 61])\n",
      "torch.Size([256])\n",
      "torch.Size([256])\n",
      "torch.Size([256])\n"
     ]
    }
   ],
   "source": [
    "for v in t:\n",
    "    print(v.shape)"
   ]
  },
  {
   "cell_type": "code",
   "execution_count": null,
   "id": "255a2300-6144-470c-a9be-52991c11ad3b",
   "metadata": {},
   "outputs": [],
   "source": []
  },
  {
   "cell_type": "markdown",
   "id": "3d9e5b80-ac18-4c7b-9ea7-077dc74cdf17",
   "metadata": {},
   "source": [
    "### 定义token-emb\n",
    "将emb表用token初始化"
   ]
  },
  {
   "cell_type": "code",
   "execution_count": 114,
   "id": "50ba19f1-5540-4710-a098-5fca6735048e",
   "metadata": {
    "execution": {
     "iopub.execute_input": "2023-05-13T08:53:50.491663Z",
     "iopub.status.busy": "2023-05-13T08:53:50.491268Z",
     "iopub.status.idle": "2023-05-13T08:53:52.371858Z",
     "shell.execute_reply": "2023-05-13T08:53:52.371181Z",
     "shell.execute_reply.started": "2023-05-13T08:53:50.491637Z"
    },
    "tags": []
   },
   "outputs": [],
   "source": [
    "glove_weight = global_vectors.get_vecs_by_tokens(list(token_idx_map.keys()))\n",
    "embedding_glove = nn.Embedding.from_pretrained(glove_weight)"
   ]
  },
  {
   "cell_type": "code",
   "execution_count": 120,
   "id": "5fbe72a4-1b8d-41c6-ade3-d0dd229d87d9",
   "metadata": {
    "execution": {
     "iopub.execute_input": "2023-05-13T08:54:23.762717Z",
     "iopub.status.busy": "2023-05-13T08:54:23.762326Z",
     "iopub.status.idle": "2023-05-13T08:54:23.769292Z",
     "shell.execute_reply": "2023-05-13T08:54:23.768751Z",
     "shell.execute_reply.started": "2023-05-13T08:54:23.762692Z"
    },
    "tags": []
   },
   "outputs": [
    {
     "name": "stdout",
     "output_type": "stream",
     "text": [
      "tensor([-2.0628e-01,  3.6716e-01, -7.1933e-02, -2.0267e-01, -1.7848e-01,\n",
      "        -1.2100e-01, -7.3975e-04,  1.4043e-01,  7.5546e-02,  1.5698e+00,\n",
      "        -5.5420e-01, -1.7005e-01,  2.8289e-01, -1.1052e-01, -2.0246e-01,\n",
      "        -7.4419e-02, -9.0170e-02,  9.0817e-01, -3.8369e-01, -7.6266e-02,\n",
      "         3.0301e-01, -3.0917e-01, -2.0811e-02,  1.6218e-01, -3.3647e-01,\n",
      "         1.9596e-01,  7.1785e-02,  5.2944e-01, -8.1967e-02, -1.0554e-01,\n",
      "        -1.9988e-01,  4.8801e-01,  1.1412e-01,  2.5509e-02,  5.0287e-01,\n",
      "         4.4282e-01,  2.9300e-01,  3.8677e-01, -3.4214e-01, -4.9262e-02,\n",
      "         2.1308e-01,  1.7267e-02, -1.8769e-01, -2.1153e-01,  2.6950e-01,\n",
      "        -1.3365e-01, -6.9443e-01,  1.5104e-01, -1.5997e-01,  3.6818e-02,\n",
      "         1.7237e-01,  1.4098e-01,  1.0714e-01, -2.3506e-01,  3.2742e-01,\n",
      "        -1.9066e-01,  1.7212e-01, -2.7347e-01, -1.3840e-01, -9.0581e-02,\n",
      "        -2.0053e-02, -1.1375e-01,  1.8967e-01,  1.1945e-01, -6.4538e-02,\n",
      "        -4.2223e-01, -1.2985e-01,  1.0282e-01, -4.8164e-02,  1.0337e-01,\n",
      "         7.6936e-02, -1.7334e-01,  5.9142e-01, -9.2004e-04, -9.6867e-02,\n",
      "         3.5011e-01,  4.6135e-02, -9.7616e-02, -1.7250e-01,  3.3095e-01,\n",
      "        -5.5886e-02,  2.3972e-02, -3.8478e-01,  1.9416e-02, -8.6125e-02,\n",
      "        -2.5461e-01, -6.5699e-01, -6.4645e-01,  4.0691e-01, -4.2262e-02,\n",
      "        -2.7965e-01, -1.5588e-01, -3.7444e-01,  4.6177e-02,  2.2042e-01,\n",
      "         3.5635e-01,  4.9486e-02, -2.9555e-01,  1.5032e-01, -6.0933e-02,\n",
      "        -2.4315e-01,  1.8705e-01,  4.7539e-02, -2.2314e-01,  8.5725e-02,\n",
      "         8.9253e-01,  9.4972e-02, -4.4072e-03,  1.0651e-03,  2.6703e-01,\n",
      "         4.3893e-02, -2.5760e-01,  2.0038e-01, -1.4195e-01,  7.9906e-02,\n",
      "         3.0453e-01, -1.2138e-01,  7.1738e-02, -2.9178e-01, -1.0674e-01,\n",
      "        -1.4089e-01, -4.1474e-01, -1.3863e-01, -2.5616e-01, -1.4718e-01,\n",
      "         1.2318e-01, -2.4998e-01, -5.2019e-01, -2.1208e-01,  9.5324e-02,\n",
      "         1.3293e-01, -4.0160e-01,  1.7130e-01,  2.3099e-01,  1.8847e-01,\n",
      "         5.8560e-02,  1.1274e-02,  1.9783e-01,  1.3284e-01, -1.1283e-01,\n",
      "        -1.0915e+00, -1.5944e-01,  1.3301e-01,  4.0244e-01, -2.7010e-01,\n",
      "         9.0316e-02, -1.0335e-01,  4.4760e-01, -2.8962e-01, -9.1873e-02,\n",
      "         3.8433e-01,  1.0528e-01, -3.3493e-01, -1.2952e-01,  1.3093e-01,\n",
      "        -7.3318e-02,  2.7456e-02,  2.1549e-01, -1.9844e-01, -9.7144e-02,\n",
      "        -3.9925e-01,  1.0673e-01, -1.3423e-01, -1.1820e-01,  5.1337e-02,\n",
      "        -1.8781e-03,  3.4523e-01, -3.0935e-02,  1.4184e-01,  3.9887e-01,\n",
      "        -1.3426e-01, -2.4724e-01,  2.4778e-01, -4.7788e-01,  3.2743e-02,\n",
      "         5.2738e-02,  2.3332e-01,  2.3158e-01,  3.6008e-01,  5.4836e-02,\n",
      "         4.0004e-02, -2.4752e-02, -1.4187e-02,  3.8450e-02, -5.2706e-02,\n",
      "         2.3062e-01, -7.6403e-03, -6.4840e-02,  5.6870e-02,  7.8506e-02,\n",
      "         1.4028e-01,  1.4892e-01, -1.3340e-01, -4.0998e-01,  7.0171e-03,\n",
      "         3.2882e-01, -2.2797e-01,  6.6004e-03,  4.2906e-01,  4.5829e-01,\n",
      "        -2.3799e-01,  4.7795e-02, -4.7321e-02, -4.4963e-02,  9.5764e-03,\n",
      "         8.4373e-02,  3.5035e-01, -1.5082e-01,  3.9905e-02, -6.3793e-02,\n",
      "        -2.5825e-01, -1.8472e-01, -5.2274e-02, -2.9746e-01, -1.4931e-01,\n",
      "        -2.5982e-01, -5.2359e-01,  4.7144e-01, -2.4630e-01, -6.4732e-01,\n",
      "         1.7279e-01,  2.1242e-01, -1.1396e-01,  4.0067e-01,  2.2006e-02,\n",
      "        -3.8915e-02,  2.1959e-01,  4.0069e-01, -4.0698e-02, -2.1381e-01,\n",
      "        -1.3942e-01,  3.1755e-01,  4.0187e-02, -1.0793e-01, -2.8685e-01,\n",
      "        -5.8734e-02,  2.5742e-01, -2.7454e-01, -2.2673e-01,  3.9963e-01,\n",
      "        -2.6465e-01, -2.1092e-01,  2.2770e-01, -2.7950e-01,  2.4301e-01,\n",
      "        -1.4698e-01,  4.7766e-01, -4.5157e-01, -3.8937e-01, -3.7587e-02,\n",
      "         8.9546e-02, -3.6023e-01,  7.5794e-02, -3.8778e-01, -4.0174e-01,\n",
      "         2.7974e-01,  2.6418e-02, -3.3426e-01,  4.9680e-01,  3.4438e-01,\n",
      "        -2.3124e-01, -1.0729e-01, -1.0125e-01, -1.1769e-01,  2.4281e-01,\n",
      "        -1.2629e-01, -1.8486e-01,  2.2386e-01,  8.9232e-01,  1.3601e-01,\n",
      "        -2.5991e-01, -9.8354e-03, -4.0431e-01, -4.1657e-01, -3.2738e-01,\n",
      "        -3.8979e-02,  5.7817e-02, -6.2867e-02,  2.2843e-01,  3.5507e-01,\n",
      "        -8.5478e-02,  1.2207e-01,  4.9410e-02, -3.1205e-01, -1.7845e-01,\n",
      "        -1.7208e-01, -1.1084e-02, -1.8422e-01,  9.4896e-02,  1.2532e-01,\n",
      "        -1.9596e-01,  1.0979e-02,  4.6357e-02, -1.1457e-01,  3.7452e-01,\n",
      "         2.4429e-01,  7.4870e-02,  1.4271e-01,  5.0059e-01,  3.8025e-02])\n"
     ]
    }
   ],
   "source": [
    "print(embedding_glove(torch.tensor(0)))"
   ]
  },
  {
   "cell_type": "code",
   "execution_count": 135,
   "id": "c79bd04a-2151-42b4-8fcb-9e47f1bbd4be",
   "metadata": {
    "execution": {
     "iopub.execute_input": "2023-05-13T09:02:58.129273Z",
     "iopub.status.busy": "2023-05-13T09:02:58.128891Z",
     "iopub.status.idle": "2023-05-13T09:02:58.134985Z",
     "shell.execute_reply": "2023-05-13T09:02:58.134150Z",
     "shell.execute_reply.started": "2023-05-13T09:02:58.129249Z"
    },
    "tags": []
   },
   "outputs": [
    {
     "data": {
      "text/plain": [
       "torch.Size([32, 21, 300])"
      ]
     },
     "execution_count": 135,
     "metadata": {},
     "output_type": "execute_result"
    }
   ],
   "source": [
    "embedding_glove(t[0]).shape"
   ]
  },
  {
   "cell_type": "markdown",
   "id": "f7190aff-5776-4deb-99cc-e6170b21b9eb",
   "metadata": {},
   "source": [
    "## 评估函数"
   ]
  },
  {
   "cell_type": "code",
   "execution_count": null,
   "id": "2b740f12-dba9-4ce3-82ad-b043fd0d62c9",
   "metadata": {},
   "outputs": [],
   "source": [
    "import sklearn\n",
    "\n",
    "# 积累epoch的预测数据\n",
    "def res_metrics_in_one_epoch(res_dict={},\n",
    "                         step=0,\n",
    "                         label=None,\n",
    "                         pred=None,\n",
    "                         ):\n",
    "    if step==0:\n",
    "        res_dict['label']=label\n",
    "        res_dict['pred']=pred\n",
    "\n",
    "    res_dict['label']=torch.cat([res_dict['label'], label], dim=0)\n",
    "    res_dict['pred']=torch.cat([res_dict['pred'], pred], dim=0)\n",
    "    return res_dict\n",
    "\n",
    "\n",
    "def cal_metrics_all_data(label, pred):\n",
    "    \"\"\"\n",
    "    input: label(numpy), pred\n",
    "    \"\"\"\n",
    "    label = label.cpu().numpy()\n",
    "    pred01 = pred.argmax(dim=1).cpu().numpy()\n",
    "    pred = pred.cpu().numpy()\n",
    "    accu = sklearn.metrics.accuracy_score(label,pred01)\n",
    "    recall = sklearn.metrics.recall_score(label, pred01)\n",
    "    f1 = sklearn.metrics.f1_score(label, pred01)\n",
    "    precision = sklearn.metrics.precision_score(label, pred01, zero_division=\"warn\")\n",
    "    auc_score = sklearn.metrics.roc_auc_score(label, pred[:,1])\n",
    "    d = {'accuracy':accu, \n",
    "         'recall':recall,\n",
    "         'f1':f1,\n",
    "         'precision':precision,\n",
    "         'auc_score':auc_score}\n",
    "    return d"
   ]
  },
  {
   "cell_type": "code",
   "execution_count": null,
   "id": "452cca0b-227b-40e0-a273-5aaa6be91717",
   "metadata": {},
   "outputs": [],
   "source": []
  },
  {
   "cell_type": "code",
   "execution_count": 488,
   "id": "0756f91c-4aa3-4007-b571-2e5d959cb633",
   "metadata": {
    "execution": {
     "iopub.execute_input": "2023-05-13T11:02:53.381487Z",
     "iopub.status.busy": "2023-05-13T11:02:53.381105Z",
     "iopub.status.idle": "2023-05-13T11:02:53.422776Z",
     "shell.execute_reply": "2023-05-13T11:02:53.422138Z",
     "shell.execute_reply.started": "2023-05-13T11:02:53.381462Z"
    },
    "tags": []
   },
   "outputs": [
    {
     "name": "stdout",
     "output_type": "stream",
     "text": [
      "tensor([0.7925, 1.3548])\n"
     ]
    }
   ],
   "source": [
    "# 样本权重计算\n",
    "\n",
    "from sklearn.utils.class_weight import compute_class_weight\n",
    "import numpy as np\n",
    "def get_class_weights(train_labels=None):\n",
    "    class_weights = compute_class_weight(class_weight = 'balanced',\n",
    "                                         classes = np.unique(train_labels),\n",
    "                                         y = train_labels)\n",
    "    class_weights = torch.tensor(class_weights,dtype=torch.float)\n",
    "    return class_weights\n",
    "\n",
    "train_labels = train_rawdata.is_duplicate\n",
    "class_weights = get_class_weights(train_labels=train_labels)\n",
    "print(class_weights)"
   ]
  },
  {
   "cell_type": "markdown",
   "id": "4e86c6b5-7a09-4a98-bd2d-de64589f088e",
   "metadata": {
    "tags": []
   },
   "source": [
    "### 实验1：双塔模式+简单模型\n",
    "1. glove 代入词emb\n",
    "2. 实现lstm双塔"
   ]
  },
  {
   "cell_type": "code",
   "execution_count": 470,
   "id": "2efbc746-8ea9-4f6e-a849-07c28cac64b2",
   "metadata": {
    "execution": {
     "iopub.execute_input": "2023-05-13T10:53:38.811901Z",
     "iopub.status.busy": "2023-05-13T10:53:38.811525Z",
     "iopub.status.idle": "2023-05-13T10:53:38.815172Z",
     "shell.execute_reply": "2023-05-13T10:53:38.814571Z",
     "shell.execute_reply.started": "2023-05-13T10:53:38.811877Z"
    },
    "tags": []
   },
   "outputs": [],
   "source": [
    "config = {\n",
    "    'embedding_dim':300,\n",
    "    'vocab_size': glove_weight.shape[0],\n",
    "    'num_layers':2, \n",
    "    'bidirectional': True,\n",
    "    'batch_size':32\n",
    "}"
   ]
  },
  {
   "cell_type": "code",
   "execution_count": 518,
   "id": "62956e84-332d-4f95-8e4e-735b7e3821e2",
   "metadata": {
    "execution": {
     "iopub.execute_input": "2023-05-13T11:19:05.199156Z",
     "iopub.status.busy": "2023-05-13T11:19:05.198779Z",
     "iopub.status.idle": "2023-05-13T11:19:05.208569Z",
     "shell.execute_reply": "2023-05-13T11:19:05.207970Z",
     "shell.execute_reply.started": "2023-05-13T11:19:05.199129Z"
    },
    "tags": []
   },
   "outputs": [],
   "source": [
    "class Model_gloveemb_bilstm(nn.Module):\n",
    "    def __init__(self, config=None, embedding_weight = None):\n",
    "        super(Model_gloveemb_bilstm, self).__init__()\n",
    "        \n",
    "        self.config = config\n",
    "        self.embedding_dim = self.config.get('embedding_dim', 300)\n",
    "        self.hidden_dim = self.config.get('hidden_dim', 200)\n",
    "        self.vocab_size = self.config.get('vocab_size', 20*10000)\n",
    "        self.num_layers = self.config.get('num_layers',2)\n",
    "        self.bidirectional = self.config.get('bidirectional',True)\n",
    "        # self.batch_size = self.config.get('batch_size',32)\n",
    "\n",
    "        if embedding_weight is not None:\n",
    "            self.word_embeds = nn.Embedding.from_pretrained(embedding_weight)\n",
    "        else:\n",
    "            self.word_embeds = nn.Embedding(self.vocab_size, self.embedding_dim)\n",
    "        \n",
    "        self.lstm = nn.LSTM(input_size=self.embedding_dim,\n",
    "                            hidden_size=self.hidden_dim//2,\n",
    "                            num_layers=self.num_layers, \n",
    "                            bidirectional=self.bidirectional,\n",
    "                            dropout=0.2,\n",
    "                            batch_first=True,)\n",
    "        \n",
    "        self.fc1 = nn.Linear(4*self.hidden_dim, self.hidden_dim)\n",
    "        self.fc2 = nn.Linear(self.hidden_dim, 2)\n",
    "        self.relu = nn.ReLU()\n",
    "        self.dropout = nn.Dropout(0.1)\n",
    "        self.softmax = nn.Softmax(dim=1)\n",
    "        self.layernorm = nn.LayerNorm(self.hidden_dim)\n",
    "        \n",
    "    def lstm_model(self, text, text_len):\n",
    "        emb = self.word_embeds(text)\n",
    "        emb_packed = pack_padded_sequence(emb, lengths=text_len.to('cpu'),\n",
    "                                            batch_first=True,\n",
    "                                            enforce_sorted=False)\n",
    "        lstm_out, (hidden, cell) = self.lstm(emb_packed)\n",
    "        lstm_out_with0, lens = pad_packed_sequence(lstm_out, batch_first=True)\n",
    "        sent = lstm_out_with0.sum(1)/lens.view(-1,1).cuda()\n",
    "        return sent\n",
    "    \n",
    "    def forward(self, text1, text1_len, text2, text2_len):\n",
    "        sent1 = self.lstm_model(text1, text1_len)\n",
    "        sent2 = self.lstm_model(text2, text2_len)\n",
    "        \n",
    "        # sent1 = self.layernorm(sent1)\n",
    "        # sent2 = self.layernorm(sent2)\n",
    "        \n",
    "        x1 = torch.cat((sent1,sent2,torch.abs(sent1-sent2),sent1*sent2), dim=1)\n",
    "        x = self.dropout(self.relu(self.fc1(x1)))\n",
    "        x = self.fc2(self.dropout(x)) # 在这里不能加relu，不然loss不会变化\n",
    "        output = self.softmax(x)\n",
    "        return output"
   ]
  },
  {
   "cell_type": "code",
   "execution_count": 519,
   "id": "d865ca76-e58c-4279-8ee4-56112ee518f5",
   "metadata": {
    "execution": {
     "iopub.execute_input": "2023-05-13T11:19:05.362777Z",
     "iopub.status.busy": "2023-05-13T11:19:05.362311Z",
     "iopub.status.idle": "2023-05-13T11:19:05.371637Z",
     "shell.execute_reply": "2023-05-13T11:19:05.371155Z",
     "shell.execute_reply.started": "2023-05-13T11:19:05.362757Z"
    },
    "tags": []
   },
   "outputs": [],
   "source": [
    "model1 = Model_gloveemb_bilstm(config, glove_weight)"
   ]
  },
  {
   "cell_type": "code",
   "execution_count": 520,
   "id": "8dd5d2b2-3059-436b-814d-98dcf91e7b46",
   "metadata": {
    "execution": {
     "iopub.execute_input": "2023-05-13T11:19:05.517438Z",
     "iopub.status.busy": "2023-05-13T11:19:05.517060Z",
     "iopub.status.idle": "2023-05-13T11:19:05.524102Z",
     "shell.execute_reply": "2023-05-13T11:19:05.523516Z",
     "shell.execute_reply.started": "2023-05-13T11:19:05.517419Z"
    },
    "tags": []
   },
   "outputs": [],
   "source": [
    "def train_valid(if_train,\n",
    "                model,\n",
    "                data_loader,\n",
    "                optimizer,\n",
    "                scheduler,\n",
    "                loss_func,\n",
    "                epoch):\n",
    "    model.cuda()\n",
    "    if if_train:\n",
    "        model.train()\n",
    "    else:\n",
    "        model.eval()\n",
    "    loss_total, res_dict = 0, {}\n",
    "    with tqdm(data_loader) as tq:\n",
    "        for step, batch_data in enumerate(tq):\n",
    "            if if_train:\n",
    "                optimizer.zero_grad()\n",
    "            batch_data = [v.cuda() for v in batch_data]\n",
    "            text1, text1_len, text2, text2_len, labels, ids = batch_data\n",
    "            logit = model(text1, text1_len, text2, text2_len)\n",
    "            batch_data = [v.cpu() for v in batch_data]\n",
    "            loss = loss_func(torch.log(logit+1e-6), labels) # 防止为0\n",
    "            if if_train:\n",
    "                loss.backward()\n",
    "                optimizer.step()\n",
    "\n",
    "            loss_curr = loss.item()\n",
    "            res_dict = res_metrics_in_one_epoch(res_dict=res_dict,\n",
    "                         step=step,\n",
    "                         label=labels,\n",
    "                         pred=logit)\n",
    "\n",
    "            loss_total += loss.item()\n",
    "\n",
    "            tq.set_postfix({\n",
    "                'train:' if if_train else 'eval:' :'===',\n",
    "                'epoch':'%d' % epoch,\n",
    "                'lr':'%.10f' %optimizer.param_groups[0]['lr'],\n",
    "                'loss': '%.03f' % loss.item()},\n",
    "                refresh=True)\n",
    "        with torch.no_grad():\n",
    "            curr_step = cal_metrics_all_data(label=res_dict['label'],\n",
    "                                             pred=res_dict['pred'])\n",
    "            print(('train:' if if_train else 'eval:')+\" loss = {:.5f}\".format(loss_total/len(data_loader)))\n",
    "            print(curr_step)\n",
    "        if if_train:\n",
    "            scheduler.step()"
   ]
  },
  {
   "cell_type": "code",
   "execution_count": 521,
   "id": "49dd233e-ff25-4029-93dd-19379e712b8b",
   "metadata": {
    "execution": {
     "iopub.execute_input": "2023-05-13T11:19:05.717963Z",
     "iopub.status.busy": "2023-05-13T11:19:05.717720Z",
     "iopub.status.idle": "2023-05-13T11:19:05.737058Z",
     "shell.execute_reply": "2023-05-13T11:19:05.736584Z",
     "shell.execute_reply.started": "2023-05-13T11:19:05.717944Z"
    },
    "tags": []
   },
   "outputs": [],
   "source": [
    "loss_func = nn.NLLLoss(weight=class_weights.cuda())\n",
    "optimizer = torch.optim.Adam(model1.parameters(), lr=1e-3, eps=1e-4)\n",
    "scheduler = torch.optim.lr_scheduler.StepLR(optimizer, step_size=5, gamma=0.5)"
   ]
  },
  {
   "cell_type": "code",
   "execution_count": 523,
   "id": "bd1e5ae4-6d47-4250-aa9b-dfbde73ea20e",
   "metadata": {
    "execution": {
     "iopub.execute_input": "2023-05-13T11:19:18.498423Z",
     "iopub.status.busy": "2023-05-13T11:19:18.498023Z",
     "iopub.status.idle": "2023-05-13T11:38:26.609770Z",
     "shell.execute_reply": "2023-05-13T11:38:26.586467Z",
     "shell.execute_reply.started": "2023-05-13T11:19:18.498397Z"
    },
    "tags": []
   },
   "outputs": [
    {
     "name": "stderr",
     "output_type": "stream",
     "text": [
      "100%|██████████| 1264/1264 [00:54<00:00, 23.40it/s, train:====, epoch=0, lr=0.0010000000, loss=0.487]\n"
     ]
    },
    {
     "name": "stdout",
     "output_type": "stream",
     "text": [
      "train:\n",
      "{'accuracy': 0.7550488901246583, 'recall': 0.8137593865369643, 'f1': 0.7103131542314732, 'precision': 0.6302011073220699, 'auc_score': 0.8468113581237229}\n"
     ]
    },
    {
     "name": "stderr",
     "output_type": "stream",
     "text": [
      "100%|██████████| 316/316 [00:07<00:00, 43.76it/s, eval:====, epoch=0, lr=0.0010000000, loss=0.418]\n"
     ]
    },
    {
     "name": "stdout",
     "output_type": "stream",
     "text": [
      "eval: loss = 0.42668\n",
      "{'accuracy': 0.7810119091648791, 'recall': 0.8708258348330334, 'f1': 0.7463262071033804, 'precision': 0.6529724866931554, 'auc_score': 0.8817439229928139}\n"
     ]
    },
    {
     "name": "stderr",
     "output_type": "stream",
     "text": [
      "100%|██████████| 1264/1264 [00:52<00:00, 24.25it/s, train:====, epoch=1, lr=0.0010000000, loss=0.389]\n"
     ]
    },
    {
     "name": "stdout",
     "output_type": "stream",
     "text": [
      "train:\n",
      "{'accuracy': 0.8033056829942691, 'recall': 0.8613929348735978, 'f1': 0.763733388750552, 'precision': 0.6859630293778456, 'auc_score': 0.8942506427862419}\n"
     ]
    },
    {
     "name": "stderr",
     "output_type": "stream",
     "text": [
      "100%|██████████| 316/316 [00:07<00:00, 43.65it/s, eval:====, epoch=1, lr=0.0010000000, loss=0.400]\n"
     ]
    },
    {
     "name": "stdout",
     "output_type": "stream",
     "text": [
      "eval: loss = 0.40339\n",
      "{'accuracy': 0.7911951081194368, 'recall': 0.8969539425448244, 'f1': 0.7606585176287712, 'precision': 0.6603204200299321, 'auc_score': 0.897287231721692}\n"
     ]
    },
    {
     "name": "stderr",
     "output_type": "stream",
     "text": [
      "100%|██████████| 1264/1264 [00:50<00:00, 25.21it/s, train:====, epoch=2, lr=0.0010000000, loss=0.387]\n"
     ]
    },
    {
     "name": "stdout",
     "output_type": "stream",
     "text": [
      "train:\n",
      "{'accuracy': 0.825305466734634, 'recall': 0.8793413750094173, 'f1': 0.7879312931293129, 'precision': 0.7137363346673099, 'auc_score': 0.9138433824811122}\n"
     ]
    },
    {
     "name": "stderr",
     "output_type": "stream",
     "text": [
      "100%|██████████| 316/316 [00:07<00:00, 43.64it/s, eval:====, epoch=2, lr=0.0010000000, loss=0.372]\n"
     ]
    },
    {
     "name": "stdout",
     "output_type": "stream",
     "text": [
      "eval: loss = 0.37626\n",
      "{'accuracy': 0.8105505831299159, 'recall': 0.8946544024528428, 'f1': 0.7774736811619386, 'precision': 0.6874343806816727, 'auc_score': 0.910741580845606}\n"
     ]
    },
    {
     "name": "stderr",
     "output_type": "stream",
     "text": [
      "100%|██████████| 1264/1264 [00:48<00:00, 26.17it/s, train:====, epoch=3, lr=0.0010000000, loss=0.434]\n"
     ]
    },
    {
     "name": "stdout",
     "output_type": "stream",
     "text": [
      "train:\n",
      "{'accuracy': 0.8423034740565674, 'recall': 0.8942138659612584, 'f1': 0.8071526261305849, 'precision': 0.7355399785165395, 'auc_score': 0.9282138338729495}\n"
     ]
    },
    {
     "name": "stderr",
     "output_type": "stream",
     "text": [
      "100%|██████████| 316/316 [00:07<00:00, 43.67it/s, eval:====, epoch=3, lr=0.0010000000, loss=0.372]\n"
     ]
    },
    {
     "name": "stdout",
     "output_type": "stream",
     "text": [
      "eval: loss = 0.36699\n",
      "{'accuracy': 0.8216707350149173, 'recall': 0.8917883090048657, 'f1': 0.7872262183192857, 'precision': 0.7046106854148564, 'auc_score': 0.9161903446708848}\n"
     ]
    },
    {
     "name": "stderr",
     "output_type": "stream",
     "text": [
      "100%|██████████| 1264/1264 [00:49<00:00, 25.52it/s, train:====, epoch=4, lr=0.0010000000, loss=0.348]\n"
     ]
    },
    {
     "name": "stdout",
     "output_type": "stream",
     "text": [
      "train:\n",
      "{'accuracy': 0.8571543321439054, 'recall': 0.9068901147654883, 'f1': 0.8241357407203143, 'precision': 0.7552212586788613, 'auc_score': 0.9393091468387225}\n"
     ]
    },
    {
     "name": "stderr",
     "output_type": "stream",
     "text": [
      "100%|██████████| 316/316 [00:07<00:00, 43.35it/s, eval:====, epoch=4, lr=0.0005000000, loss=0.346]\n"
     ]
    },
    {
     "name": "stdout",
     "output_type": "stream",
     "text": [
      "eval: loss = 0.36647\n",
      "{'accuracy': 0.8173188352195675, 'recall': 0.9118176364727054, 'f1': 0.786907877707153, 'precision': 0.6920975412324193, 'auc_score': 0.9197421759810727}\n"
     ]
    },
    {
     "name": "stderr",
     "output_type": "stream",
     "text": [
      "100%|██████████| 1264/1264 [00:48<00:00, 25.91it/s, train:====, epoch=5, lr=0.0005000000, loss=0.310]\n"
     ]
    },
    {
     "name": "stdout",
     "output_type": "stream",
     "text": [
      "train:\n",
      "{'accuracy': 0.8795959034246258, 'recall': 0.9265209419919799, 'f1': 0.8502863816039675, 'precision': 0.7856432972712043, 'auc_score': 0.954240845195669}\n"
     ]
    },
    {
     "name": "stderr",
     "output_type": "stream",
     "text": [
      "100%|██████████| 316/316 [00:07<00:00, 43.25it/s, eval:====, epoch=5, lr=0.0005000000, loss=0.338]\n"
     ]
    },
    {
     "name": "stdout",
     "output_type": "stream",
     "text": [
      "eval: loss = 0.38011\n",
      "{'accuracy': 0.8291910151145302, 'recall': 0.9023861894287809, 'f1': 0.796276963343087, 'precision': 0.7124963818645896, 'auc_score': 0.9246694395304759}\n"
     ]
    },
    {
     "name": "stderr",
     "output_type": "stream",
     "text": [
      "100%|██████████| 1264/1264 [00:48<00:00, 26.06it/s, train:====, epoch=6, lr=0.0005000000, loss=0.164]\n"
     ]
    },
    {
     "name": "stdout",
     "output_type": "stream",
     "text": [
      "train:\n",
      "{'accuracy': 0.8895005947139967, 'recall': 0.9349065369708436, 'f1': 0.8619743529384525, 'precision': 0.799597634491745, 'auc_score': 0.9602314047471284}\n"
     ]
    },
    {
     "name": "stderr",
     "output_type": "stream",
     "text": [
      "100%|██████████| 316/316 [00:07<00:00, 43.62it/s, eval:====, epoch=6, lr=0.0005000000, loss=0.329]\n"
     ]
    },
    {
     "name": "stdout",
     "output_type": "stream",
     "text": [
      "eval: loss = 0.37731\n",
      "{'accuracy': 0.8390660058682842, 'recall': 0.8831567019929347, 'f1': 0.8023738153631877, 'precision': 0.7351309365290724, 'auc_score': 0.9247971187244902}\n"
     ]
    },
    {
     "name": "stderr",
     "output_type": "stream",
     "text": [
      "100%|██████████| 1264/1264 [00:48<00:00, 26.22it/s, train:====, epoch=7, lr=0.0005000000, loss=0.200]\n"
     ]
    },
    {
     "name": "stdout",
     "output_type": "stream",
     "text": [
      "train:\n",
      "{'accuracy': 0.89680399153498, 'recall': 0.9413414368710968, 'f1': 0.8706798762664685, 'precision': 0.8098859863298834, 'auc_score': 0.9647896225710261}\n"
     ]
    },
    {
     "name": "stderr",
     "output_type": "stream",
     "text": [
      "100%|██████████| 316/316 [00:07<00:00, 44.13it/s, eval:====, epoch=7, lr=0.0005000000, loss=0.329]\n"
     ]
    },
    {
     "name": "stdout",
     "output_type": "stream",
     "text": [
      "eval: loss = 0.40625\n",
      "{'accuracy': 0.8359222822200854, 'recall': 0.891621675664867, 'f1': 0.8008141640600447, 'precision': 0.7267936214718427, 'auc_score': 0.9250254472859047}\n"
     ]
    },
    {
     "name": "stderr",
     "output_type": "stream",
     "text": [
      "100%|██████████| 1264/1264 [00:49<00:00, 25.64it/s, train:====, epoch=8, lr=0.0005000000, loss=0.174]\n"
     ]
    },
    {
     "name": "stdout",
     "output_type": "stream",
     "text": [
      "train:\n",
      "{'accuracy': 0.904240233560406, 'recall': 0.9467190128996074, 'f1': 0.8794811577523056, 'precision': 0.8211607019683868, 'auc_score': 0.9687047437429382}\n"
     ]
    },
    {
     "name": "stderr",
     "output_type": "stream",
     "text": [
      "100%|██████████| 316/316 [00:08<00:00, 38.06it/s, eval:====, epoch=8, lr=0.0005000000, loss=0.361]\n"
     ]
    },
    {
     "name": "stdout",
     "output_type": "stream",
     "text": [
      "eval: loss = 0.41420\n",
      "{'accuracy': 0.8396824222698918, 'recall': 0.8844897687129241, 'f1': 0.8032201440590763, 'precision': 0.7356283607738788, 'auc_score': 0.9240540373180745}\n"
     ]
    },
    {
     "name": "stderr",
     "output_type": "stream",
     "text": [
      "100%|██████████| 1264/1264 [00:49<00:00, 25.59it/s, train:====, epoch=9, lr=0.0005000000, loss=0.296]\n"
     ]
    },
    {
     "name": "stdout",
     "output_type": "stream",
     "text": [
      "train:\n",
      "{'accuracy': 0.9096281878987287, 'recall': 0.9506478722335688, 'f1': 0.8859108566436295, 'precision': 0.8294286048142089, 'auc_score': 0.9718062584701959}\n"
     ]
    },
    {
     "name": "stderr",
     "output_type": "stream",
     "text": [
      "100%|██████████| 316/316 [00:07<00:00, 43.92it/s, eval:====, epoch=9, lr=0.0002500000, loss=0.342]\n"
     ]
    },
    {
     "name": "stdout",
     "output_type": "stream",
     "text": [
      "eval: loss = 0.42658\n",
      "{'accuracy': 0.8406070468723031, 'recall': 0.8844231153769246, 'f1': 0.8041208999318235, 'precision': 0.7371871440873358, 'auc_score': 0.9243394632622874}\n"
     ]
    },
    {
     "name": "stderr",
     "output_type": "stream",
     "text": [
      "100%|██████████| 1264/1264 [00:48<00:00, 26.04it/s, train:====, epoch=10, lr=0.0002500000, loss=0.161]\n"
     ]
    },
    {
     "name": "stdout",
     "output_type": "stream",
     "text": [
      "train:\n",
      "{'accuracy': 0.9226562862041799, 'recall': 0.9590675093123509, 'f1': 0.9015087436316069, 'precision': 0.8504676365795725, 'auc_score': 0.9778973902406594}\n"
     ]
    },
    {
     "name": "stderr",
     "output_type": "stream",
     "text": [
      "100%|██████████| 316/316 [00:07<00:00, 43.45it/s, eval:====, epoch=10, lr=0.0002500000, loss=0.337]\n"
     ]
    },
    {
     "name": "stdout",
     "output_type": "stream",
     "text": [
      "eval: loss = 0.45390\n",
      "{'accuracy': 0.8395098256774416, 'recall': 0.8954875691528361, 'f1': 0.804997153899158, 'precision': 0.7311166739225076, 'auc_score': 0.925214615643045}\n"
     ]
    },
    {
     "name": "stderr",
     "output_type": "stream",
     "text": [
      "100%|██████████| 1264/1264 [00:48<00:00, 25.93it/s, train:====, epoch=11, lr=0.0002500000, loss=0.119]\n"
     ]
    },
    {
     "name": "stdout",
     "output_type": "stream",
     "text": [
      "train:\n",
      "{'accuracy': 0.9270309096807081, 'recall': 0.9625394486811375, 'f1': 0.9068603674478581, 'precision': 0.8572706668257187, 'auc_score': 0.9802364747629899}\n"
     ]
    },
    {
     "name": "stderr",
     "output_type": "stream",
     "text": [
      "100%|██████████| 316/316 [00:07<00:00, 43.62it/s, eval:====, epoch=11, lr=0.0002500000, loss=0.413]\n"
     ]
    },
    {
     "name": "stdout",
     "output_type": "stream",
     "text": [
      "eval: loss = 0.49650\n",
      "{'accuracy': 0.8461301378307075, 'recall': 0.8755582216889956, 'f1': 0.8080584390618992, 'precision': 0.7502213084325652, 'auc_score': 0.9249690355685873}\n"
     ]
    },
    {
     "name": "stderr",
     "output_type": "stream",
     "text": [
      "100%|██████████| 1264/1264 [00:48<00:00, 26.11it/s, train:====, epoch=12, lr=0.0002500000, loss=0.218]\n"
     ]
    },
    {
     "name": "stdout",
     "output_type": "stream",
     "text": [
      "train:\n",
      "{'accuracy': 0.9305435840400389, 'recall': 0.9645909543700455, 'f1': 0.9111186665823264, 'precision': 0.8632634867361387, 'auc_score': 0.9818395903469134}\n"
     ]
    },
    {
     "name": "stderr",
     "output_type": "stream",
     "text": [
      "100%|██████████| 316/316 [00:07<00:00, 43.93it/s, eval:====, epoch=12, lr=0.0002500000, loss=0.409]\n"
     ]
    },
    {
     "name": "stdout",
     "output_type": "stream",
     "text": [
      "eval: loss = 0.50666\n",
      "{'accuracy': 0.845291811524521, 'recall': 0.877991068452976, 'f1': 0.80764573338034, 'precision': 0.7477364970340306, 'auc_score': 0.9244672216844101}\n"
     ]
    },
    {
     "name": "stderr",
     "output_type": "stream",
     "text": [
      "100%|██████████| 1264/1264 [00:48<00:00, 26.19it/s, train:====, epoch=13, lr=0.0002500000, loss=0.233]\n"
     ]
    },
    {
     "name": "stdout",
     "output_type": "stream",
     "text": [
      "train:\n",
      "{'accuracy': 0.9334260160341072, 'recall': 0.966012590409858, 'f1': 0.9146036514082135, 'precision': 0.8683899612446853, 'auc_score': 0.9831041231226917}\n"
     ]
    },
    {
     "name": "stderr",
     "output_type": "stream",
     "text": [
      "100%|██████████| 316/316 [00:07<00:00, 44.07it/s, eval:====, epoch=13, lr=0.0002500000, loss=0.431]\n"
     ]
    },
    {
     "name": "stdout",
     "output_type": "stream",
     "text": [
      "eval: loss = 0.52109\n",
      "{'accuracy': 0.8423823261089332, 'recall': 0.8849563420649204, 'f1': 0.8059733203830454, 'precision': 0.7399336807200378, 'auc_score': 0.9240158578469273}\n"
     ]
    },
    {
     "name": "stderr",
     "output_type": "stream",
     "text": [
      "100%|██████████| 1264/1264 [00:48<00:00, 26.21it/s, train:====, epoch=14, lr=0.0002500000, loss=0.170]\n"
     ]
    },
    {
     "name": "stdout",
     "output_type": "stream",
     "text": [
      "train:\n",
      "{'accuracy': 0.9366019432472928, 'recall': 0.9685893679363751, 'f1': 0.9185406304457421, 'precision': 0.8734099813538466, 'auc_score': 0.9844275875867231}\n"
     ]
    },
    {
     "name": "stderr",
     "output_type": "stream",
     "text": [
      " 89%|████████▊ | 280/316 [00:06<00:00, 47.49it/s, eval:====, epoch=14, lr=0.0001250000, loss=0.387]"
     ]
    },
    {
     "name": "stdout",
     "output_type": "stream",
     "text": [
      "eval: loss = 0.54897\n",
      "{'accuracy': 0.8454767364450033, 'recall': 0.8737252549490102, 'f1': 0.8070742519394164, 'precision': 0.7498712888278702, 'auc_score': 0.9238372825813119}\n"
     ]
    },
    {
     "name": "stderr",
     "output_type": "stream",
     "text": [
      "100%|██████████| 1264/1264 [00:48<00:00, 26.26it/s, train:====, epoch=15, lr=0.0001250000, loss=0.151]\n"
     ]
    },
    {
     "name": "stdout",
     "output_type": "stream",
     "text": [
      "train:\n",
      "{'accuracy': 0.943114447688339, 'recall': 0.9719406333447737, 'f1': 0.92653342962363, 'precision': 0.8851795380041168, 'auc_score': 0.9867722745677834}\n"
     ]
    },
    {
     "name": "stderr",
     "output_type": "stream",
     "text": [
      "100%|██████████| 316/316 [00:07<00:00, 43.94it/s, eval:====, epoch=15, lr=0.0001250000, loss=0.447]\n"
     ]
    },
    {
     "name": "stdout",
     "output_type": "stream",
     "text": [
      "eval: loss = 0.56160\n",
      "{'accuracy': 0.8450822299479744, 'recall': 0.8821569019529427, 'f1': 0.8081702439471193, 'precision': 0.7456338028169014, 'auc_score': 0.923462710669366}\n"
     ]
    },
    {
     "name": "stderr",
     "output_type": "stream",
     "text": [
      "100%|██████████| 1264/1264 [00:48<00:00, 26.21it/s, train:====, epoch=16, lr=0.0001250000, loss=0.108]\n"
     ]
    },
    {
     "name": "stdout",
     "output_type": "stream",
     "text": [
      "train:\n",
      "{'accuracy': 0.9450144430542039, 'recall': 0.9732204893811163, 'f1': 0.9288973049849389, 'precision': 0.8884354677243097, 'auc_score': 0.9877681449818894}\n"
     ]
    },
    {
     "name": "stderr",
     "output_type": "stream",
     "text": [
      "100%|██████████| 316/316 [00:07<00:00, 43.36it/s, eval:====, epoch=16, lr=0.0001250000, loss=0.481]\n"
     ]
    },
    {
     "name": "stdout",
     "output_type": "stream",
     "text": [
      "eval: loss = 0.58316\n",
      "{'accuracy': 0.8471164040732796, 'recall': 0.8720255948810238, 'f1': 0.808428467705807, 'precision': 0.753477121548075, 'auc_score': 0.9234247033481827}\n"
     ]
    },
    {
     "name": "stderr",
     "output_type": "stream",
     "text": [
      "100%|██████████| 1264/1264 [00:48<00:00, 26.22it/s, train:====, epoch=17, lr=0.0001250000, loss=0.103]\n"
     ]
    },
    {
     "name": "stdout",
     "output_type": "stream",
     "text": [
      "train:\n",
      "{'accuracy': 0.9467074470550072, 'recall': 0.9739992298548443, 'f1': 0.930987301663506, 'precision': 0.8916135360470819, 'auc_score': 0.988247885104587}\n"
     ]
    },
    {
     "name": "stderr",
     "output_type": "stream",
     "text": [
      "100%|██████████| 316/316 [00:07<00:00, 43.65it/s, eval:====, epoch=17, lr=0.0001250000, loss=0.468]\n"
     ]
    },
    {
     "name": "stdout",
     "output_type": "stream",
     "text": [
      "eval: loss = 0.59647\n",
      "{'accuracy': 0.8479424020514338, 'recall': 0.8682263547290542, 'f1': 0.8085912039479811, 'precision': 0.7566217472118959, 'auc_score': 0.923128935038434}\n"
     ]
    },
    {
     "name": "stderr",
     "output_type": "stream",
     "text": [
      "100%|██████████| 1264/1264 [00:48<00:00, 26.12it/s, train:====, epoch=18, lr=0.0001250000, loss=0.068]\n"
     ]
    },
    {
     "name": "stdout",
     "output_type": "stream",
     "text": [
      "train:\n",
      "{'accuracy': 0.9481409394936435, 'recall': 0.9746197567447662, 'f1': 0.9327613279497533, 'precision': 0.8943503475822867, 'auc_score': 0.9888514596919138}\n"
     ]
    },
    {
     "name": "stderr",
     "output_type": "stream",
     "text": [
      "100%|██████████| 316/316 [00:07<00:00, 43.45it/s, eval:====, epoch=18, lr=0.0001250000, loss=0.511]\n"
     ]
    },
    {
     "name": "stdout",
     "output_type": "stream",
     "text": [
      "eval: loss = 0.60821\n",
      "{'accuracy': 0.8490519515743274, 'recall': 0.8638272345530894, 'f1': 0.8089382685225641, 'precision': 0.7606080169024004, 'auc_score': 0.923139850911141}\n"
     ]
    },
    {
     "name": "stderr",
     "output_type": "stream",
     "text": [
      "100%|██████████| 1264/1264 [00:48<00:00, 26.04it/s, train:====, epoch=19, lr=0.0001250000, loss=0.102]\n"
     ]
    },
    {
     "name": "stdout",
     "output_type": "stream",
     "text": [
      "train:\n",
      "{'accuracy': 0.9492037011291843, 'recall': 0.9751326648475819, 'f1': 0.9340864629101056, 'precision': 0.8963561943157863, 'auc_score': 0.9893530104592612}\n"
     ]
    },
    {
     "name": "stderr",
     "output_type": "stream",
     "text": [
      "100%|██████████| 316/316 [00:07<00:00, 43.93it/s, eval:====, epoch=19, lr=0.0000625000, loss=0.496]\n"
     ]
    },
    {
     "name": "stdout",
     "output_type": "stream",
     "text": [
      "eval: loss = 0.60657\n",
      "{'accuracy': 0.8459821978943216, 'recall': 0.8775244951009799, 'f1': 0.8082572327526668, 'precision': 0.7491251529204245, 'auc_score': 0.9226171481938514}\n"
     ]
    }
   ],
   "source": [
    "for epoch in range(20):\n",
    "    train_valid(if_train=True,\n",
    "                model=model1, \n",
    "                data_loader=train_dataset_loader,\n",
    "                optimizer=optimizer,\n",
    "                scheduler=scheduler,\n",
    "                loss_func=loss_func,\n",
    "                epoch=epoch)\n",
    "    train_valid(if_train=False,\n",
    "                model=model1, \n",
    "                data_loader=eval_dataset_loader,\n",
    "                optimizer=optimizer,\n",
    "                scheduler=scheduler,\n",
    "                loss_func=loss_func,\n",
    "                epoch=epoch)"
   ]
  },
  {
   "cell_type": "code",
   "execution_count": null,
   "id": "04760928-8c0c-4285-a16d-9c203f824e06",
   "metadata": {},
   "outputs": [],
   "source": []
  },
  {
   "cell_type": "markdown",
   "id": "49da5b87-a15a-4fcc-ba58-7f38e8c2ed24",
   "metadata": {},
   "source": [
    "## 以下为草稿"
   ]
  },
  {
   "cell_type": "code",
   "execution_count": 266,
   "id": "470168d3-4efd-4807-80f1-4aac87fe0812",
   "metadata": {
    "execution": {
     "iopub.execute_input": "2023-05-13T09:39:35.954972Z",
     "iopub.status.busy": "2023-05-13T09:39:35.954586Z",
     "iopub.status.idle": "2023-05-13T09:39:35.957849Z",
     "shell.execute_reply": "2023-05-13T09:39:35.957242Z",
     "shell.execute_reply.started": "2023-05-13T09:39:35.954947Z"
    },
    "tags": []
   },
   "outputs": [],
   "source": [
    "# lstm 实验"
   ]
  },
  {
   "cell_type": "code",
   "execution_count": 251,
   "id": "6f36d304-6b4f-4687-b70c-a1f93cb76c54",
   "metadata": {
    "execution": {
     "iopub.execute_input": "2023-05-13T09:35:35.432619Z",
     "iopub.status.busy": "2023-05-13T09:35:35.432227Z",
     "iopub.status.idle": "2023-05-13T09:35:35.442392Z",
     "shell.execute_reply": "2023-05-13T09:35:35.441868Z",
     "shell.execute_reply.started": "2023-05-13T09:35:35.432588Z"
    },
    "tags": []
   },
   "outputs": [],
   "source": [
    "lstm = nn.LSTM(input_size=300,\n",
    "                            hidden_size=200//2,\n",
    "                            num_layers=2, \n",
    "                            bidirectional=True,\n",
    "                            dropout=0.2,\n",
    "                            batch_first=True,)\n",
    "lstm = lstm.cuda()"
   ]
  },
  {
   "cell_type": "code",
   "execution_count": 246,
   "id": "33f0d03c-73a0-40eb-b90a-ac7995c5d9b9",
   "metadata": {
    "execution": {
     "iopub.execute_input": "2023-05-13T09:34:42.428398Z",
     "iopub.status.busy": "2023-05-13T09:34:42.427994Z",
     "iopub.status.idle": "2023-05-13T09:34:42.431748Z",
     "shell.execute_reply": "2023-05-13T09:34:42.431202Z",
     "shell.execute_reply.started": "2023-05-13T09:34:42.428371Z"
    },
    "tags": []
   },
   "outputs": [],
   "source": [
    "embedding_glove = embedding_glove.cuda()\n",
    "emb1 = embedding_glove(t[0])"
   ]
  },
  {
   "cell_type": "code",
   "execution_count": 253,
   "id": "b08eca43-62e9-467c-9edf-e0a4da303b90",
   "metadata": {
    "execution": {
     "iopub.execute_input": "2023-05-13T09:35:48.000121Z",
     "iopub.status.busy": "2023-05-13T09:35:47.999748Z",
     "iopub.status.idle": "2023-05-13T09:35:48.005317Z",
     "shell.execute_reply": "2023-05-13T09:35:48.004792Z",
     "shell.execute_reply.started": "2023-05-13T09:35:48.000095Z"
    },
    "tags": []
   },
   "outputs": [],
   "source": [
    "tmp_lstm_out = lstm(emb1)"
   ]
  },
  {
   "cell_type": "code",
   "execution_count": null,
   "id": "83543e62-86bf-4bbe-8feb-d56a8935ce6f",
   "metadata": {},
   "outputs": [],
   "source": [
    "tmp_lstm_out"
   ]
  },
  {
   "cell_type": "code",
   "execution_count": 256,
   "id": "36e1ef8e-f712-48b1-9744-3ae07527d280",
   "metadata": {
    "execution": {
     "iopub.execute_input": "2023-05-13T09:37:15.801596Z",
     "iopub.status.busy": "2023-05-13T09:37:15.801206Z",
     "iopub.status.idle": "2023-05-13T09:37:15.808151Z",
     "shell.execute_reply": "2023-05-13T09:37:15.807617Z",
     "shell.execute_reply.started": "2023-05-13T09:37:15.801570Z"
    },
    "tags": []
   },
   "outputs": [],
   "source": [
    "embed_packed = pack_padded_sequence(emb1, lengths=t[1].to('cpu'),\n",
    "                                    batch_first=True,\n",
    "                                    enforce_sorted=False)\n",
    "lstm_out, (hidden, cell) = lstm(embed_packed) #, self.hidden_init)"
   ]
  },
  {
   "cell_type": "code",
   "execution_count": 257,
   "id": "6beadc25-9e2c-4863-8bcb-781b3a2e522d",
   "metadata": {
    "execution": {
     "iopub.execute_input": "2023-05-13T09:37:20.386820Z",
     "iopub.status.busy": "2023-05-13T09:37:20.386416Z",
     "iopub.status.idle": "2023-05-13T09:37:20.393777Z",
     "shell.execute_reply": "2023-05-13T09:37:20.393280Z",
     "shell.execute_reply.started": "2023-05-13T09:37:20.386793Z"
    },
    "tags": []
   },
   "outputs": [
    {
     "data": {
      "text/plain": [
       "PackedSequence(data=tensor([[ 2.1798e-02,  3.7612e-03,  5.0111e-02,  ...,  3.5564e-02,\n",
       "         -2.0459e-02,  2.5435e-03],\n",
       "        [ 1.6436e-02,  1.8754e-02,  3.2143e-02,  ...,  2.6828e-02,\n",
       "         -4.5456e-02, -4.9270e-02],\n",
       "        [ 2.5027e-03,  1.2035e-02,  4.0902e-02,  ...,  2.5554e-02,\n",
       "         -5.0032e-02,  1.8674e-02],\n",
       "        ...,\n",
       "        [ 1.0788e-02,  4.6041e-02,  7.1057e-02,  ..., -1.8851e-02,\n",
       "          8.1092e-03,  3.0886e-02],\n",
       "        [ 6.0315e-03,  4.1953e-02,  7.6154e-02,  ..., -2.4376e-02,\n",
       "         -2.9777e-02, -4.1289e-02],\n",
       "        [-5.3446e-05,  4.3082e-02,  6.1371e-02,  ...,  6.7779e-03,\n",
       "         -1.0706e-02,  2.5017e-02]], device='cuda:0',\n",
       "       grad_fn=<CudnnRnnBackward0>), batch_sizes=tensor([32, 32, 32, 32, 32, 32, 31, 29, 23, 20, 14, 10,  9,  7,  7,  6,  3,  3,\n",
       "         3,  2,  1]), sorted_indices=tensor([ 2,  3, 10, 17, 16, 12, 20, 15,  6, 26,  0, 19, 21, 27, 22, 25, 30, 31,\n",
       "        11,  7, 14, 24,  5, 13,  9, 23,  8, 28, 29, 18,  1,  4],\n",
       "       device='cuda:0'), unsorted_indices=tensor([10, 30,  0,  1, 31, 22,  8, 19, 26, 24,  2, 18,  5, 23, 20,  7,  4,  3,\n",
       "        29, 11,  6, 12, 14, 25, 21, 15,  9, 13, 27, 28, 16, 17],\n",
       "       device='cuda:0'))"
      ]
     },
     "execution_count": 257,
     "metadata": {},
     "output_type": "execute_result"
    }
   ],
   "source": [
    "lstm_out"
   ]
  },
  {
   "cell_type": "code",
   "execution_count": 258,
   "id": "9266743b-14e6-4ca5-9026-c58ccc540170",
   "metadata": {
    "execution": {
     "iopub.execute_input": "2023-05-13T09:37:22.677443Z",
     "iopub.status.busy": "2023-05-13T09:37:22.677059Z",
     "iopub.status.idle": "2023-05-13T09:37:22.680696Z",
     "shell.execute_reply": "2023-05-13T09:37:22.680164Z",
     "shell.execute_reply.started": "2023-05-13T09:37:22.677420Z"
    },
    "tags": []
   },
   "outputs": [],
   "source": [
    "lstm_out, lens = pad_packed_sequence(lstm_out, batch_first=True)"
   ]
  },
  {
   "cell_type": "code",
   "execution_count": 262,
   "id": "1c2bb477-2c19-428c-9f41-3242bdd7636b",
   "metadata": {
    "execution": {
     "iopub.execute_input": "2023-05-13T09:37:43.230019Z",
     "iopub.status.busy": "2023-05-13T09:37:43.229761Z",
     "iopub.status.idle": "2023-05-13T09:37:43.233611Z",
     "shell.execute_reply": "2023-05-13T09:37:43.233164Z",
     "shell.execute_reply.started": "2023-05-13T09:37:43.230001Z"
    },
    "tags": []
   },
   "outputs": [
    {
     "data": {
      "text/plain": [
       "(torch.Size([32, 21, 200]),\n",
       " tensor([11,  7, 21, 20,  6,  9, 13, 10,  8,  8, 19, 10, 16,  8,  9, 13, 16, 16,\n",
       "          7, 11, 15, 11, 10,  8,  9, 10, 12, 11,  8,  8, 10, 10]))"
      ]
     },
     "execution_count": 262,
     "metadata": {},
     "output_type": "execute_result"
    }
   ],
   "source": [
    "lstm_out.shape, lens"
   ]
  },
  {
   "cell_type": "code",
   "execution_count": 265,
   "id": "cbc7521a-2b4d-4ddd-ac1a-a3ef32abb44c",
   "metadata": {
    "execution": {
     "iopub.execute_input": "2023-05-13T09:39:04.797905Z",
     "iopub.status.busy": "2023-05-13T09:39:04.797494Z",
     "iopub.status.idle": "2023-05-13T09:39:04.804620Z",
     "shell.execute_reply": "2023-05-13T09:39:04.804133Z",
     "shell.execute_reply.started": "2023-05-13T09:39:04.797879Z"
    },
    "tags": []
   },
   "outputs": [
    {
     "data": {
      "text/plain": [
       "(tensor([[-0.0034,  0.0332,  0.0318,  ...,  0.0412, -0.0013,  0.0066],\n",
       "         [ 0.0127,  0.0398,  0.0434,  ...,  0.0501,  0.0161, -0.0084],\n",
       "         [ 0.0202,  0.0002,  0.0609,  ...,  0.0473, -0.0124, -0.0212],\n",
       "         ...,\n",
       "         [ 0.0082,  0.0268,  0.0966,  ...,  0.0080, -0.0216, -0.0165],\n",
       "         [ 0.0067,  0.0392,  0.0966,  ...,  0.0046, -0.0061,  0.0052],\n",
       "         [ 0.0143,  0.0135,  0.1116,  ...,  0.0185, -0.0284, -0.0106]],\n",
       "        device='cuda:0', grad_fn=<SliceBackward0>),\n",
       " tensor([0., 0., 0., 0., 0., 0., 0., 0., 0., 0., 0., 0., 0., 0., 0., 0., 0., 0., 0., 0., 0., 0., 0., 0.,\n",
       "         0., 0., 0., 0., 0., 0., 0., 0., 0., 0., 0., 0., 0., 0., 0., 0., 0., 0., 0., 0., 0., 0., 0., 0.,\n",
       "         0., 0., 0., 0., 0., 0., 0., 0., 0., 0., 0., 0., 0., 0., 0., 0., 0., 0., 0., 0., 0., 0., 0., 0.,\n",
       "         0., 0., 0., 0., 0., 0., 0., 0., 0., 0., 0., 0., 0., 0., 0., 0., 0., 0., 0., 0., 0., 0., 0., 0.,\n",
       "         0., 0., 0., 0., 0., 0., 0., 0., 0., 0., 0., 0., 0., 0., 0., 0., 0., 0., 0., 0., 0., 0., 0., 0.,\n",
       "         0., 0., 0., 0., 0., 0., 0., 0., 0., 0., 0., 0., 0., 0., 0., 0., 0., 0., 0., 0., 0., 0., 0., 0.,\n",
       "         0., 0., 0., 0., 0., 0., 0., 0., 0., 0., 0., 0., 0., 0., 0., 0., 0., 0., 0., 0., 0., 0., 0., 0.,\n",
       "         0., 0., 0., 0., 0., 0., 0., 0., 0., 0., 0., 0., 0., 0., 0., 0., 0., 0., 0., 0., 0., 0., 0., 0.,\n",
       "         0., 0., 0., 0., 0., 0., 0., 0.], device='cuda:0',\n",
       "        grad_fn=<SelectBackward0>))"
      ]
     },
     "execution_count": 265,
     "metadata": {},
     "output_type": "execute_result"
    }
   ],
   "source": [
    "lstm_out[0][0:11], lstm_out[0][12]"
   ]
  },
  {
   "cell_type": "code",
   "execution_count": 274,
   "id": "0e00e80e-63b5-493f-9d76-d51b32f39ea6",
   "metadata": {
    "execution": {
     "iopub.execute_input": "2023-05-13T09:46:01.339231Z",
     "iopub.status.busy": "2023-05-13T09:46:01.338842Z",
     "iopub.status.idle": "2023-05-13T09:46:01.345462Z",
     "shell.execute_reply": "2023-05-13T09:46:01.344979Z",
     "shell.execute_reply.started": "2023-05-13T09:46:01.339206Z"
    },
    "tags": []
   },
   "outputs": [
    {
     "data": {
      "text/plain": [
       "tensor([[-0.0004,  0.0042,  0.0763,  ...,  0.0250, -0.0094, -0.0167],\n",
       "        [ 0.0144,  0.0132,  0.0642,  ...,  0.0358, -0.0122, -0.0194],\n",
       "        [ 0.0088,  0.0154,  0.0739,  ..., -0.0097, -0.0171,  0.0118],\n",
       "        ...,\n",
       "        [ 0.0372,  0.0294,  0.0614,  ...,  0.0163,  0.0021, -0.0073],\n",
       "        [-0.0061,  0.0143,  0.0740,  ..., -0.0012, -0.0260,  0.0061],\n",
       "        [-0.0003,  0.0511,  0.0738,  ...,  0.0124, -0.0034, -0.0126]],\n",
       "       device='cuda:0', grad_fn=<DivBackward0>)"
      ]
     },
     "execution_count": 274,
     "metadata": {},
     "output_type": "execute_result"
    }
   ],
   "source": [
    "lstm_out.sum(1)/lens.view(32,1).cuda()"
   ]
  },
  {
   "cell_type": "code",
   "execution_count": 278,
   "id": "91920b66-5590-4722-a3cd-a49e5090cfae",
   "metadata": {
    "execution": {
     "iopub.execute_input": "2023-05-13T09:46:35.974779Z",
     "iopub.status.busy": "2023-05-13T09:46:35.974378Z",
     "iopub.status.idle": "2023-05-13T09:46:35.982593Z",
     "shell.execute_reply": "2023-05-13T09:46:35.982105Z",
     "shell.execute_reply.started": "2023-05-13T09:46:35.974753Z"
    },
    "tags": []
   },
   "outputs": [
    {
     "data": {
      "text/plain": [
       "tensor([-0.0004,  0.0042,  0.0763,  0.0378,  0.0028,  0.0561, -0.0073,  0.0086,\n",
       "         0.0589,  0.0663,  0.0036, -0.0290, -0.0574,  0.0918, -0.0510, -0.0485,\n",
       "         0.0072, -0.1047,  0.0128,  0.0142, -0.0080,  0.0321,  0.0638, -0.0602,\n",
       "        -0.0164,  0.0308,  0.0051,  0.0881,  0.0458, -0.0882, -0.0301,  0.0348,\n",
       "         0.0584,  0.0750, -0.0235,  0.0631, -0.0719,  0.0722,  0.0197,  0.0270,\n",
       "        -0.1015,  0.0850, -0.0298, -0.0841,  0.0077,  0.0400,  0.0780, -0.0844,\n",
       "        -0.0514, -0.0167,  0.0504, -0.0650, -0.0303,  0.0235,  0.0097, -0.0331,\n",
       "        -0.1171, -0.0282, -0.0704, -0.0288,  0.0165, -0.0255, -0.1225,  0.0124,\n",
       "         0.0724, -0.0685,  0.0780,  0.0951, -0.0069, -0.0688,  0.0712,  0.1270,\n",
       "         0.0195,  0.0401, -0.0174, -0.0060,  0.0320,  0.0320,  0.0465, -0.0183,\n",
       "         0.0152,  0.0359,  0.0472,  0.0140, -0.0318, -0.0239,  0.0374, -0.0394,\n",
       "        -0.0323,  0.0885,  0.0140,  0.0496,  0.0258, -0.1242,  0.0012, -0.0382,\n",
       "         0.0128,  0.0735,  0.0237,  0.0687,  0.0238,  0.0614,  0.0749, -0.0670,\n",
       "        -0.0512, -0.0181,  0.0056, -0.0198,  0.0071, -0.0058, -0.1665, -0.0027,\n",
       "        -0.0421,  0.0739,  0.0655,  0.0857, -0.0169, -0.0413,  0.0127, -0.0467,\n",
       "         0.0292, -0.0525, -0.0446, -0.0083, -0.0189, -0.0695,  0.0024, -0.0978,\n",
       "         0.0216, -0.0714,  0.0588, -0.0077, -0.0167, -0.0165,  0.0339,  0.0163,\n",
       "         0.0015,  0.1050,  0.0907, -0.0248,  0.0693,  0.0342, -0.0303, -0.0031,\n",
       "        -0.0447, -0.0193,  0.1099,  0.0872,  0.0678, -0.0271,  0.0448, -0.0234,\n",
       "         0.0536,  0.0894,  0.0799, -0.0794, -0.0002,  0.0991, -0.0279,  0.0588,\n",
       "        -0.0082,  0.0262,  0.0583,  0.0809,  0.0371,  0.0493, -0.0354,  0.0261,\n",
       "        -0.0388,  0.0547,  0.0692,  0.0973,  0.0791,  0.0232,  0.0540,  0.0509,\n",
       "        -0.0258, -0.0007,  0.0013,  0.0625, -0.0223, -0.0347, -0.0823,  0.0100,\n",
       "        -0.0551,  0.0844, -0.0505,  0.0669, -0.0085, -0.0470, -0.0362,  0.0037,\n",
       "        -0.0577,  0.0391,  0.0652,  0.0407, -0.0457,  0.0250, -0.0094, -0.0167],\n",
       "       device='cuda:0', grad_fn=<MeanBackward1>)"
      ]
     },
     "execution_count": 278,
     "metadata": {},
     "output_type": "execute_result"
    }
   ],
   "source": [
    "lstm_out[0][0:11].mean(0)"
   ]
  },
  {
   "cell_type": "code",
   "execution_count": null,
   "id": "c2963425-a790-414d-a8a3-d4ff116a1698",
   "metadata": {},
   "outputs": [],
   "source": []
  },
  {
   "cell_type": "code",
   "execution_count": null,
   "id": "65824915-5de9-44a3-8238-812b0d76aa43",
   "metadata": {},
   "outputs": [],
   "source": []
  }
 ],
 "metadata": {
  "kernelspec": {
   "display_name": "Python 3 (ipykernel)",
   "language": "python",
   "name": "python3"
  },
  "language_info": {
   "codemirror_mode": {
    "name": "ipython",
    "version": 3
   },
   "file_extension": ".py",
   "mimetype": "text/x-python",
   "name": "python",
   "nbconvert_exporter": "python",
   "pygments_lexer": "ipython3",
   "version": "3.10.9"
  }
 },
 "nbformat": 4,
 "nbformat_minor": 5
}
