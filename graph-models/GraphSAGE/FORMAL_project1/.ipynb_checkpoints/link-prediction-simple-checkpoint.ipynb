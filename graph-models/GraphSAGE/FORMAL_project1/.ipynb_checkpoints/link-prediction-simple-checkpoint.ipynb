{
 "cells": [
  {
   "cell_type": "markdown",
   "id": "d80e932c-3d93-4f7c-a50a-e682b93c74ad",
   "metadata": {},
   "source": [
    "# Introduction\n",
    "\n",
    "The source code: https://github.com/dglai/WSDM21-Hands-on-Tutorial/blob/main/L2_large_link_prediction.ipynb\n",
    "\n",
    "This replica is simple but clear in showing how unsupvised learning works in DGL module."
   ]
  },
  {
   "cell_type": "code",
   "execution_count": null,
   "id": "f3214bfa-6d03-494a-9a7e-1bce107b56a4",
   "metadata": {},
   "outputs": [],
   "source": []
  },
  {
   "cell_type": "markdown",
   "id": "9d748902-b8c6-43ef-9f41-ca62330bf3a9",
   "metadata": {},
   "source": [
    "# loading dataset"
   ]
  },
  {
   "cell_type": "code",
   "execution_count": null,
   "id": "3a4f6314-09a6-42b9-816f-09d4dc9b52a8",
   "metadata": {},
   "outputs": [],
   "source": []
  },
  {
   "cell_type": "code",
   "execution_count": null,
   "id": "6c348a68-6fce-40e7-afd3-7b839dc358ba",
   "metadata": {},
   "outputs": [],
   "source": []
  },
  {
   "cell_type": "code",
   "execution_count": null,
   "id": "bd307364-4666-4aac-bcc5-0cf842403434",
   "metadata": {},
   "outputs": [],
   "source": []
  }
 ],
 "metadata": {
  "kernelspec": {
   "display_name": "Python 3 (ipykernel)",
   "language": "python",
   "name": "python3"
  },
  "language_info": {
   "codemirror_mode": {
    "name": "ipython",
    "version": 3
   },
   "file_extension": ".py",
   "mimetype": "text/x-python",
   "name": "python",
   "nbconvert_exporter": "python",
   "pygments_lexer": "ipython3",
   "version": "3.10.9"
  }
 },
 "nbformat": 4,
 "nbformat_minor": 5
}
