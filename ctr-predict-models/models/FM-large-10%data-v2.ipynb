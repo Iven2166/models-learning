{
 "cells": [
  {
   "cell_type": "code",
   "execution_count": 2,
   "metadata": {},
   "outputs": [],
   "source": [
    "import os, pandas as pd, numpy as np\n",
    "from sklearn.model_selection import train_test_split\n",
    "\n",
    "# 基础\n",
    "import numpy as np # linear algebra\n",
    "import pandas as pd # data processing, CSV file I/O (e.g. pd.read_csv)\n",
    "import shutil\n",
    "import os\n",
    "import time\n",
    "from tqdm import tqdm_notebook as tqdm\n",
    "import pickle\n",
    "import gc\n",
    "\n",
    "# 绘图工具\n",
    "import seaborn as sns\n",
    "import matplotlib.pyplot as plt\n",
    "\n",
    "# torch\n",
    "import torch\n",
    "import torch.nn as nn\n",
    "import torch.optim as optim\n",
    "import torch.nn.functional as F\n",
    "from torch.utils.data import Dataset, DataLoader\n",
    "\n",
    "# transformers\n",
    "# from transformers import BertTokenizer, BertModel, BertConfig\n",
    "\n",
    "# import pytorch_lightning as pl\n",
    "\n",
    "data_path = '../../data/MovieLens2018-large/'"
   ]
  },
  {
   "cell_type": "code",
   "execution_count": 3,
   "metadata": {},
   "outputs": [],
   "source": [
    "# # 存储\n",
    "X_train1 = pd.read_pickle(data_path+'X_train1.pkl')\n",
    "X_test1= pd.read_pickle(data_path+'X_test1.pkl')\n",
    "y_train= pd.read_pickle(data_path+'y_train.pkl')\n",
    "y_test= pd.read_pickle(data_path+'y_test.pkl')"
   ]
  },
  {
   "cell_type": "code",
   "execution_count": 5,
   "metadata": {},
   "outputs": [
    {
     "data": {
      "text/html": [
       "<div>\n",
       "<style scoped>\n",
       "    .dataframe tbody tr th:only-of-type {\n",
       "        vertical-align: middle;\n",
       "    }\n",
       "\n",
       "    .dataframe tbody tr th {\n",
       "        vertical-align: top;\n",
       "    }\n",
       "\n",
       "    .dataframe thead th {\n",
       "        text-align: right;\n",
       "    }\n",
       "</style>\n",
       "<table border=\"1\" class=\"dataframe\">\n",
       "  <thead>\n",
       "    <tr style=\"text-align: right;\">\n",
       "      <th></th>\n",
       "      <th>userId</th>\n",
       "      <th>movieId</th>\n",
       "      <th>movie_belong_to_(no genres listed)</th>\n",
       "      <th>movie_belong_to_Action</th>\n",
       "      <th>movie_belong_to_Adventure</th>\n",
       "      <th>movie_belong_to_Animation</th>\n",
       "      <th>movie_belong_to_Children</th>\n",
       "      <th>movie_belong_to_Comedy</th>\n",
       "      <th>movie_belong_to_Crime</th>\n",
       "      <th>movie_belong_to_Documentary</th>\n",
       "      <th>...</th>\n",
       "      <th>IMAX_by_movie</th>\n",
       "      <th>Musical_by_movie</th>\n",
       "      <th>Mystery_by_movie</th>\n",
       "      <th>Romance_by_movie</th>\n",
       "      <th>Sci-Fi_by_movie</th>\n",
       "      <th>Thriller_by_movie</th>\n",
       "      <th>War_by_movie</th>\n",
       "      <th>Western_by_movie</th>\n",
       "      <th>rating_user_mean</th>\n",
       "      <th>rating_movie_mean</th>\n",
       "    </tr>\n",
       "  </thead>\n",
       "  <tbody>\n",
       "    <tr>\n",
       "      <th>1274695</th>\n",
       "      <td>70515</td>\n",
       "      <td>95873</td>\n",
       "      <td>0</td>\n",
       "      <td>0</td>\n",
       "      <td>0</td>\n",
       "      <td>0</td>\n",
       "      <td>0</td>\n",
       "      <td>1</td>\n",
       "      <td>0</td>\n",
       "      <td>0</td>\n",
       "      <td>...</td>\n",
       "      <td>0.0</td>\n",
       "      <td>0.0</td>\n",
       "      <td>0.0</td>\n",
       "      <td>4.325581</td>\n",
       "      <td>0.0</td>\n",
       "      <td>0.000000</td>\n",
       "      <td>0.0</td>\n",
       "      <td>0.000000</td>\n",
       "      <td>3.454545</td>\n",
       "      <td>3.721591</td>\n",
       "    </tr>\n",
       "    <tr>\n",
       "      <th>1402278</th>\n",
       "      <td>244402</td>\n",
       "      <td>128360</td>\n",
       "      <td>0</td>\n",
       "      <td>0</td>\n",
       "      <td>0</td>\n",
       "      <td>0</td>\n",
       "      <td>0</td>\n",
       "      <td>0</td>\n",
       "      <td>0</td>\n",
       "      <td>0</td>\n",
       "      <td>...</td>\n",
       "      <td>0.0</td>\n",
       "      <td>0.0</td>\n",
       "      <td>0.0</td>\n",
       "      <td>0.000000</td>\n",
       "      <td>0.0</td>\n",
       "      <td>0.000000</td>\n",
       "      <td>0.0</td>\n",
       "      <td>4.315261</td>\n",
       "      <td>4.555556</td>\n",
       "      <td>3.795685</td>\n",
       "    </tr>\n",
       "    <tr>\n",
       "      <th>1753924</th>\n",
       "      <td>247757</td>\n",
       "      <td>5064</td>\n",
       "      <td>0</td>\n",
       "      <td>1</td>\n",
       "      <td>1</td>\n",
       "      <td>0</td>\n",
       "      <td>0</td>\n",
       "      <td>0</td>\n",
       "      <td>0</td>\n",
       "      <td>0</td>\n",
       "      <td>...</td>\n",
       "      <td>0.0</td>\n",
       "      <td>0.0</td>\n",
       "      <td>0.0</td>\n",
       "      <td>0.000000</td>\n",
       "      <td>0.0</td>\n",
       "      <td>4.393333</td>\n",
       "      <td>0.0</td>\n",
       "      <td>0.000000</td>\n",
       "      <td>3.190476</td>\n",
       "      <td>3.763787</td>\n",
       "    </tr>\n",
       "    <tr>\n",
       "      <th>1887606</th>\n",
       "      <td>187563</td>\n",
       "      <td>1518</td>\n",
       "      <td>0</td>\n",
       "      <td>1</td>\n",
       "      <td>0</td>\n",
       "      <td>0</td>\n",
       "      <td>0</td>\n",
       "      <td>0</td>\n",
       "      <td>0</td>\n",
       "      <td>0</td>\n",
       "      <td>...</td>\n",
       "      <td>0.0</td>\n",
       "      <td>0.0</td>\n",
       "      <td>0.0</td>\n",
       "      <td>0.000000</td>\n",
       "      <td>0.0</td>\n",
       "      <td>4.263158</td>\n",
       "      <td>0.0</td>\n",
       "      <td>0.000000</td>\n",
       "      <td>3.525000</td>\n",
       "      <td>3.373646</td>\n",
       "    </tr>\n",
       "    <tr>\n",
       "      <th>93672</th>\n",
       "      <td>29205</td>\n",
       "      <td>111</td>\n",
       "      <td>0</td>\n",
       "      <td>0</td>\n",
       "      <td>0</td>\n",
       "      <td>0</td>\n",
       "      <td>0</td>\n",
       "      <td>0</td>\n",
       "      <td>1</td>\n",
       "      <td>0</td>\n",
       "      <td>...</td>\n",
       "      <td>0.0</td>\n",
       "      <td>0.0</td>\n",
       "      <td>0.0</td>\n",
       "      <td>0.000000</td>\n",
       "      <td>0.0</td>\n",
       "      <td>4.491210</td>\n",
       "      <td>0.0</td>\n",
       "      <td>0.000000</td>\n",
       "      <td>3.109375</td>\n",
       "      <td>4.084811</td>\n",
       "    </tr>\n",
       "  </tbody>\n",
       "</table>\n",
       "<p>5 rows × 64 columns</p>\n",
       "</div>"
      ],
      "text/plain": [
       "         userId  movieId  movie_belong_to_(no genres listed)  \\\n",
       "1274695   70515    95873                                   0   \n",
       "1402278  244402   128360                                   0   \n",
       "1753924  247757     5064                                   0   \n",
       "1887606  187563     1518                                   0   \n",
       "93672     29205      111                                   0   \n",
       "\n",
       "         movie_belong_to_Action  movie_belong_to_Adventure  \\\n",
       "1274695                       0                          0   \n",
       "1402278                       0                          0   \n",
       "1753924                       1                          1   \n",
       "1887606                       1                          0   \n",
       "93672                         0                          0   \n",
       "\n",
       "         movie_belong_to_Animation  movie_belong_to_Children  \\\n",
       "1274695                          0                         0   \n",
       "1402278                          0                         0   \n",
       "1753924                          0                         0   \n",
       "1887606                          0                         0   \n",
       "93672                            0                         0   \n",
       "\n",
       "         movie_belong_to_Comedy  movie_belong_to_Crime  \\\n",
       "1274695                       1                      0   \n",
       "1402278                       0                      0   \n",
       "1753924                       0                      0   \n",
       "1887606                       0                      0   \n",
       "93672                         0                      1   \n",
       "\n",
       "         movie_belong_to_Documentary  ...  IMAX_by_movie  Musical_by_movie  \\\n",
       "1274695                            0  ...            0.0               0.0   \n",
       "1402278                            0  ...            0.0               0.0   \n",
       "1753924                            0  ...            0.0               0.0   \n",
       "1887606                            0  ...            0.0               0.0   \n",
       "93672                              0  ...            0.0               0.0   \n",
       "\n",
       "         Mystery_by_movie  Romance_by_movie  Sci-Fi_by_movie  \\\n",
       "1274695               0.0          4.325581              0.0   \n",
       "1402278               0.0          0.000000              0.0   \n",
       "1753924               0.0          0.000000              0.0   \n",
       "1887606               0.0          0.000000              0.0   \n",
       "93672                 0.0          0.000000              0.0   \n",
       "\n",
       "         Thriller_by_movie  War_by_movie  Western_by_movie  rating_user_mean  \\\n",
       "1274695           0.000000           0.0          0.000000          3.454545   \n",
       "1402278           0.000000           0.0          4.315261          4.555556   \n",
       "1753924           4.393333           0.0          0.000000          3.190476   \n",
       "1887606           4.263158           0.0          0.000000          3.525000   \n",
       "93672             4.491210           0.0          0.000000          3.109375   \n",
       "\n",
       "         rating_movie_mean  \n",
       "1274695           3.721591  \n",
       "1402278           3.795685  \n",
       "1753924           3.763787  \n",
       "1887606           3.373646  \n",
       "93672             4.084811  \n",
       "\n",
       "[5 rows x 64 columns]"
      ]
     },
     "execution_count": 5,
     "metadata": {},
     "output_type": "execute_result"
    }
   ],
   "source": [
    "X_test1.head(5)"
   ]
  },
  {
   "cell_type": "code",
   "execution_count": 53,
   "metadata": {},
   "outputs": [],
   "source": [
    "class GlobalConfig():\n",
    "    \n",
    "    def __init__(self):\n",
    "        self.name = 'v2'\n",
    "        self.batch_size = 400\n",
    "        self.epochs = 50\n",
    "#         self.max_token_size = 20\n",
    "        self.device = torch.device(\"cuda\" if torch.cuda.is_available() else \"cpu\")\n",
    "#         self.model_name = 'bert-base-cased'\n",
    "        self.hidden_size = 5\n",
    "        self.feature_dim = X_test1.shape[1]-2 # drop user and movie id \n",
    "\n",
    "CONFIG = GlobalConfig()"
   ]
  },
  {
   "cell_type": "code",
   "execution_count": 54,
   "metadata": {},
   "outputs": [],
   "source": [
    "class MyDataset(Dataset):\n",
    "    \n",
    "    def __init__(self, data):\n",
    "        self.data = data\n",
    "        self.x = torch.tensor(self.data.drop(['userId','movieId','label'], axis=1).values).float()\n",
    "        self.y = torch.tensor(self.data.loc[:,'label'].values).long()\n",
    "\n",
    "    def __len__(self):\n",
    "        return len(self.x)\n",
    "\n",
    "    def __getitem__(self, index):\n",
    "        return self.x[index], self.y[index]\n",
    "\n",
    "\n",
    "class MyDataModule():\n",
    "    \n",
    "    def __init__(self, Config, data_train, data_test):#, data_eval):\n",
    "        self.batch_size = Config.batch_size\n",
    "        self.data_train = data_train\n",
    "        self.data_test = data_test\n",
    "#         self.data_eval = data_eval\n",
    "        \n",
    "        self.train_dataset = MyDataset(self.data_train)\n",
    "        self.test_dataset = MyDataset(self.data_test)\n",
    "#         self.eval_dataset = MyDataset(self.data_eval)\n",
    "\n",
    "    def train_dataloader(self):\n",
    "        return DataLoader(\n",
    "            self.train_dataset,\n",
    "            batch_size=self.batch_size,\n",
    "            shuffle=True\n",
    "        )\n",
    "    \n",
    "    def test_dataloader(self):\n",
    "        return DataLoader(\n",
    "            self.test_dataset,\n",
    "            batch_size=self.batch_size,\n",
    "            shuffle=True\n",
    "        )\n",
    "    \n",
    "#     def eval_dataloader(self):\n",
    "#         return DataLoader(\n",
    "#             self.eval_dataset,\n",
    "#             batch_size=self.batch_size,\n",
    "#             shuffle=True\n",
    "#         )"
   ]
  },
  {
   "cell_type": "code",
   "execution_count": 55,
   "metadata": {},
   "outputs": [],
   "source": [
    "data_module = MyDataModule(\n",
    "    Config=CONFIG,\n",
    "    data_train=pd.concat([X_train1.astype(np.float32).fillna(0), y_train.astype(np.float32)], axis=1), \n",
    "    data_test=pd.concat([X_test1.astype(np.float32).fillna(0), y_test.astype(np.float32)], axis=1)\n",
    ")"
   ]
  },
  {
   "cell_type": "code",
   "execution_count": 56,
   "metadata": {},
   "outputs": [
    {
     "name": "stdout",
     "output_type": "stream",
     "text": [
      "tensor([[0.0000, 0.0000, 0.0000,  ..., 0.0000, 3.6818, 3.8081],\n",
      "        [0.0000, 0.0000, 0.0000,  ..., 0.0000, 3.3333, 3.7050],\n",
      "        [0.0000, 1.0000, 1.0000,  ..., 0.0000, 2.6462, 2.8691],\n",
      "        ...,\n",
      "        [0.0000, 0.0000, 0.0000,  ..., 0.0000, 3.0398, 3.9359],\n",
      "        [0.0000, 1.0000, 1.0000,  ..., 0.0000, 3.4783, 3.2332],\n",
      "        [0.0000, 1.0000, 1.0000,  ..., 4.5193, 3.5208, 4.1273]]) tensor([0, 0, 0, 0, 0, 0, 0, 0, 0, 0, 0, 0, 0, 0, 0, 0, 0, 0, 0, 0, 0, 0, 0, 0,\n",
      "        0, 0, 0, 0, 0, 0, 1, 0, 0, 0, 0, 0, 1, 0, 0, 0, 0, 0, 0, 0, 0, 0, 0, 0,\n",
      "        0, 0, 0, 0, 0, 0, 1, 0, 0, 1, 0, 0, 0, 0, 0, 0, 0, 0, 0, 0, 0, 0, 0, 1,\n",
      "        1, 0, 1, 0, 1, 1, 1, 0, 0, 0, 0, 0, 1, 0, 1, 0, 0, 0, 1, 0, 0, 0, 0, 1,\n",
      "        0, 0, 0, 0, 1, 0, 0, 0, 0, 0, 1, 0, 0, 0, 0, 0, 0, 0, 0, 0, 1, 0, 0, 0,\n",
      "        0, 0, 0, 0, 0, 0, 0, 0, 0, 0, 0, 0, 0, 0, 0, 1, 0, 0, 1, 0, 0, 0, 0, 0,\n",
      "        1, 0, 0, 0, 0, 0, 0, 0, 0, 0, 0, 0, 0, 0, 0, 0, 0, 0, 0, 0, 0, 0, 0, 1,\n",
      "        0, 0, 1, 0, 0, 0, 0, 0, 0, 0, 0, 0, 0, 0, 0, 0, 0, 0, 0, 0, 0, 0, 0, 0,\n",
      "        0, 0, 0, 0, 0, 0, 0, 0, 0, 1, 0, 0, 0, 0, 0, 0, 0, 0, 0, 0, 0, 1, 0, 0,\n",
      "        0, 0, 0, 0, 1, 0, 0, 0, 0, 0, 1, 0, 0, 0, 0, 0, 0, 0, 0, 1, 0, 1, 0, 0,\n",
      "        0, 0, 0, 0, 0, 0, 0, 0, 0, 0, 0, 0, 0, 0, 0, 0, 0, 0, 0, 0, 0, 0, 0, 0,\n",
      "        1, 1, 1, 0, 0, 0, 0, 0, 1, 0, 0, 0, 0, 0, 0, 1, 0, 0, 0, 0, 1, 0, 0, 0,\n",
      "        0, 0, 0, 0, 0, 0, 0, 0, 0, 0, 0, 1, 0, 0, 1, 0, 0, 0, 0, 0, 0, 0, 0, 0,\n",
      "        0, 0, 1, 1, 0, 0, 0, 1, 0, 0, 1, 0, 0, 0, 0, 0, 0, 0, 1, 0, 0, 0, 0, 0,\n",
      "        0, 0, 0, 0, 0, 0, 0, 0, 0, 0, 0, 0, 0, 0, 0, 0, 0, 0, 0, 1, 0, 0, 0, 0,\n",
      "        1, 0, 1, 0, 0, 0, 0, 0, 0, 0, 0, 0, 0, 0, 0, 1, 0, 0, 0, 0, 0, 0, 0, 0,\n",
      "        0, 0, 1, 1, 1, 0, 0, 0, 0, 0, 1, 0, 1, 0, 0, 1])\n"
     ]
    }
   ],
   "source": [
    "tmp = data_module.train_dataloader()\n",
    "for i, j in enumerate(tmp):\n",
    "    if i == 0: \n",
    "        tmp1 = j\n",
    "        break\n",
    "print(tmp1[0], tmp1[1])"
   ]
  },
  {
   "cell_type": "code",
   "execution_count": 57,
   "metadata": {},
   "outputs": [],
   "source": [
    "# 模拟输入数据、参数类型、输出、损失函数\n",
    "p_tmp = nn.Parameter(torch.zeros([62,1]))\n",
    "res_tmp = torch.mm(tmp1[0], p_tmp)\n",
    "# res_tmp"
   ]
  },
  {
   "cell_type": "markdown",
   "metadata": {},
   "source": [
    "# 模型结构 FM"
   ]
  },
  {
   "cell_type": "code",
   "execution_count": 58,
   "metadata": {},
   "outputs": [],
   "source": [
    "class FM(nn.Module):\n",
    "\n",
    "    def __init__(self, latent_dim, feature_dim):\n",
    "        \"\"\"\n",
    "\n",
    "        :param latent_dim: FM 的v，作为交互的隐向量\n",
    "        :param feature_dim: 特征维度 x [batch_size, feature_num]\n",
    "        \"\"\"\n",
    "        super(FM, self).__init__()\n",
    "\n",
    "        self.latent_dim = latent_dim\n",
    "        self.feature_dim = feature_dim\n",
    "\n",
    "        self.w0 = nn.Parameter(torch.zeros(1,))\n",
    "        self.w1 = nn.Parameter(torch.zeros([self.feature_dim, 1]))\n",
    "        self.w2 = nn.Parameter(torch.zeros([self.feature_dim, self.latent_dim]))\n",
    "\n",
    "    def forward(self, inputs):\n",
    "        x = inputs\n",
    "        first_order = self.w0 + torch.mm(x, self.w1) # shape = [batch_size, 1]\n",
    "        second_order = 1 / 2 * torch.sum(\n",
    "            torch.pow(torch.mm(x, self.w2), 2) - torch.mm(torch.pow(x, 2), torch.pow(self.w2, 2)),\n",
    "            dim=1,\n",
    "            keepdim=True\n",
    "        ) # shape = [batch_size, 1]\n",
    "        res = first_order + second_order\n",
    "        res = torch.sigmoid(res)\n",
    "        return res"
   ]
  },
  {
   "cell_type": "code",
   "execution_count": 59,
   "metadata": {},
   "outputs": [
    {
     "name": "stdout",
     "output_type": "stream",
     "text": [
      "torch.Size([1]) torch.Size([62, 1]) torch.Size([62, 5])\n"
     ]
    }
   ],
   "source": [
    "fm = FM(CONFIG.hidden_size, CONFIG.feature_dim)\n",
    "print(fm.w0.size(), fm.w1.size(), fm.w2.size())\n",
    "optimizer = optim.Adam(fm.parameters(), lr=0.0001)"
   ]
  },
  {
   "cell_type": "code",
   "execution_count": 60,
   "metadata": {
    "scrolled": true
   },
   "outputs": [
    {
     "name": "stdout",
     "output_type": "stream",
     "text": [
      "torch.Size([400, 1])\n"
     ]
    }
   ],
   "source": [
    "# torch.cuda.set_device(0)\n",
    "testing = tmp1[0]\n",
    "testing = testing.to(CONFIG.device)\n",
    "testing.cuda()\n",
    "fm.cuda()\n",
    "res_tmp = fm(testing)\n",
    "print(res_tmp.size())"
   ]
  },
  {
   "cell_type": "code",
   "execution_count": 61,
   "metadata": {},
   "outputs": [
    {
     "name": "stdout",
     "output_type": "stream",
     "text": [
      "torch.Size([1])\n",
      "torch.Size([62, 1])\n",
      "torch.Size([62, 5])\n"
     ]
    }
   ],
   "source": [
    "for i in fm.parameters():\n",
    "    print(i.size())"
   ]
  },
  {
   "cell_type": "markdown",
   "metadata": {},
   "source": [
    "## 训练函数\n",
    "出现了模型偏向于预测0的情况（1的稀疏性），因此要纳入损失权重。"
   ]
  },
  {
   "cell_type": "code",
   "execution_count": 62,
   "metadata": {},
   "outputs": [
    {
     "name": "stdout",
     "output_type": "stream",
     "text": [
      "[(0, 0.5858192828876997), (1, 3.413098217415098)]\n"
     ]
    },
    {
     "data": {
      "text/plain": [
       "tensor([0.5858, 3.4131])"
      ]
     },
     "execution_count": 62,
     "metadata": {},
     "output_type": "execute_result"
    }
   ],
   "source": [
    "# 手动计算验证权重\n",
    "import collections, sklearn\n",
    "label_all = y_train.copy()\n",
    "t=collections.Counter(label_all)\n",
    "res = []\n",
    "for k in t:\n",
    "    res.append((k, len(label_all)/2/t[k]))\n",
    "print(res)\n",
    "\n",
    "class_weights=sklearn.utils.class_weight.compute_class_weight(\n",
    "    class_weight='balanced',classes=np.unique(label_all),y=label_all)\n",
    "class_weights=torch.tensor(class_weights,dtype=torch.float)\n",
    "class_weights"
   ]
  },
  {
   "cell_type": "code",
   "execution_count": 63,
   "metadata": {},
   "outputs": [],
   "source": [
    "loss_fn = nn.CrossEntropyLoss(reduction='mean', weight=class_weights)\n",
    "loss_fn = loss_fn.cuda()"
   ]
  },
  {
   "cell_type": "code",
   "execution_count": 64,
   "metadata": {},
   "outputs": [],
   "source": [
    "def train(model, Config, train_iter, optimizer, loss_fn):\n",
    "    model.cuda()\n",
    "    model.train()\n",
    "    correct_curr, corrects, train_loss = 0, 0, 0\n",
    "    recall_total = 0\n",
    "    i = 0\n",
    "    label_pos = 0\n",
    "    print('total training batch = {}'.format(len(train_iter)))\n",
    "    for batch in tqdm(train_iter):\n",
    "        optimizer.zero_grad()\n",
    "        x, label = batch\n",
    "        x = x.cuda()\n",
    "        label = label.cuda()\n",
    "        batch_len = x.size()[0]\n",
    "        \n",
    "#         text1_emb = batch['pooler_output1']\n",
    "#         text1_emb = text1_emb.cuda()\n",
    "#         text2_emb = batch['pooler_output2']\n",
    "#         text2_emb = text2_emb.cuda()\n",
    "        \n",
    "        logit = model(x)\n",
    "        logit = torch.cat([1-logit, logit], dim=1)\n",
    "        \n",
    "#         loss_func = torch.nn.MSELoss()\n",
    "#         loss_func = nn.NLLLoss()\n",
    "#         loss_func = nn.CrossEntropyLoss()\n",
    "        loss_func = loss_fn\n",
    "        loss = loss_func(logit, label)\n",
    "        loss.backward()\n",
    "        optimizer.step()\n",
    "        \n",
    "        loss_curr = loss.item()\n",
    "        if i%1000==0: print('loss_curr',loss_curr)\n",
    "        train_loss += loss_curr\n",
    "#         if i%1000==0: print('label',label)\n",
    "#         if i%1000==0: print('logit',logit)\n",
    "        correct_curr = (torch.argmax(logit,dim=1)==label).sum().item()\n",
    "        corrects += correct_curr\n",
    "        recall_total += ((torch.argmax(logit,dim=1)==label)&(label>0)).sum().item()\n",
    "        label_pos += (label>0).sum()\n",
    "        \n",
    "#         text1_emb = text1_emb.to('cpu')\n",
    "#         text2_emb = text2_emb.to('cpu')\n",
    "        x = x.to('cpu')\n",
    "        logit = logit.to('cpu')\n",
    "        label = label.to('cpu')\n",
    "        del loss \n",
    "        del x\n",
    "        del logit\n",
    "        torch.cuda.empty_cache()\n",
    "        i += 1\n",
    "        \n",
    "#         if i % 1000 ==0 :\n",
    "#             print('batch = {}, accuracy_curr = {:.2f}%, loss_curr = {}'.format(\n",
    "#                 i, correct_curr/batch_len*100, loss_curr/batch_len))\n",
    "            \n",
    "        \n",
    "    size = len(train_iter.dataset)\n",
    "    train_loss /= size\n",
    "    accuracy = 100.0 * corrects / size\n",
    "    recall = 100.0 * recall_total / label_pos\n",
    "    return train_loss, accuracy, recall"
   ]
  },
  {
   "cell_type": "code",
   "execution_count": 65,
   "metadata": {},
   "outputs": [],
   "source": [
    "def val(model, Config, test_iter, loss_fn):\n",
    "    model.cuda()\n",
    "    model.eval()\n",
    "    correct_curr, corrects, test_loss = 0, 0, 0\n",
    "    recall_total = 0\n",
    "    i = 0\n",
    "    print('total testing batch = {}'.format(len(test_iter)))\n",
    "    logit_all = []\n",
    "    label_pos = 0\n",
    "    for batch in tqdm(test_iter):\n",
    "#         optimizer.zero_grad()\n",
    "        x, label = batch\n",
    "        x = x.cuda()\n",
    "        label = label.cuda()\n",
    "        batch_len = x.size()[0]\n",
    "        \n",
    "#         text1_emb = batch['pooler_output1']\n",
    "#         text1_emb = text1_emb.cuda()\n",
    "#         text2_emb = batch['pooler_output2']\n",
    "#         text2_emb = text2_emb.cuda()\n",
    "        \n",
    "        logit = model(x)\n",
    "        logit = torch.cat([1-logit, logit], dim=1)\n",
    "        \n",
    "        if len(logit_all)==0:\n",
    "            logit_all = logit\n",
    "        else:\n",
    "            logit_all = torch.cat([logit_all, logit], dim=0)\n",
    "        \n",
    "#         loss_func = torch.nn.MSELoss()\n",
    "#         loss_func = nn.NLLLoss()\n",
    "#         loss_func = nn.CrossEntropyLoss()\n",
    "        loss_func = loss_fn\n",
    "        loss = loss_func(logit, label)\n",
    "#         loss.backward()\n",
    "#         optimizer.step()\n",
    "        \n",
    "        loss_curr = loss.item()\n",
    "        if i%1000==0: print('loss_curr',loss_curr)\n",
    "        test_loss += loss_curr\n",
    "#         if i%1000==0: print('label',label)\n",
    "#         if i%1000==0: print('logit',logit)\n",
    "        correct_curr = (torch.argmax(logit,dim=1)==label).sum().item()\n",
    "        corrects += correct_curr\n",
    "        recall_total += ((torch.argmax(logit,dim=1)==label)&(label>0)).sum().item()\n",
    "        label_pos += (label>0).sum()\n",
    "        \n",
    "#         text1_emb = text1_emb.to('cpu')\n",
    "#         text2_emb = text2_emb.to('cpu')\n",
    "        x = x.to('cpu')\n",
    "        logit = logit.to('cpu')\n",
    "        label = label.to('cpu')\n",
    "        del loss \n",
    "        del x\n",
    "        del logit\n",
    "        torch.cuda.empty_cache()\n",
    "        i += 1\n",
    "        \n",
    "#         if i % 1000 ==0 :\n",
    "#             print('batch = {}, accuracy_curr = {:.2f}%, loss_curr = {}'.format(\n",
    "#                 i, correct_curr/batch_len*100, loss_curr/batch_len))\n",
    "            \n",
    "        \n",
    "    size = len(test_iter.dataset)\n",
    "    test_loss /= size\n",
    "    accuracy = 100.0 * corrects / size\n",
    "    recall = 100.0 * recall_total / label_pos\n",
    "    return test_loss, accuracy, recall, logit_all"
   ]
  },
  {
   "cell_type": "code",
   "execution_count": 66,
   "metadata": {
    "scrolled": true
   },
   "outputs": [
    {
     "name": "stdout",
     "output_type": "stream",
     "text": [
      "Epoch 0\n",
      "total training batch = 5551\n"
     ]
    },
    {
     "name": "stderr",
     "output_type": "stream",
     "text": [
      "/usr/local/lib/python3.7/dist-packages/ipykernel_launcher.py:9: TqdmDeprecationWarning: This function will be removed in tqdm==5.0.0\n",
      "Please use `tqdm.notebook.tqdm` instead of `tqdm.tqdm_notebook`\n",
      "  if __name__ == '__main__':\n"
     ]
    },
    {
     "data": {
      "application/vnd.jupyter.widget-view+json": {
       "model_id": "94d15ffa0391413abf500b09c942127e",
       "version_major": 2,
       "version_minor": 0
      },
      "text/plain": [
       "HBox(children=(FloatProgress(value=0.0, max=5551.0), HTML(value='')))"
      ]
     },
     "metadata": {},
     "output_type": "display_data"
    },
    {
     "name": "stdout",
     "output_type": "stream",
     "text": [
      "loss_curr 0.6931470036506653\n",
      "loss_curr 0.6757427453994751\n",
      "loss_curr 0.673324465751648\n",
      "loss_curr 0.6809438467025757\n",
      "loss_curr 0.6556721925735474\n",
      "loss_curr 0.6800030469894409\n",
      "\n",
      "Train Epoch: 0 \t Loss: 0.0016871425510895772 \t Accuracy: 51.58% Recall: 69.00%\n",
      "total testing batch = 1388\n"
     ]
    },
    {
     "name": "stderr",
     "output_type": "stream",
     "text": [
      "/usr/local/lib/python3.7/dist-packages/ipykernel_launcher.py:10: TqdmDeprecationWarning: This function will be removed in tqdm==5.0.0\n",
      "Please use `tqdm.notebook.tqdm` instead of `tqdm.tqdm_notebook`\n",
      "  # Remove the CWD from sys.path while we load stuff.\n"
     ]
    },
    {
     "data": {
      "application/vnd.jupyter.widget-view+json": {
       "model_id": "ce46496f7a5a46e195f3eaab2cd718a1",
       "version_major": 2,
       "version_minor": 0
      },
      "text/plain": [
       "HBox(children=(FloatProgress(value=0.0, max=1388.0), HTML(value='')))"
      ]
     },
     "metadata": {},
     "output_type": "display_data"
    },
    {
     "name": "stdout",
     "output_type": "stream",
     "text": [
      "loss_curr 0.6841935515403748\n",
      "loss_curr 0.6623879671096802\n",
      "\n",
      "Train Epoch: 0 \t Loss: 0.0016862901145820275 \t Accuracy: 56.17% Recall: 60.00%\n",
      "Epoch 1\n",
      "total training batch = 5551\n"
     ]
    },
    {
     "data": {
      "application/vnd.jupyter.widget-view+json": {
       "model_id": "32ef121e09444e9493f8a14e69e9455e",
       "version_major": 2,
       "version_minor": 0
      },
      "text/plain": [
       "HBox(children=(FloatProgress(value=0.0, max=5551.0), HTML(value='')))"
      ]
     },
     "metadata": {},
     "output_type": "display_data"
    },
    {
     "name": "stdout",
     "output_type": "stream",
     "text": [
      "loss_curr 0.6638880968093872\n",
      "loss_curr 0.6642961502075195\n",
      "loss_curr 0.6739119291305542\n",
      "loss_curr 0.669680655002594\n",
      "loss_curr 0.6712242960929871\n",
      "loss_curr 0.6582357883453369\n",
      "\n",
      "Train Epoch: 1 \t Loss: 0.0016604038330809872 \t Accuracy: 55.82% Recall: 67.00%\n",
      "total testing batch = 1388\n"
     ]
    },
    {
     "data": {
      "application/vnd.jupyter.widget-view+json": {
       "model_id": "a8895cf46dcd41678d379298b306f3c0",
       "version_major": 2,
       "version_minor": 0
      },
      "text/plain": [
       "HBox(children=(FloatProgress(value=0.0, max=1388.0), HTML(value='')))"
      ]
     },
     "metadata": {},
     "output_type": "display_data"
    },
    {
     "name": "stdout",
     "output_type": "stream",
     "text": [
      "loss_curr 0.6769371628761292\n",
      "loss_curr 0.6707433462142944\n",
      "\n",
      "Train Epoch: 1 \t Loss: 0.0016817552080287041 \t Accuracy: 55.50% Recall: 62.00%\n",
      "Epoch 2\n",
      "total training batch = 5551\n"
     ]
    },
    {
     "data": {
      "application/vnd.jupyter.widget-view+json": {
       "model_id": "ffebeeb4a282460a8c23d95b54149e34",
       "version_major": 2,
       "version_minor": 0
      },
      "text/plain": [
       "HBox(children=(FloatProgress(value=0.0, max=5551.0), HTML(value='')))"
      ]
     },
     "metadata": {},
     "output_type": "display_data"
    },
    {
     "name": "stdout",
     "output_type": "stream",
     "text": [
      "loss_curr 0.6735067367553711\n",
      "loss_curr 0.651711642742157\n",
      "loss_curr 0.6780903339385986\n",
      "loss_curr 0.6692145466804504\n",
      "loss_curr 0.661107063293457\n",
      "loss_curr 0.6426785588264465\n",
      "\n",
      "Train Epoch: 2 \t Loss: 0.0016483364407398836 \t Accuracy: 56.91% Recall: 68.00%\n",
      "total testing batch = 1388\n"
     ]
    },
    {
     "data": {
      "application/vnd.jupyter.widget-view+json": {
       "model_id": "71e607960e3b44f6a97ec3a1e035eaac",
       "version_major": 2,
       "version_minor": 0
      },
      "text/plain": [
       "HBox(children=(FloatProgress(value=0.0, max=1388.0), HTML(value='')))"
      ]
     },
     "metadata": {},
     "output_type": "display_data"
    },
    {
     "name": "stdout",
     "output_type": "stream",
     "text": [
      "loss_curr 0.6855422854423523\n",
      "loss_curr 0.6903583407402039\n",
      "\n",
      "Train Epoch: 2 \t Loss: 0.0016776336311752585 \t Accuracy: 57.39% Recall: 60.00%\n",
      "Epoch 3\n",
      "total training batch = 5551\n"
     ]
    },
    {
     "data": {
      "application/vnd.jupyter.widget-view+json": {
       "model_id": "73cac2a19d6546aca1496e2682a0ee86",
       "version_major": 2,
       "version_minor": 0
      },
      "text/plain": [
       "HBox(children=(FloatProgress(value=0.0, max=5551.0), HTML(value='')))"
      ]
     },
     "metadata": {},
     "output_type": "display_data"
    },
    {
     "name": "stdout",
     "output_type": "stream",
     "text": [
      "loss_curr 0.663593053817749\n",
      "loss_curr 0.655134379863739\n",
      "loss_curr 0.6580093502998352\n",
      "loss_curr 0.6447633504867554\n",
      "loss_curr 0.6596182584762573\n",
      "loss_curr 0.6737065315246582\n",
      "\n",
      "Train Epoch: 3 \t Loss: 0.0016393438751302828 \t Accuracy: 57.78% Recall: 68.00%\n",
      "total testing batch = 1388\n"
     ]
    },
    {
     "data": {
      "application/vnd.jupyter.widget-view+json": {
       "model_id": "e8d33fc41e0448719b678660d756166d",
       "version_major": 2,
       "version_minor": 0
      },
      "text/plain": [
       "HBox(children=(FloatProgress(value=0.0, max=1388.0), HTML(value='')))"
      ]
     },
     "metadata": {},
     "output_type": "display_data"
    },
    {
     "name": "stdout",
     "output_type": "stream",
     "text": [
      "loss_curr 0.6911808848381042\n",
      "loss_curr 0.6517124772071838\n",
      "\n",
      "Train Epoch: 3 \t Loss: 0.0016747845387335054 \t Accuracy: 58.40% Recall: 60.00%\n",
      "Epoch 4\n",
      "total training batch = 5551\n"
     ]
    },
    {
     "data": {
      "application/vnd.jupyter.widget-view+json": {
       "model_id": "9eb08d595e834262b91b1f89ffd3dd93",
       "version_major": 2,
       "version_minor": 0
      },
      "text/plain": [
       "HBox(children=(FloatProgress(value=0.0, max=5551.0), HTML(value='')))"
      ]
     },
     "metadata": {},
     "output_type": "display_data"
    },
    {
     "name": "stdout",
     "output_type": "stream",
     "text": [
      "loss_curr 0.6603165864944458\n",
      "loss_curr 0.6271160244941711\n",
      "loss_curr 0.6632574200630188\n",
      "loss_curr 0.6405104398727417\n",
      "loss_curr 0.6570984125137329\n",
      "loss_curr 0.6450449228286743\n",
      "\n",
      "Train Epoch: 4 \t Loss: 0.0016322788111019465 \t Accuracy: 58.56% Recall: 68.00%\n",
      "total testing batch = 1388\n"
     ]
    },
    {
     "data": {
      "application/vnd.jupyter.widget-view+json": {
       "model_id": "ee3ecf74f8b64fec86246027a24f8f65",
       "version_major": 2,
       "version_minor": 0
      },
      "text/plain": [
       "HBox(children=(FloatProgress(value=0.0, max=1388.0), HTML(value='')))"
      ]
     },
     "metadata": {},
     "output_type": "display_data"
    },
    {
     "name": "stdout",
     "output_type": "stream",
     "text": [
      "loss_curr 0.665015459060669\n",
      "loss_curr 0.6683122515678406\n",
      "\n",
      "Train Epoch: 4 \t Loss: 0.0016730253701969697 \t Accuracy: 57.67% Recall: 61.00%\n",
      "Epoch 5\n",
      "total training batch = 5551\n"
     ]
    },
    {
     "data": {
      "application/vnd.jupyter.widget-view+json": {
       "model_id": "0fa1e867e38f44dc9f62d472a8f2ee87",
       "version_major": 2,
       "version_minor": 0
      },
      "text/plain": [
       "HBox(children=(FloatProgress(value=0.0, max=5551.0), HTML(value='')))"
      ]
     },
     "metadata": {},
     "output_type": "display_data"
    },
    {
     "name": "stdout",
     "output_type": "stream",
     "text": [
      "loss_curr 0.6638771891593933\n",
      "loss_curr 0.6617335081100464\n",
      "loss_curr 0.6687204837799072\n",
      "loss_curr 0.6541511416435242\n",
      "loss_curr 0.6511215567588806\n",
      "loss_curr 0.6517561674118042\n",
      "\n",
      "Train Epoch: 5 \t Loss: 0.0016263936879799662 \t Accuracy: 59.19% Recall: 68.00%\n",
      "total testing batch = 1388\n"
     ]
    },
    {
     "data": {
      "application/vnd.jupyter.widget-view+json": {
       "model_id": "051d7a6b2772435aa01c2a1dba8cce74",
       "version_major": 2,
       "version_minor": 0
      },
      "text/plain": [
       "HBox(children=(FloatProgress(value=0.0, max=1388.0), HTML(value='')))"
      ]
     },
     "metadata": {},
     "output_type": "display_data"
    },
    {
     "name": "stdout",
     "output_type": "stream",
     "text": [
      "loss_curr 0.670126736164093\n",
      "loss_curr 0.6680941581726074\n",
      "\n",
      "Train Epoch: 5 \t Loss: 0.0016711656192451936 \t Accuracy: 57.96% Recall: 62.00%\n",
      "Epoch 6\n",
      "total training batch = 5551\n"
     ]
    },
    {
     "data": {
      "application/vnd.jupyter.widget-view+json": {
       "model_id": "ba1497d4db434ab984c37f3facf8aa81",
       "version_major": 2,
       "version_minor": 0
      },
      "text/plain": [
       "HBox(children=(FloatProgress(value=0.0, max=5551.0), HTML(value='')))"
      ]
     },
     "metadata": {},
     "output_type": "display_data"
    },
    {
     "name": "stdout",
     "output_type": "stream",
     "text": [
      "loss_curr 0.6404860019683838\n",
      "loss_curr 0.6467239856719971\n",
      "loss_curr 0.6447390913963318\n",
      "loss_curr 0.6508142352104187\n",
      "loss_curr 0.6545806527137756\n",
      "loss_curr 0.6587202548980713\n",
      "\n",
      "Train Epoch: 6 \t Loss: 0.0016214651164872598 \t Accuracy: 59.71% Recall: 68.00%\n",
      "total testing batch = 1388\n"
     ]
    },
    {
     "data": {
      "application/vnd.jupyter.widget-view+json": {
       "model_id": "8a36b7921b9047a3af8f35df3dfa79df",
       "version_major": 2,
       "version_minor": 0
      },
      "text/plain": [
       "HBox(children=(FloatProgress(value=0.0, max=1388.0), HTML(value='')))"
      ]
     },
     "metadata": {},
     "output_type": "display_data"
    },
    {
     "name": "stdout",
     "output_type": "stream",
     "text": [
      "loss_curr 0.6633030772209167\n",
      "loss_curr 0.6699325442314148\n",
      "\n",
      "Train Epoch: 6 \t Loss: 0.001668922013131133 \t Accuracy: 59.07% Recall: 61.00%\n",
      "Epoch 7\n",
      "total training batch = 5551\n"
     ]
    },
    {
     "data": {
      "application/vnd.jupyter.widget-view+json": {
       "model_id": "bb3e6504748345cc9743e22474fbdb81",
       "version_major": 2,
       "version_minor": 0
      },
      "text/plain": [
       "HBox(children=(FloatProgress(value=0.0, max=5551.0), HTML(value='')))"
      ]
     },
     "metadata": {},
     "output_type": "display_data"
    },
    {
     "name": "stdout",
     "output_type": "stream",
     "text": [
      "loss_curr 0.6325383186340332\n",
      "loss_curr 0.6563432216644287\n",
      "loss_curr 0.6720870733261108\n",
      "loss_curr 0.6452151536941528\n",
      "loss_curr 0.6503538489341736\n",
      "loss_curr 0.6617256999015808\n",
      "\n",
      "Train Epoch: 7 \t Loss: 0.0016172517941009917 \t Accuracy: 60.20% Recall: 68.00%\n",
      "total testing batch = 1388\n"
     ]
    },
    {
     "data": {
      "application/vnd.jupyter.widget-view+json": {
       "model_id": "329cbdf936754f08b8a6a4b5a6ebf1a2",
       "version_major": 2,
       "version_minor": 0
      },
      "text/plain": [
       "HBox(children=(FloatProgress(value=0.0, max=1388.0), HTML(value='')))"
      ]
     },
     "metadata": {},
     "output_type": "display_data"
    },
    {
     "name": "stdout",
     "output_type": "stream",
     "text": [
      "loss_curr 0.6460656523704529\n",
      "loss_curr 0.6553996205329895\n",
      "\n",
      "Train Epoch: 7 \t Loss: 0.0016673638590897094 \t Accuracy: 59.55% Recall: 60.00%\n",
      "Epoch 8\n",
      "total training batch = 5551\n"
     ]
    },
    {
     "data": {
      "application/vnd.jupyter.widget-view+json": {
       "model_id": "a78af6d391b44fa49a9bc2c241fb090d",
       "version_major": 2,
       "version_minor": 0
      },
      "text/plain": [
       "HBox(children=(FloatProgress(value=0.0, max=5551.0), HTML(value='')))"
      ]
     },
     "metadata": {},
     "output_type": "display_data"
    },
    {
     "name": "stdout",
     "output_type": "stream",
     "text": [
      "loss_curr 0.6322053670883179\n",
      "loss_curr 0.6526638865470886\n",
      "loss_curr 0.6544750928878784\n",
      "loss_curr 0.6228066086769104\n",
      "loss_curr 0.6401516199111938\n",
      "loss_curr 0.6453490257263184\n",
      "\n",
      "Train Epoch: 8 \t Loss: 0.001613628080423258 \t Accuracy: 60.60% Recall: 68.00%\n",
      "total testing batch = 1388\n"
     ]
    },
    {
     "data": {
      "application/vnd.jupyter.widget-view+json": {
       "model_id": "b4487bb79bd549458fd1c72050f16dfa",
       "version_major": 2,
       "version_minor": 0
      },
      "text/plain": [
       "HBox(children=(FloatProgress(value=0.0, max=1388.0), HTML(value='')))"
      ]
     },
     "metadata": {},
     "output_type": "display_data"
    },
    {
     "name": "stdout",
     "output_type": "stream",
     "text": [
      "loss_curr 0.6497019529342651\n",
      "loss_curr 0.6566920876502991\n",
      "\n",
      "Train Epoch: 8 \t Loss: 0.0016662982754471018 \t Accuracy: 59.11% Recall: 61.00%\n",
      "Epoch 9\n",
      "total training batch = 5551\n"
     ]
    },
    {
     "data": {
      "application/vnd.jupyter.widget-view+json": {
       "model_id": "0fc487b9fbdb4ceb9c21ea59f6e1f3cb",
       "version_major": 2,
       "version_minor": 0
      },
      "text/plain": [
       "HBox(children=(FloatProgress(value=0.0, max=5551.0), HTML(value='')))"
      ]
     },
     "metadata": {},
     "output_type": "display_data"
    },
    {
     "name": "stdout",
     "output_type": "stream",
     "text": [
      "loss_curr 0.6417223811149597\n",
      "loss_curr 0.6388857960700989\n",
      "loss_curr 0.6418604850769043\n",
      "loss_curr 0.6431542634963989\n",
      "loss_curr 0.6373850107192993\n",
      "loss_curr 0.6302884817123413\n",
      "\n",
      "Train Epoch: 9 \t Loss: 0.0016104618872229857 \t Accuracy: 60.93% Recall: 68.00%\n",
      "total testing batch = 1388\n"
     ]
    },
    {
     "data": {
      "application/vnd.jupyter.widget-view+json": {
       "model_id": "df75d3ae8560424b930d04192d977af9",
       "version_major": 2,
       "version_minor": 0
      },
      "text/plain": [
       "HBox(children=(FloatProgress(value=0.0, max=1388.0), HTML(value='')))"
      ]
     },
     "metadata": {},
     "output_type": "display_data"
    },
    {
     "name": "stdout",
     "output_type": "stream",
     "text": [
      "loss_curr 0.6819741129875183\n",
      "loss_curr 0.6664085388183594\n",
      "\n",
      "Train Epoch: 9 \t Loss: 0.0016653742345942497 \t Accuracy: 58.68% Recall: 62.00%\n",
      "Epoch 10\n",
      "total training batch = 5551\n"
     ]
    },
    {
     "data": {
      "application/vnd.jupyter.widget-view+json": {
       "model_id": "04c190679a93495b91a78fc7500ece85",
       "version_major": 2,
       "version_minor": 0
      },
      "text/plain": [
       "HBox(children=(FloatProgress(value=0.0, max=5551.0), HTML(value='')))"
      ]
     },
     "metadata": {},
     "output_type": "display_data"
    },
    {
     "name": "stdout",
     "output_type": "stream",
     "text": [
      "loss_curr 0.6320594549179077\n",
      "loss_curr 0.6431487798690796\n",
      "loss_curr 0.6258798837661743\n",
      "loss_curr 0.6316563487052917\n",
      "loss_curr 0.6533063054084778\n",
      "loss_curr 0.6366367936134338\n",
      "\n",
      "Train Epoch: 10 \t Loss: 0.0016077643709734362 \t Accuracy: 61.21% Recall: 68.00%\n",
      "total testing batch = 1388\n"
     ]
    },
    {
     "data": {
      "application/vnd.jupyter.widget-view+json": {
       "model_id": "1cc01aa6a4f8483f828a72665f0f9bac",
       "version_major": 2,
       "version_minor": 0
      },
      "text/plain": [
       "HBox(children=(FloatProgress(value=0.0, max=1388.0), HTML(value='')))"
      ]
     },
     "metadata": {},
     "output_type": "display_data"
    },
    {
     "name": "stdout",
     "output_type": "stream",
     "text": [
      "loss_curr 0.6422926187515259\n",
      "loss_curr 0.6598641872406006\n",
      "\n",
      "Train Epoch: 10 \t Loss: 0.0016636600249235027 \t Accuracy: 60.35% Recall: 60.00%\n",
      "Epoch 11\n",
      "total training batch = 5551\n"
     ]
    },
    {
     "data": {
      "application/vnd.jupyter.widget-view+json": {
       "model_id": "70c95db8c4df444997d911ddbf33c6be",
       "version_major": 2,
       "version_minor": 0
      },
      "text/plain": [
       "HBox(children=(FloatProgress(value=0.0, max=5551.0), HTML(value='')))"
      ]
     },
     "metadata": {},
     "output_type": "display_data"
    },
    {
     "name": "stdout",
     "output_type": "stream",
     "text": [
      "loss_curr 0.6285778284072876\n",
      "loss_curr 0.6590883135795593\n",
      "loss_curr 0.6444216966629028\n",
      "loss_curr 0.6216086745262146\n",
      "loss_curr 0.6423162221908569\n",
      "loss_curr 0.6341200470924377\n",
      "\n",
      "Train Epoch: 11 \t Loss: 0.0016054088462306593 \t Accuracy: 61.47% Recall: 68.00%\n",
      "total testing batch = 1388\n"
     ]
    },
    {
     "data": {
      "application/vnd.jupyter.widget-view+json": {
       "model_id": "ef89b53f517e49248e5ba7397c382546",
       "version_major": 2,
       "version_minor": 0
      },
      "text/plain": [
       "HBox(children=(FloatProgress(value=0.0, max=1388.0), HTML(value='')))"
      ]
     },
     "metadata": {},
     "output_type": "display_data"
    },
    {
     "name": "stdout",
     "output_type": "stream",
     "text": [
      "loss_curr 0.673352837562561\n",
      "loss_curr 0.6567177176475525\n",
      "\n",
      "Train Epoch: 11 \t Loss: 0.0016625595645492158 \t Accuracy: 61.27% Recall: 59.00%\n",
      "Epoch 12\n",
      "total training batch = 5551\n"
     ]
    },
    {
     "data": {
      "application/vnd.jupyter.widget-view+json": {
       "model_id": "53452e2a04044358a8642f6a9a38f5cb",
       "version_major": 2,
       "version_minor": 0
      },
      "text/plain": [
       "HBox(children=(FloatProgress(value=0.0, max=5551.0), HTML(value='')))"
      ]
     },
     "metadata": {},
     "output_type": "display_data"
    },
    {
     "name": "stdout",
     "output_type": "stream",
     "text": [
      "loss_curr 0.6353941559791565\n",
      "loss_curr 0.6302590370178223\n",
      "loss_curr 0.6469410061836243\n",
      "loss_curr 0.6279453039169312\n",
      "loss_curr 0.6456503868103027\n",
      "loss_curr 0.6488616466522217\n",
      "\n",
      "Train Epoch: 12 \t Loss: 0.0016033207612222839 \t Accuracy: 61.76% Recall: 68.00%\n",
      "total testing batch = 1388\n"
     ]
    },
    {
     "data": {
      "application/vnd.jupyter.widget-view+json": {
       "model_id": "6db8d9ed6fa845c387f105a25eab8080",
       "version_major": 2,
       "version_minor": 0
      },
      "text/plain": [
       "HBox(children=(FloatProgress(value=0.0, max=1388.0), HTML(value='')))"
      ]
     },
     "metadata": {},
     "output_type": "display_data"
    },
    {
     "name": "stdout",
     "output_type": "stream",
     "text": [
      "loss_curr 0.6491158604621887\n",
      "loss_curr 0.6701427102088928\n",
      "\n",
      "Train Epoch: 12 \t Loss: 0.0016618195589928044 \t Accuracy: 60.49% Recall: 60.00%\n",
      "Epoch 13\n",
      "total training batch = 5551\n"
     ]
    },
    {
     "data": {
      "application/vnd.jupyter.widget-view+json": {
       "model_id": "cd3e9ac548ce45e2818ab0525cbc16f1",
       "version_major": 2,
       "version_minor": 0
      },
      "text/plain": [
       "HBox(children=(FloatProgress(value=0.0, max=5551.0), HTML(value='')))"
      ]
     },
     "metadata": {},
     "output_type": "display_data"
    },
    {
     "name": "stdout",
     "output_type": "stream",
     "text": [
      "loss_curr 0.648586094379425\n",
      "loss_curr 0.6684359312057495\n",
      "loss_curr 0.6375402212142944\n",
      "loss_curr 0.663973867893219\n",
      "loss_curr 0.627585232257843\n",
      "loss_curr 0.6302399039268494\n",
      "\n",
      "Train Epoch: 13 \t Loss: 0.001601468809479614 \t Accuracy: 61.95% Recall: 68.00%\n",
      "total testing batch = 1388\n"
     ]
    },
    {
     "data": {
      "application/vnd.jupyter.widget-view+json": {
       "model_id": "56eacdeccb91442d90b253f07651e364",
       "version_major": 2,
       "version_minor": 0
      },
      "text/plain": [
       "HBox(children=(FloatProgress(value=0.0, max=1388.0), HTML(value='')))"
      ]
     },
     "metadata": {},
     "output_type": "display_data"
    },
    {
     "name": "stdout",
     "output_type": "stream",
     "text": [
      "loss_curr 0.6395597457885742\n",
      "loss_curr 0.6719028353691101\n",
      "\n",
      "Train Epoch: 13 \t Loss: 0.0016612859837631568 \t Accuracy: 59.90% Recall: 61.00%\n",
      "Epoch 14\n",
      "total training batch = 5551\n"
     ]
    },
    {
     "data": {
      "application/vnd.jupyter.widget-view+json": {
       "model_id": "7081071a0e01470aa865838c936643d0",
       "version_major": 2,
       "version_minor": 0
      },
      "text/plain": [
       "HBox(children=(FloatProgress(value=0.0, max=5551.0), HTML(value='')))"
      ]
     },
     "metadata": {},
     "output_type": "display_data"
    },
    {
     "name": "stdout",
     "output_type": "stream",
     "text": [
      "loss_curr 0.6342071294784546\n",
      "loss_curr 0.6141325235366821\n",
      "loss_curr 0.6719381809234619\n",
      "loss_curr 0.6440892815589905\n",
      "loss_curr 0.6500178575515747\n",
      "loss_curr 0.6266446709632874\n",
      "\n",
      "Train Epoch: 14 \t Loss: 0.0015998640266974957 \t Accuracy: 62.05% Recall: 69.00%\n",
      "total testing batch = 1388\n"
     ]
    },
    {
     "data": {
      "application/vnd.jupyter.widget-view+json": {
       "model_id": "8c4f5f08d51940e3811ccde2ca004263",
       "version_major": 2,
       "version_minor": 0
      },
      "text/plain": [
       "HBox(children=(FloatProgress(value=0.0, max=1388.0), HTML(value='')))"
      ]
     },
     "metadata": {},
     "output_type": "display_data"
    },
    {
     "name": "stdout",
     "output_type": "stream",
     "text": [
      "loss_curr 0.6892752647399902\n",
      "loss_curr 0.6719735860824585\n",
      "\n",
      "Train Epoch: 14 \t Loss: 0.0016601995182157106 \t Accuracy: 61.37% Recall: 60.00%\n",
      "Epoch 15\n",
      "total training batch = 5551\n"
     ]
    },
    {
     "data": {
      "application/vnd.jupyter.widget-view+json": {
       "model_id": "15c01d2d2d1c4973a2cbdabb30cfc4d5",
       "version_major": 2,
       "version_minor": 0
      },
      "text/plain": [
       "HBox(children=(FloatProgress(value=0.0, max=5551.0), HTML(value='')))"
      ]
     },
     "metadata": {},
     "output_type": "display_data"
    },
    {
     "name": "stdout",
     "output_type": "stream",
     "text": [
      "loss_curr 0.6533041000366211\n",
      "loss_curr 0.6313607096672058\n",
      "loss_curr 0.627605676651001\n",
      "loss_curr 0.632807195186615\n",
      "loss_curr 0.6464716792106628\n",
      "loss_curr 0.6420115232467651\n",
      "\n",
      "Train Epoch: 15 \t Loss: 0.001598452220843771 \t Accuracy: 62.29% Recall: 68.00%\n",
      "total testing batch = 1388\n"
     ]
    },
    {
     "data": {
      "application/vnd.jupyter.widget-view+json": {
       "model_id": "b33a29bfaa39495a9befa55fc9baebbd",
       "version_major": 2,
       "version_minor": 0
      },
      "text/plain": [
       "HBox(children=(FloatProgress(value=0.0, max=1388.0), HTML(value='')))"
      ]
     },
     "metadata": {},
     "output_type": "display_data"
    },
    {
     "name": "stdout",
     "output_type": "stream",
     "text": [
      "loss_curr 0.6788784265518188\n",
      "loss_curr 0.6634550094604492\n",
      "\n",
      "Train Epoch: 15 \t Loss: 0.0016597195469946029 \t Accuracy: 60.79% Recall: 61.00%\n",
      "Epoch 16\n",
      "total training batch = 5551\n"
     ]
    },
    {
     "data": {
      "application/vnd.jupyter.widget-view+json": {
       "model_id": "6a7939ec325943b682200decc96139bc",
       "version_major": 2,
       "version_minor": 0
      },
      "text/plain": [
       "HBox(children=(FloatProgress(value=0.0, max=5551.0), HTML(value='')))"
      ]
     },
     "metadata": {},
     "output_type": "display_data"
    },
    {
     "name": "stdout",
     "output_type": "stream",
     "text": [
      "loss_curr 0.6608953475952148\n",
      "loss_curr 0.6318007111549377\n",
      "loss_curr 0.6581003665924072\n",
      "loss_curr 0.6268917322158813\n",
      "loss_curr 0.6352922916412354\n",
      "loss_curr 0.6427291035652161\n",
      "\n",
      "Train Epoch: 16 \t Loss: 0.0015971818867026755 \t Accuracy: 62.36% Recall: 69.00%\n",
      "total testing batch = 1388\n"
     ]
    },
    {
     "data": {
      "application/vnd.jupyter.widget-view+json": {
       "model_id": "0e19a4cdcb444355ab103d313391f06a",
       "version_major": 2,
       "version_minor": 0
      },
      "text/plain": [
       "HBox(children=(FloatProgress(value=0.0, max=1388.0), HTML(value='')))"
      ]
     },
     "metadata": {},
     "output_type": "display_data"
    },
    {
     "name": "stdout",
     "output_type": "stream",
     "text": [
      "loss_curr 0.6496219038963318\n",
      "loss_curr 0.6561259031295776\n",
      "\n",
      "Train Epoch: 16 \t Loss: 0.0016590677788498784 \t Accuracy: 61.53% Recall: 60.00%\n",
      "Epoch 17\n",
      "total training batch = 5551\n"
     ]
    },
    {
     "data": {
      "application/vnd.jupyter.widget-view+json": {
       "model_id": "317cfd7c228e46219731b627ce249101",
       "version_major": 2,
       "version_minor": 0
      },
      "text/plain": [
       "HBox(children=(FloatProgress(value=0.0, max=5551.0), HTML(value='')))"
      ]
     },
     "metadata": {},
     "output_type": "display_data"
    },
    {
     "name": "stdout",
     "output_type": "stream",
     "text": [
      "loss_curr 0.6466401219367981\n",
      "loss_curr 0.6244345307350159\n",
      "loss_curr 0.6388756632804871\n",
      "loss_curr 0.6315460801124573\n",
      "loss_curr 0.666661262512207\n",
      "loss_curr 0.6353144645690918\n",
      "\n",
      "Train Epoch: 17 \t Loss: 0.0015960901757041306 \t Accuracy: 62.54% Recall: 68.00%\n",
      "total testing batch = 1388\n"
     ]
    },
    {
     "data": {
      "application/vnd.jupyter.widget-view+json": {
       "model_id": "8759045897cc446f92693b128ce5b6be",
       "version_major": 2,
       "version_minor": 0
      },
      "text/plain": [
       "HBox(children=(FloatProgress(value=0.0, max=1388.0), HTML(value='')))"
      ]
     },
     "metadata": {},
     "output_type": "display_data"
    },
    {
     "name": "stdout",
     "output_type": "stream",
     "text": [
      "loss_curr 0.6642860174179077\n",
      "loss_curr 0.663240373134613\n",
      "\n",
      "Train Epoch: 17 \t Loss: 0.001658539645116278 \t Accuracy: 61.44% Recall: 60.00%\n",
      "Epoch 18\n",
      "total training batch = 5551\n"
     ]
    },
    {
     "data": {
      "application/vnd.jupyter.widget-view+json": {
       "model_id": "52c6f51cec8649b4938e9c2b7c8326d8",
       "version_major": 2,
       "version_minor": 0
      },
      "text/plain": [
       "HBox(children=(FloatProgress(value=0.0, max=5551.0), HTML(value='')))"
      ]
     },
     "metadata": {},
     "output_type": "display_data"
    },
    {
     "name": "stdout",
     "output_type": "stream",
     "text": [
      "loss_curr 0.633682906627655\n",
      "loss_curr 0.6184596419334412\n",
      "loss_curr 0.6265336871147156\n",
      "loss_curr 0.6392012238502502\n",
      "loss_curr 0.6348345875740051\n",
      "loss_curr 0.6675375699996948\n",
      "\n",
      "Train Epoch: 18 \t Loss: 0.0015950768077497397 \t Accuracy: 62.63% Recall: 69.00%\n",
      "total testing batch = 1388\n"
     ]
    },
    {
     "data": {
      "application/vnd.jupyter.widget-view+json": {
       "model_id": "b58bceb296a34834a27c5eb189e5b6cc",
       "version_major": 2,
       "version_minor": 0
      },
      "text/plain": [
       "HBox(children=(FloatProgress(value=0.0, max=1388.0), HTML(value='')))"
      ]
     },
     "metadata": {},
     "output_type": "display_data"
    },
    {
     "name": "stdout",
     "output_type": "stream",
     "text": [
      "loss_curr 0.6678453683853149\n",
      "loss_curr 0.6363708972930908\n",
      "\n",
      "Train Epoch: 18 \t Loss: 0.0016580569770934233 \t Accuracy: 61.62% Recall: 60.00%\n",
      "Epoch 19\n",
      "total training batch = 5551\n"
     ]
    },
    {
     "data": {
      "application/vnd.jupyter.widget-view+json": {
       "model_id": "e85efa985ddf44c2b37cf1bb7ff5af95",
       "version_major": 2,
       "version_minor": 0
      },
      "text/plain": [
       "HBox(children=(FloatProgress(value=0.0, max=5551.0), HTML(value='')))"
      ]
     },
     "metadata": {},
     "output_type": "display_data"
    },
    {
     "name": "stdout",
     "output_type": "stream",
     "text": [
      "loss_curr 0.6360956430435181\n",
      "loss_curr 0.6444882154464722\n",
      "loss_curr 0.6512146592140198\n",
      "loss_curr 0.6112268567085266\n",
      "loss_curr 0.6337769627571106\n",
      "loss_curr 0.647726833820343\n",
      "\n",
      "Train Epoch: 19 \t Loss: 0.0015941957384423419 \t Accuracy: 62.79% Recall: 68.00%\n",
      "total testing batch = 1388\n"
     ]
    },
    {
     "data": {
      "application/vnd.jupyter.widget-view+json": {
       "model_id": "0dfbff17610c417383fe5333ba0b7834",
       "version_major": 2,
       "version_minor": 0
      },
      "text/plain": [
       "HBox(children=(FloatProgress(value=0.0, max=1388.0), HTML(value='')))"
      ]
     },
     "metadata": {},
     "output_type": "display_data"
    },
    {
     "name": "stdout",
     "output_type": "stream",
     "text": [
      "loss_curr 0.6657366156578064\n",
      "loss_curr 0.6657728552818298\n",
      "\n",
      "Train Epoch: 19 \t Loss: 0.0016578985425142754 \t Accuracy: 60.81% Recall: 61.00%\n",
      "Epoch 20\n",
      "total training batch = 5551\n"
     ]
    },
    {
     "data": {
      "application/vnd.jupyter.widget-view+json": {
       "model_id": "120472493f604fbbb361a9b2b142bb95",
       "version_major": 2,
       "version_minor": 0
      },
      "text/plain": [
       "HBox(children=(FloatProgress(value=0.0, max=5551.0), HTML(value='')))"
      ]
     },
     "metadata": {},
     "output_type": "display_data"
    },
    {
     "name": "stdout",
     "output_type": "stream",
     "text": [
      "loss_curr 0.6264138221740723\n",
      "loss_curr 0.6255268454551697\n",
      "loss_curr 0.6222689151763916\n",
      "loss_curr 0.6447737216949463\n",
      "loss_curr 0.6609106659889221\n",
      "loss_curr 0.6403879523277283\n",
      "\n",
      "Train Epoch: 20 \t Loss: 0.0015934364699121142 \t Accuracy: 62.76% Recall: 69.00%\n",
      "total testing batch = 1388\n"
     ]
    },
    {
     "data": {
      "application/vnd.jupyter.widget-view+json": {
       "model_id": "9c929921d38d4124a2aa956a70478511",
       "version_major": 2,
       "version_minor": 0
      },
      "text/plain": [
       "HBox(children=(FloatProgress(value=0.0, max=1388.0), HTML(value='')))"
      ]
     },
     "metadata": {},
     "output_type": "display_data"
    },
    {
     "name": "stdout",
     "output_type": "stream",
     "text": [
      "loss_curr 0.6715512871742249\n",
      "loss_curr 0.6550527215003967\n",
      "\n",
      "Train Epoch: 20 \t Loss: 0.0016574224544557371 \t Accuracy: 61.33% Recall: 60.00%\n",
      "Epoch 21\n",
      "total training batch = 5551\n"
     ]
    },
    {
     "data": {
      "application/vnd.jupyter.widget-view+json": {
       "model_id": "19ffb907aba94ac8a54a3c808835cfc8",
       "version_major": 2,
       "version_minor": 0
      },
      "text/plain": [
       "HBox(children=(FloatProgress(value=0.0, max=5551.0), HTML(value='')))"
      ]
     },
     "metadata": {},
     "output_type": "display_data"
    },
    {
     "name": "stdout",
     "output_type": "stream",
     "text": [
      "loss_curr 0.6291288137435913\n",
      "loss_curr 0.6492055058479309\n",
      "loss_curr 0.6505619287490845\n",
      "loss_curr 0.6485407948493958\n",
      "loss_curr 0.6501315236091614\n",
      "loss_curr 0.6452487111091614\n",
      "\n",
      "Train Epoch: 21 \t Loss: 0.001592671533360101 \t Accuracy: 62.88% Recall: 69.00%\n",
      "total testing batch = 1388\n"
     ]
    },
    {
     "data": {
      "application/vnd.jupyter.widget-view+json": {
       "model_id": "e25b255e6dd140dbb600cd793069ce0b",
       "version_major": 2,
       "version_minor": 0
      },
      "text/plain": [
       "HBox(children=(FloatProgress(value=0.0, max=1388.0), HTML(value='')))"
      ]
     },
     "metadata": {},
     "output_type": "display_data"
    },
    {
     "name": "stdout",
     "output_type": "stream",
     "text": [
      "loss_curr 0.6427609324455261\n",
      "loss_curr 0.6427578926086426\n",
      "\n",
      "Train Epoch: 21 \t Loss: 0.0016570592700844808 \t Accuracy: 61.47% Recall: 60.00%\n",
      "Epoch 22\n",
      "total training batch = 5551\n"
     ]
    },
    {
     "data": {
      "application/vnd.jupyter.widget-view+json": {
       "model_id": "331c76531ced469083bcd87a0b460341",
       "version_major": 2,
       "version_minor": 0
      },
      "text/plain": [
       "HBox(children=(FloatProgress(value=0.0, max=5551.0), HTML(value='')))"
      ]
     },
     "metadata": {},
     "output_type": "display_data"
    },
    {
     "name": "stdout",
     "output_type": "stream",
     "text": [
      "loss_curr 0.6381199359893799\n",
      "loss_curr 0.6437689661979675\n",
      "loss_curr 0.6252771615982056\n",
      "loss_curr 0.6323638558387756\n",
      "loss_curr 0.6337756514549255\n",
      "loss_curr 0.6183778643608093\n",
      "\n",
      "Train Epoch: 22 \t Loss: 0.0015920298306846496 \t Accuracy: 62.96% Recall: 69.00%\n",
      "total testing batch = 1388\n"
     ]
    },
    {
     "data": {
      "application/vnd.jupyter.widget-view+json": {
       "model_id": "ee997f66b6d34a399797dd40bdd6b934",
       "version_major": 2,
       "version_minor": 0
      },
      "text/plain": [
       "HBox(children=(FloatProgress(value=0.0, max=1388.0), HTML(value='')))"
      ]
     },
     "metadata": {},
     "output_type": "display_data"
    },
    {
     "name": "stdout",
     "output_type": "stream",
     "text": [
      "loss_curr 0.6867078542709351\n",
      "loss_curr 0.6835767030715942\n",
      "\n",
      "Train Epoch: 22 \t Loss: 0.0016567060830152331 \t Accuracy: 61.45% Recall: 60.00%\n",
      "Epoch 23\n",
      "total training batch = 5551\n"
     ]
    },
    {
     "data": {
      "application/vnd.jupyter.widget-view+json": {
       "model_id": "18b40f08b7194a9d976bf6cedc2f624d",
       "version_major": 2,
       "version_minor": 0
      },
      "text/plain": [
       "HBox(children=(FloatProgress(value=0.0, max=5551.0), HTML(value='')))"
      ]
     },
     "metadata": {},
     "output_type": "display_data"
    },
    {
     "name": "stdout",
     "output_type": "stream",
     "text": [
      "loss_curr 0.6336473226547241\n",
      "loss_curr 0.642342209815979\n",
      "loss_curr 0.62626713514328\n",
      "loss_curr 0.6666460633277893\n",
      "loss_curr 0.6349613070487976\n",
      "loss_curr 0.6588388085365295\n",
      "\n",
      "Train Epoch: 23 \t Loss: 0.0015915222521847628 \t Accuracy: 63.02% Recall: 69.00%\n",
      "total testing batch = 1388\n"
     ]
    },
    {
     "data": {
      "application/vnd.jupyter.widget-view+json": {
       "model_id": "f11d974033064b48825554e772d5ee55",
       "version_major": 2,
       "version_minor": 0
      },
      "text/plain": [
       "HBox(children=(FloatProgress(value=0.0, max=1388.0), HTML(value='')))"
      ]
     },
     "metadata": {},
     "output_type": "display_data"
    },
    {
     "name": "stdout",
     "output_type": "stream",
     "text": [
      "loss_curr 0.6556942462921143\n",
      "loss_curr 0.6832461953163147\n",
      "\n",
      "Train Epoch: 23 \t Loss: 0.0016564882285964306 \t Accuracy: 61.33% Recall: 61.00%\n",
      "Epoch 24\n",
      "total training batch = 5551\n"
     ]
    },
    {
     "data": {
      "application/vnd.jupyter.widget-view+json": {
       "model_id": "88ac6b15d1b34900843d08848a54219b",
       "version_major": 2,
       "version_minor": 0
      },
      "text/plain": [
       "HBox(children=(FloatProgress(value=0.0, max=5551.0), HTML(value='')))"
      ]
     },
     "metadata": {},
     "output_type": "display_data"
    },
    {
     "name": "stdout",
     "output_type": "stream",
     "text": [
      "loss_curr 0.6111778020858765\n",
      "loss_curr 0.642157256603241\n",
      "loss_curr 0.6457390189170837\n",
      "loss_curr 0.6050650477409363\n",
      "loss_curr 0.6168594360351562\n",
      "loss_curr 0.6616496443748474\n",
      "\n",
      "Train Epoch: 24 \t Loss: 0.0015910281513104281 \t Accuracy: 63.06% Recall: 69.00%\n",
      "total testing batch = 1388\n"
     ]
    },
    {
     "data": {
      "application/vnd.jupyter.widget-view+json": {
       "model_id": "a347ea9191f444839db368027aca5d39",
       "version_major": 2,
       "version_minor": 0
      },
      "text/plain": [
       "HBox(children=(FloatProgress(value=0.0, max=1388.0), HTML(value='')))"
      ]
     },
     "metadata": {},
     "output_type": "display_data"
    },
    {
     "name": "stdout",
     "output_type": "stream",
     "text": [
      "loss_curr 0.6772637963294983\n",
      "loss_curr 0.6654558181762695\n",
      "\n",
      "Train Epoch: 24 \t Loss: 0.0016561925682150175 \t Accuracy: 61.47% Recall: 60.00%\n",
      "Epoch 25\n",
      "total training batch = 5551\n"
     ]
    },
    {
     "data": {
      "application/vnd.jupyter.widget-view+json": {
       "model_id": "7c72c356bf9d493a98878b9f6b1cbc4e",
       "version_major": 2,
       "version_minor": 0
      },
      "text/plain": [
       "HBox(children=(FloatProgress(value=0.0, max=5551.0), HTML(value='')))"
      ]
     },
     "metadata": {},
     "output_type": "display_data"
    },
    {
     "name": "stdout",
     "output_type": "stream",
     "text": [
      "loss_curr 0.6618855595588684\n",
      "loss_curr 0.6226012706756592\n",
      "loss_curr 0.6134700775146484\n",
      "loss_curr 0.6538543701171875\n",
      "loss_curr 0.6462340950965881\n",
      "loss_curr 0.630254864692688\n",
      "\n",
      "Train Epoch: 25 \t Loss: 0.001590588902521353 \t Accuracy: 63.11% Recall: 69.00%\n",
      "total testing batch = 1388\n"
     ]
    },
    {
     "data": {
      "application/vnd.jupyter.widget-view+json": {
       "model_id": "aafabe7154a146088b7e777f263151ef",
       "version_major": 2,
       "version_minor": 0
      },
      "text/plain": [
       "HBox(children=(FloatProgress(value=0.0, max=1388.0), HTML(value='')))"
      ]
     },
     "metadata": {},
     "output_type": "display_data"
    },
    {
     "name": "stdout",
     "output_type": "stream",
     "text": [
      "loss_curr 0.6618507504463196\n",
      "loss_curr 0.6867527961730957\n",
      "\n",
      "Train Epoch: 25 \t Loss: 0.001656060381869071 \t Accuracy: 61.61% Recall: 60.00%\n",
      "Epoch 26\n",
      "total training batch = 5551\n"
     ]
    },
    {
     "data": {
      "application/vnd.jupyter.widget-view+json": {
       "model_id": "5e1bb1e2ac684843ba5b7e53ef85d0c5",
       "version_major": 2,
       "version_minor": 0
      },
      "text/plain": [
       "HBox(children=(FloatProgress(value=0.0, max=5551.0), HTML(value='')))"
      ]
     },
     "metadata": {},
     "output_type": "display_data"
    },
    {
     "name": "stdout",
     "output_type": "stream",
     "text": [
      "loss_curr 0.6346034407615662\n",
      "loss_curr 0.6304130554199219\n",
      "loss_curr 0.6440136432647705\n",
      "loss_curr 0.6412489414215088\n",
      "loss_curr 0.6577766537666321\n",
      "loss_curr 0.638083815574646\n",
      "\n",
      "Train Epoch: 26 \t Loss: 0.001590210870536688 \t Accuracy: 63.17% Recall: 69.00%\n",
      "total testing batch = 1388\n"
     ]
    },
    {
     "data": {
      "application/vnd.jupyter.widget-view+json": {
       "model_id": "a3922970f51b46ee8d89313291870c19",
       "version_major": 2,
       "version_minor": 0
      },
      "text/plain": [
       "HBox(children=(FloatProgress(value=0.0, max=1388.0), HTML(value='')))"
      ]
     },
     "metadata": {},
     "output_type": "display_data"
    },
    {
     "name": "stdout",
     "output_type": "stream",
     "text": [
      "loss_curr 0.6588953137397766\n",
      "loss_curr 0.6635007262229919\n",
      "\n",
      "Train Epoch: 26 \t Loss: 0.00165573725145744 \t Accuracy: 61.65% Recall: 60.00%\n",
      "Epoch 27\n",
      "total training batch = 5551\n"
     ]
    },
    {
     "data": {
      "application/vnd.jupyter.widget-view+json": {
       "model_id": "764228d63cf1427087bf72986ccc0c39",
       "version_major": 2,
       "version_minor": 0
      },
      "text/plain": [
       "HBox(children=(FloatProgress(value=0.0, max=5551.0), HTML(value='')))"
      ]
     },
     "metadata": {},
     "output_type": "display_data"
    },
    {
     "name": "stdout",
     "output_type": "stream",
     "text": [
      "loss_curr 0.6438180208206177\n",
      "loss_curr 0.6407541036605835\n",
      "loss_curr 0.6238481402397156\n",
      "loss_curr 0.626763105392456\n",
      "loss_curr 0.6205770969390869\n",
      "loss_curr 0.6373969912528992\n",
      "\n",
      "Train Epoch: 27 \t Loss: 0.0015898059834082122 \t Accuracy: 63.25% Recall: 69.00%\n",
      "total testing batch = 1388\n"
     ]
    },
    {
     "data": {
      "application/vnd.jupyter.widget-view+json": {
       "model_id": "19d9f27efe76416b94beafd516efb84b",
       "version_major": 2,
       "version_minor": 0
      },
      "text/plain": [
       "HBox(children=(FloatProgress(value=0.0, max=1388.0), HTML(value='')))"
      ]
     },
     "metadata": {},
     "output_type": "display_data"
    },
    {
     "name": "stdout",
     "output_type": "stream",
     "text": [
      "loss_curr 0.6457411646842957\n",
      "loss_curr 0.6721963882446289\n",
      "\n",
      "Train Epoch: 27 \t Loss: 0.0016556669236055907 \t Accuracy: 61.51% Recall: 61.00%\n",
      "Epoch 28\n",
      "total training batch = 5551\n"
     ]
    },
    {
     "data": {
      "application/vnd.jupyter.widget-view+json": {
       "model_id": "f914385c58304baa9b6cbf9870708320",
       "version_major": 2,
       "version_minor": 0
      },
      "text/plain": [
       "HBox(children=(FloatProgress(value=0.0, max=5551.0), HTML(value='')))"
      ]
     },
     "metadata": {},
     "output_type": "display_data"
    },
    {
     "name": "stdout",
     "output_type": "stream",
     "text": [
      "loss_curr 0.6288200616836548\n",
      "loss_curr 0.6667133569717407\n",
      "loss_curr 0.6470171809196472\n",
      "loss_curr 0.6288199424743652\n",
      "loss_curr 0.6568875312805176\n",
      "loss_curr 0.6195208430290222\n",
      "\n",
      "Train Epoch: 28 \t Loss: 0.001589475410763729 \t Accuracy: 63.16% Recall: 69.00%\n",
      "total testing batch = 1388\n"
     ]
    },
    {
     "data": {
      "application/vnd.jupyter.widget-view+json": {
       "model_id": "6b2b967f116441609c5d6a9ec42b97fc",
       "version_major": 2,
       "version_minor": 0
      },
      "text/plain": [
       "HBox(children=(FloatProgress(value=0.0, max=1388.0), HTML(value='')))"
      ]
     },
     "metadata": {},
     "output_type": "display_data"
    },
    {
     "name": "stdout",
     "output_type": "stream",
     "text": [
      "loss_curr 0.6404864192008972\n",
      "loss_curr 0.6604866981506348\n",
      "\n",
      "Train Epoch: 28 \t Loss: 0.0016554522558670719 \t Accuracy: 61.96% Recall: 60.00%\n",
      "Epoch 29\n",
      "total training batch = 5551\n"
     ]
    },
    {
     "data": {
      "application/vnd.jupyter.widget-view+json": {
       "model_id": "78863aeff038428a9fc93c583673b20c",
       "version_major": 2,
       "version_minor": 0
      },
      "text/plain": [
       "HBox(children=(FloatProgress(value=0.0, max=5551.0), HTML(value='')))"
      ]
     },
     "metadata": {},
     "output_type": "display_data"
    },
    {
     "name": "stdout",
     "output_type": "stream",
     "text": [
      "loss_curr 0.6338525414466858\n",
      "loss_curr 0.6522858142852783\n",
      "loss_curr 0.6416024565696716\n",
      "loss_curr 0.6214389801025391\n",
      "loss_curr 0.6385431289672852\n",
      "loss_curr 0.6356734037399292\n",
      "\n",
      "Train Epoch: 29 \t Loss: 0.0015891790534175595 \t Accuracy: 63.28% Recall: 69.00%\n",
      "total testing batch = 1388\n"
     ]
    },
    {
     "data": {
      "application/vnd.jupyter.widget-view+json": {
       "model_id": "ba94cfea09e14ab7969f1e7d800c9a69",
       "version_major": 2,
       "version_minor": 0
      },
      "text/plain": [
       "HBox(children=(FloatProgress(value=0.0, max=1388.0), HTML(value='')))"
      ]
     },
     "metadata": {},
     "output_type": "display_data"
    },
    {
     "name": "stdout",
     "output_type": "stream",
     "text": [
      "loss_curr 0.6325231790542603\n",
      "loss_curr 0.6678081750869751\n",
      "\n",
      "Train Epoch: 29 \t Loss: 0.0016552688552006513 \t Accuracy: 61.92% Recall: 60.00%\n",
      "Epoch 30\n",
      "total training batch = 5551\n"
     ]
    },
    {
     "data": {
      "application/vnd.jupyter.widget-view+json": {
       "model_id": "7638c6b4514e45abbd8fc2358156237f",
       "version_major": 2,
       "version_minor": 0
      },
      "text/plain": [
       "HBox(children=(FloatProgress(value=0.0, max=5551.0), HTML(value='')))"
      ]
     },
     "metadata": {},
     "output_type": "display_data"
    },
    {
     "name": "stdout",
     "output_type": "stream",
     "text": [
      "loss_curr 0.6419186592102051\n",
      "loss_curr 0.6215044856071472\n",
      "loss_curr 0.61329585313797\n",
      "loss_curr 0.6279231905937195\n",
      "loss_curr 0.6426275968551636\n",
      "loss_curr 0.6331808567047119\n",
      "\n",
      "Train Epoch: 30 \t Loss: 0.0015889783369256053 \t Accuracy: 63.33% Recall: 69.00%\n",
      "total testing batch = 1388\n"
     ]
    },
    {
     "data": {
      "application/vnd.jupyter.widget-view+json": {
       "model_id": "ee70505541914fd79446a4c72f087aa9",
       "version_major": 2,
       "version_minor": 0
      },
      "text/plain": [
       "HBox(children=(FloatProgress(value=0.0, max=1388.0), HTML(value='')))"
      ]
     },
     "metadata": {},
     "output_type": "display_data"
    },
    {
     "name": "stdout",
     "output_type": "stream",
     "text": [
      "loss_curr 0.6626824140548706\n",
      "loss_curr 0.6847838759422302\n",
      "\n",
      "Train Epoch: 30 \t Loss: 0.0016552094305287886 \t Accuracy: 61.78% Recall: 60.00%\n",
      "Epoch 31\n",
      "total training batch = 5551\n"
     ]
    },
    {
     "data": {
      "application/vnd.jupyter.widget-view+json": {
       "model_id": "c08d1d47d98d4e898c16c0f431c89003",
       "version_major": 2,
       "version_minor": 0
      },
      "text/plain": [
       "HBox(children=(FloatProgress(value=0.0, max=5551.0), HTML(value='')))"
      ]
     },
     "metadata": {},
     "output_type": "display_data"
    },
    {
     "name": "stdout",
     "output_type": "stream",
     "text": [
      "loss_curr 0.629597008228302\n",
      "loss_curr 0.6325876116752625\n",
      "loss_curr 0.6529196500778198\n",
      "loss_curr 0.6266304850578308\n",
      "loss_curr 0.6340256333351135\n",
      "loss_curr 0.6529507040977478\n",
      "\n",
      "Train Epoch: 31 \t Loss: 0.00158868631340107 \t Accuracy: 63.32% Recall: 69.00%\n",
      "total testing batch = 1388\n"
     ]
    },
    {
     "data": {
      "application/vnd.jupyter.widget-view+json": {
       "model_id": "06117537235a40e3905451ff6c47b35d",
       "version_major": 2,
       "version_minor": 0
      },
      "text/plain": [
       "HBox(children=(FloatProgress(value=0.0, max=1388.0), HTML(value='')))"
      ]
     },
     "metadata": {},
     "output_type": "display_data"
    },
    {
     "name": "stdout",
     "output_type": "stream",
     "text": [
      "loss_curr 0.6585249304771423\n",
      "loss_curr 0.6480510830879211\n",
      "\n",
      "Train Epoch: 31 \t Loss: 0.001655126850451785 \t Accuracy: 61.79% Recall: 60.00%\n",
      "Epoch 32\n",
      "total training batch = 5551\n"
     ]
    },
    {
     "data": {
      "application/vnd.jupyter.widget-view+json": {
       "model_id": "de31c483883a420b8ebf20577b515b8a",
       "version_major": 2,
       "version_minor": 0
      },
      "text/plain": [
       "HBox(children=(FloatProgress(value=0.0, max=5551.0), HTML(value='')))"
      ]
     },
     "metadata": {},
     "output_type": "display_data"
    },
    {
     "name": "stdout",
     "output_type": "stream",
     "text": [
      "loss_curr 0.5935903191566467\n",
      "loss_curr 0.632068395614624\n",
      "loss_curr 0.6368021965026855\n",
      "loss_curr 0.6166386008262634\n",
      "loss_curr 0.6299914717674255\n",
      "loss_curr 0.6343639492988586\n",
      "\n",
      "Train Epoch: 32 \t Loss: 0.0015884859974456711 \t Accuracy: 63.29% Recall: 69.00%\n",
      "total testing batch = 1388\n"
     ]
    },
    {
     "data": {
      "application/vnd.jupyter.widget-view+json": {
       "model_id": "321f01ed4ce74d3e9b6f5fc093fb7723",
       "version_major": 2,
       "version_minor": 0
      },
      "text/plain": [
       "HBox(children=(FloatProgress(value=0.0, max=1388.0), HTML(value='')))"
      ]
     },
     "metadata": {},
     "output_type": "display_data"
    },
    {
     "name": "stdout",
     "output_type": "stream",
     "text": [
      "loss_curr 0.6679167747497559\n",
      "loss_curr 0.6780514717102051\n",
      "\n",
      "Train Epoch: 32 \t Loss: 0.0016548823427533451 \t Accuracy: 62.02% Recall: 60.00%\n",
      "Epoch 33\n",
      "total training batch = 5551\n"
     ]
    },
    {
     "data": {
      "application/vnd.jupyter.widget-view+json": {
       "model_id": "95b25985f87c4cf398720a20e8c033aa",
       "version_major": 2,
       "version_minor": 0
      },
      "text/plain": [
       "HBox(children=(FloatProgress(value=0.0, max=5551.0), HTML(value='')))"
      ]
     },
     "metadata": {},
     "output_type": "display_data"
    },
    {
     "name": "stdout",
     "output_type": "stream",
     "text": [
      "loss_curr 0.6119352579116821\n",
      "loss_curr 0.6452196836471558\n",
      "loss_curr 0.6389104127883911\n",
      "loss_curr 0.6460921168327332\n",
      "loss_curr 0.6308258771896362\n",
      "loss_curr 0.6583346128463745\n",
      "\n",
      "Train Epoch: 33 \t Loss: 0.001588316714965923 \t Accuracy: 63.34% Recall: 69.00%\n",
      "total testing batch = 1388\n"
     ]
    },
    {
     "data": {
      "application/vnd.jupyter.widget-view+json": {
       "model_id": "16c0fc826db642a2afff241f9e5bc3e6",
       "version_major": 2,
       "version_minor": 0
      },
      "text/plain": [
       "HBox(children=(FloatProgress(value=0.0, max=1388.0), HTML(value='')))"
      ]
     },
     "metadata": {},
     "output_type": "display_data"
    },
    {
     "name": "stdout",
     "output_type": "stream",
     "text": [
      "loss_curr 0.6703315377235413\n",
      "loss_curr 0.6601759791374207\n",
      "\n",
      "Train Epoch: 33 \t Loss: 0.0016548901275482582 \t Accuracy: 62.15% Recall: 60.00%\n",
      "Epoch 34\n",
      "total training batch = 5551\n"
     ]
    },
    {
     "data": {
      "application/vnd.jupyter.widget-view+json": {
       "model_id": "6c74caca38e449b6b53471369f56e984",
       "version_major": 2,
       "version_minor": 0
      },
      "text/plain": [
       "HBox(children=(FloatProgress(value=0.0, max=5551.0), HTML(value='')))"
      ]
     },
     "metadata": {},
     "output_type": "display_data"
    },
    {
     "name": "stdout",
     "output_type": "stream",
     "text": [
      "loss_curr 0.6171392202377319\n",
      "loss_curr 0.6154255270957947\n",
      "loss_curr 0.6328587532043457\n",
      "loss_curr 0.6106324791908264\n",
      "loss_curr 0.6329208016395569\n",
      "loss_curr 0.6551968455314636\n",
      "\n",
      "Train Epoch: 34 \t Loss: 0.001588144409723773 \t Accuracy: 63.44% Recall: 69.00%\n",
      "total testing batch = 1388\n"
     ]
    },
    {
     "data": {
      "application/vnd.jupyter.widget-view+json": {
       "model_id": "40e44258ee194972b3bb10ca561da7cd",
       "version_major": 2,
       "version_minor": 0
      },
      "text/plain": [
       "HBox(children=(FloatProgress(value=0.0, max=1388.0), HTML(value='')))"
      ]
     },
     "metadata": {},
     "output_type": "display_data"
    },
    {
     "name": "stdout",
     "output_type": "stream",
     "text": [
      "loss_curr 0.6396848559379578\n",
      "loss_curr 0.6737809777259827\n",
      "\n",
      "Train Epoch: 34 \t Loss: 0.0016548428971150506 \t Accuracy: 61.98% Recall: 60.00%\n",
      "Epoch 35\n",
      "total training batch = 5551\n"
     ]
    },
    {
     "data": {
      "application/vnd.jupyter.widget-view+json": {
       "model_id": "fbd7af3eb0114c4abb4b022aa459246f",
       "version_major": 2,
       "version_minor": 0
      },
      "text/plain": [
       "HBox(children=(FloatProgress(value=0.0, max=5551.0), HTML(value='')))"
      ]
     },
     "metadata": {},
     "output_type": "display_data"
    },
    {
     "name": "stdout",
     "output_type": "stream",
     "text": [
      "loss_curr 0.630618691444397\n",
      "loss_curr 0.6266142725944519\n",
      "loss_curr 0.633922815322876\n",
      "loss_curr 0.6388922333717346\n",
      "loss_curr 0.6460438966751099\n",
      "loss_curr 0.646695613861084\n",
      "\n",
      "Train Epoch: 35 \t Loss: 0.001588017366857323 \t Accuracy: 63.40% Recall: 69.00%\n",
      "total testing batch = 1388\n"
     ]
    },
    {
     "data": {
      "application/vnd.jupyter.widget-view+json": {
       "model_id": "3a7b9e31475e4fd48ede9a3c0c826f26",
       "version_major": 2,
       "version_minor": 0
      },
      "text/plain": [
       "HBox(children=(FloatProgress(value=0.0, max=1388.0), HTML(value='')))"
      ]
     },
     "metadata": {},
     "output_type": "display_data"
    },
    {
     "name": "stdout",
     "output_type": "stream",
     "text": [
      "loss_curr 0.6867709159851074\n",
      "loss_curr 0.6520144939422607\n",
      "\n",
      "Train Epoch: 35 \t Loss: 0.0016547103687561406 \t Accuracy: 61.97% Recall: 60.00%\n",
      "Epoch 36\n",
      "total training batch = 5551\n"
     ]
    },
    {
     "data": {
      "application/vnd.jupyter.widget-view+json": {
       "model_id": "413023f6fe924767a74106e43c6b12a5",
       "version_major": 2,
       "version_minor": 0
      },
      "text/plain": [
       "HBox(children=(FloatProgress(value=0.0, max=5551.0), HTML(value='')))"
      ]
     },
     "metadata": {},
     "output_type": "display_data"
    },
    {
     "name": "stdout",
     "output_type": "stream",
     "text": [
      "loss_curr 0.6646310687065125\n",
      "loss_curr 0.6326168775558472\n",
      "loss_curr 0.6581145524978638\n",
      "loss_curr 0.6085990071296692\n",
      "loss_curr 0.6269452571868896\n",
      "loss_curr 0.6525889039039612\n",
      "\n",
      "Train Epoch: 36 \t Loss: 0.0015878675543467705 \t Accuracy: 63.38% Recall: 69.00%\n",
      "total testing batch = 1388\n"
     ]
    },
    {
     "data": {
      "application/vnd.jupyter.widget-view+json": {
       "model_id": "6fa98f888d374f1ea2611416772be303",
       "version_major": 2,
       "version_minor": 0
      },
      "text/plain": [
       "HBox(children=(FloatProgress(value=0.0, max=1388.0), HTML(value='')))"
      ]
     },
     "metadata": {},
     "output_type": "display_data"
    },
    {
     "name": "stdout",
     "output_type": "stream",
     "text": [
      "loss_curr 0.6446846723556519\n",
      "loss_curr 0.6505280137062073\n",
      "\n",
      "Train Epoch: 36 \t Loss: 0.001654530396809947 \t Accuracy: 62.08% Recall: 60.00%\n",
      "Epoch 37\n",
      "total training batch = 5551\n"
     ]
    },
    {
     "data": {
      "application/vnd.jupyter.widget-view+json": {
       "model_id": "754731884d874a489c01839d58621ab9",
       "version_major": 2,
       "version_minor": 0
      },
      "text/plain": [
       "HBox(children=(FloatProgress(value=0.0, max=5551.0), HTML(value='')))"
      ]
     },
     "metadata": {},
     "output_type": "display_data"
    },
    {
     "name": "stdout",
     "output_type": "stream",
     "text": [
      "loss_curr 0.6196874976158142\n",
      "loss_curr 0.6112087368965149\n",
      "loss_curr 0.6445768475532532\n",
      "loss_curr 0.6286877989768982\n",
      "loss_curr 0.6295835971832275\n",
      "loss_curr 0.6452810168266296\n",
      "\n",
      "Train Epoch: 37 \t Loss: 0.0015877008010728184 \t Accuracy: 63.44% Recall: 69.00%\n",
      "total testing batch = 1388\n"
     ]
    },
    {
     "data": {
      "application/vnd.jupyter.widget-view+json": {
       "model_id": "452b502f764b4e0f9c1ae4686f41910a",
       "version_major": 2,
       "version_minor": 0
      },
      "text/plain": [
       "HBox(children=(FloatProgress(value=0.0, max=1388.0), HTML(value='')))"
      ]
     },
     "metadata": {},
     "output_type": "display_data"
    },
    {
     "name": "stdout",
     "output_type": "stream",
     "text": [
      "loss_curr 0.6518812775611877\n",
      "loss_curr 0.6651682257652283\n",
      "\n",
      "Train Epoch: 37 \t Loss: 0.001654514535354741 \t Accuracy: 62.02% Recall: 60.00%\n",
      "Epoch 38\n",
      "total training batch = 5551\n"
     ]
    },
    {
     "data": {
      "application/vnd.jupyter.widget-view+json": {
       "model_id": "1193b7833d5d48e7a59f4646ae6fea29",
       "version_major": 2,
       "version_minor": 0
      },
      "text/plain": [
       "HBox(children=(FloatProgress(value=0.0, max=5551.0), HTML(value='')))"
      ]
     },
     "metadata": {},
     "output_type": "display_data"
    },
    {
     "name": "stdout",
     "output_type": "stream",
     "text": [
      "loss_curr 0.6342206597328186\n",
      "loss_curr 0.6082499623298645\n",
      "loss_curr 0.6341856718063354\n",
      "loss_curr 0.6349881291389465\n",
      "loss_curr 0.6359909772872925\n",
      "loss_curr 0.6104122996330261\n",
      "\n",
      "Train Epoch: 38 \t Loss: 0.0015876118998904385 \t Accuracy: 63.43% Recall: 69.00%\n",
      "total testing batch = 1388\n"
     ]
    },
    {
     "data": {
      "application/vnd.jupyter.widget-view+json": {
       "model_id": "458a0d0c1a7c4e35bf480d38b09f50d8",
       "version_major": 2,
       "version_minor": 0
      },
      "text/plain": [
       "HBox(children=(FloatProgress(value=0.0, max=1388.0), HTML(value='')))"
      ]
     },
     "metadata": {},
     "output_type": "display_data"
    },
    {
     "name": "stdout",
     "output_type": "stream",
     "text": [
      "loss_curr 0.6651393175125122\n",
      "loss_curr 0.6699033379554749\n",
      "\n",
      "Train Epoch: 38 \t Loss: 0.0016544325739077789 \t Accuracy: 62.05% Recall: 60.00%\n",
      "Epoch 39\n",
      "total training batch = 5551\n"
     ]
    },
    {
     "data": {
      "application/vnd.jupyter.widget-view+json": {
       "model_id": "029b2aac0b2c46b68432d12720297ff9",
       "version_major": 2,
       "version_minor": 0
      },
      "text/plain": [
       "HBox(children=(FloatProgress(value=0.0, max=5551.0), HTML(value='')))"
      ]
     },
     "metadata": {},
     "output_type": "display_data"
    },
    {
     "name": "stdout",
     "output_type": "stream",
     "text": [
      "loss_curr 0.6411338448524475\n",
      "loss_curr 0.6657074689865112\n",
      "loss_curr 0.6369180679321289\n",
      "loss_curr 0.6218727827072144\n",
      "loss_curr 0.6326501965522766\n",
      "loss_curr 0.6351089477539062\n",
      "\n",
      "Train Epoch: 39 \t Loss: 0.0015874735423495258 \t Accuracy: 63.52% Recall: 69.00%\n",
      "total testing batch = 1388\n"
     ]
    },
    {
     "data": {
      "application/vnd.jupyter.widget-view+json": {
       "model_id": "01a8f3f88c724905804e6d09a22af691",
       "version_major": 2,
       "version_minor": 0
      },
      "text/plain": [
       "HBox(children=(FloatProgress(value=0.0, max=1388.0), HTML(value='')))"
      ]
     },
     "metadata": {},
     "output_type": "display_data"
    },
    {
     "name": "stdout",
     "output_type": "stream",
     "text": [
      "loss_curr 0.6398535370826721\n",
      "loss_curr 0.6351943612098694\n",
      "\n",
      "Train Epoch: 39 \t Loss: 0.0016545021040157333 \t Accuracy: 61.92% Recall: 60.00%\n",
      "Epoch 40\n",
      "total training batch = 5551\n"
     ]
    },
    {
     "data": {
      "application/vnd.jupyter.widget-view+json": {
       "model_id": "1395b0c7c31d4b429b6700493c0f80cc",
       "version_major": 2,
       "version_minor": 0
      },
      "text/plain": [
       "HBox(children=(FloatProgress(value=0.0, max=5551.0), HTML(value='')))"
      ]
     },
     "metadata": {},
     "output_type": "display_data"
    },
    {
     "name": "stdout",
     "output_type": "stream",
     "text": [
      "loss_curr 0.6334449648857117\n",
      "loss_curr 0.6267197132110596\n",
      "loss_curr 0.6264605522155762\n",
      "loss_curr 0.634721040725708\n",
      "loss_curr 0.6172690987586975\n",
      "loss_curr 0.6223343014717102\n",
      "\n",
      "Train Epoch: 40 \t Loss: 0.001587424764352803 \t Accuracy: 63.34% Recall: 69.00%\n",
      "total testing batch = 1388\n"
     ]
    },
    {
     "data": {
      "application/vnd.jupyter.widget-view+json": {
       "model_id": "32a09307f0d84f9fa873c3bb467e6c65",
       "version_major": 2,
       "version_minor": 0
      },
      "text/plain": [
       "HBox(children=(FloatProgress(value=0.0, max=1388.0), HTML(value='')))"
      ]
     },
     "metadata": {},
     "output_type": "display_data"
    },
    {
     "name": "stdout",
     "output_type": "stream",
     "text": [
      "loss_curr 0.6618613600730896\n",
      "loss_curr 0.6478809118270874\n",
      "\n",
      "Train Epoch: 40 \t Loss: 0.0016544094212945805 \t Accuracy: 62.12% Recall: 60.00%\n",
      "Epoch 41\n",
      "total training batch = 5551\n"
     ]
    },
    {
     "data": {
      "application/vnd.jupyter.widget-view+json": {
       "model_id": "3605810bf85444368719651adc9900b2",
       "version_major": 2,
       "version_minor": 0
      },
      "text/plain": [
       "HBox(children=(FloatProgress(value=0.0, max=5551.0), HTML(value='')))"
      ]
     },
     "metadata": {},
     "output_type": "display_data"
    },
    {
     "name": "stdout",
     "output_type": "stream",
     "text": [
      "loss_curr 0.6175413727760315\n",
      "loss_curr 0.6462887525558472\n",
      "loss_curr 0.621814489364624\n",
      "loss_curr 0.634691059589386\n",
      "loss_curr 0.6367282867431641\n",
      "loss_curr 0.627535879611969\n",
      "\n",
      "Train Epoch: 41 \t Loss: 0.001587328205459139 \t Accuracy: 63.49% Recall: 69.00%\n",
      "total testing batch = 1388\n"
     ]
    },
    {
     "data": {
      "application/vnd.jupyter.widget-view+json": {
       "model_id": "bf0fd0da437346079c12d138af09badf",
       "version_major": 2,
       "version_minor": 0
      },
      "text/plain": [
       "HBox(children=(FloatProgress(value=0.0, max=1388.0), HTML(value='')))"
      ]
     },
     "metadata": {},
     "output_type": "display_data"
    },
    {
     "name": "stdout",
     "output_type": "stream",
     "text": [
      "loss_curr 0.6620126962661743\n",
      "loss_curr 0.6892615556716919\n",
      "\n",
      "Train Epoch: 41 \t Loss: 0.0016543900341528348 \t Accuracy: 62.07% Recall: 60.00%\n",
      "Epoch 42\n",
      "total training batch = 5551\n"
     ]
    },
    {
     "data": {
      "application/vnd.jupyter.widget-view+json": {
       "model_id": "8eb6eec75c4345b2937302d5eb859f15",
       "version_major": 2,
       "version_minor": 0
      },
      "text/plain": [
       "HBox(children=(FloatProgress(value=0.0, max=5551.0), HTML(value='')))"
      ]
     },
     "metadata": {},
     "output_type": "display_data"
    },
    {
     "name": "stdout",
     "output_type": "stream",
     "text": [
      "loss_curr 0.6395498514175415\n",
      "loss_curr 0.6198378205299377\n",
      "loss_curr 0.6321215033531189\n",
      "loss_curr 0.6310310959815979\n",
      "loss_curr 0.6516611576080322\n",
      "loss_curr 0.6442499160766602\n",
      "\n",
      "Train Epoch: 42 \t Loss: 0.0015872441207825264 \t Accuracy: 63.50% Recall: 69.00%\n",
      "total testing batch = 1388\n"
     ]
    },
    {
     "data": {
      "application/vnd.jupyter.widget-view+json": {
       "model_id": "1de715d641ef48a4bdbf72e267e32b14",
       "version_major": 2,
       "version_minor": 0
      },
      "text/plain": [
       "HBox(children=(FloatProgress(value=0.0, max=1388.0), HTML(value='')))"
      ]
     },
     "metadata": {},
     "output_type": "display_data"
    },
    {
     "name": "stdout",
     "output_type": "stream",
     "text": [
      "loss_curr 0.6754941940307617\n",
      "loss_curr 0.6594706773757935\n",
      "\n",
      "Train Epoch: 42 \t Loss: 0.0016543368721302785 \t Accuracy: 62.04% Recall: 60.00%\n",
      "Epoch 43\n",
      "total training batch = 5551\n"
     ]
    },
    {
     "data": {
      "application/vnd.jupyter.widget-view+json": {
       "model_id": "42b8a703466e4cce8840b969cac31d10",
       "version_major": 2,
       "version_minor": 0
      },
      "text/plain": [
       "HBox(children=(FloatProgress(value=0.0, max=5551.0), HTML(value='')))"
      ]
     },
     "metadata": {},
     "output_type": "display_data"
    },
    {
     "name": "stdout",
     "output_type": "stream",
     "text": [
      "loss_curr 0.6464884877204895\n",
      "loss_curr 0.645474374294281\n",
      "loss_curr 0.6300428509712219\n",
      "loss_curr 0.6090555191040039\n",
      "loss_curr 0.6071329116821289\n",
      "loss_curr 0.6640115976333618\n",
      "\n",
      "Train Epoch: 43 \t Loss: 0.0015871974505691571 \t Accuracy: 63.47% Recall: 69.00%\n",
      "total testing batch = 1388\n"
     ]
    },
    {
     "data": {
      "application/vnd.jupyter.widget-view+json": {
       "model_id": "17c8bb4dbf704a6fa380fbca061712af",
       "version_major": 2,
       "version_minor": 0
      },
      "text/plain": [
       "HBox(children=(FloatProgress(value=0.0, max=1388.0), HTML(value='')))"
      ]
     },
     "metadata": {},
     "output_type": "display_data"
    },
    {
     "name": "stdout",
     "output_type": "stream",
     "text": [
      "loss_curr 0.6651429533958435\n",
      "loss_curr 0.6640605330467224\n",
      "\n",
      "Train Epoch: 43 \t Loss: 0.0016542073831229912 \t Accuracy: 62.06% Recall: 60.00%\n",
      "Epoch 44\n",
      "total training batch = 5551\n"
     ]
    },
    {
     "data": {
      "application/vnd.jupyter.widget-view+json": {
       "model_id": "c0deea9e6fad41e49316977d09e4d23a",
       "version_major": 2,
       "version_minor": 0
      },
      "text/plain": [
       "HBox(children=(FloatProgress(value=0.0, max=5551.0), HTML(value='')))"
      ]
     },
     "metadata": {},
     "output_type": "display_data"
    },
    {
     "name": "stdout",
     "output_type": "stream",
     "text": [
      "loss_curr 0.625458836555481\n",
      "loss_curr 0.6227961182594299\n",
      "loss_curr 0.6193059682846069\n",
      "loss_curr 0.6239010691642761\n",
      "loss_curr 0.6341215968132019\n",
      "loss_curr 0.6391714811325073\n",
      "\n",
      "Train Epoch: 44 \t Loss: 0.0015871630693917967 \t Accuracy: 63.47% Recall: 69.00%\n",
      "total testing batch = 1388\n"
     ]
    },
    {
     "data": {
      "application/vnd.jupyter.widget-view+json": {
       "model_id": "52358380ab4c4bb09545434ff8571973",
       "version_major": 2,
       "version_minor": 0
      },
      "text/plain": [
       "HBox(children=(FloatProgress(value=0.0, max=1388.0), HTML(value='')))"
      ]
     },
     "metadata": {},
     "output_type": "display_data"
    },
    {
     "name": "stdout",
     "output_type": "stream",
     "text": [
      "loss_curr 0.6797789931297302\n",
      "loss_curr 0.6695902943611145\n",
      "\n",
      "Train Epoch: 44 \t Loss: 0.0016542695734287232 \t Accuracy: 62.07% Recall: 60.00%\n",
      "Epoch 45\n",
      "total training batch = 5551\n"
     ]
    },
    {
     "data": {
      "application/vnd.jupyter.widget-view+json": {
       "model_id": "9450cbf189054800a790b98d207133ab",
       "version_major": 2,
       "version_minor": 0
      },
      "text/plain": [
       "HBox(children=(FloatProgress(value=0.0, max=5551.0), HTML(value='')))"
      ]
     },
     "metadata": {},
     "output_type": "display_data"
    },
    {
     "name": "stdout",
     "output_type": "stream",
     "text": [
      "loss_curr 0.6629835367202759\n",
      "loss_curr 0.6379414796829224\n",
      "loss_curr 0.6208333373069763\n",
      "loss_curr 0.6229023933410645\n",
      "loss_curr 0.6444504857063293\n",
      "loss_curr 0.6183187365531921\n",
      "\n",
      "Train Epoch: 45 \t Loss: 0.0015870700798640734 \t Accuracy: 63.51% Recall: 69.00%\n",
      "total testing batch = 1388\n"
     ]
    },
    {
     "data": {
      "application/vnd.jupyter.widget-view+json": {
       "model_id": "626b4b149cfa42a880846846006d0e83",
       "version_major": 2,
       "version_minor": 0
      },
      "text/plain": [
       "HBox(children=(FloatProgress(value=0.0, max=1388.0), HTML(value='')))"
      ]
     },
     "metadata": {},
     "output_type": "display_data"
    },
    {
     "name": "stdout",
     "output_type": "stream",
     "text": [
      "loss_curr 0.6485304832458496\n",
      "loss_curr 0.6495168209075928\n",
      "\n",
      "Train Epoch: 45 \t Loss: 0.0016542252907499457 \t Accuracy: 62.05% Recall: 60.00%\n",
      "Epoch 46\n",
      "total training batch = 5551\n"
     ]
    },
    {
     "data": {
      "application/vnd.jupyter.widget-view+json": {
       "model_id": "7674b89d1c9c4ed2b4257a8fbf6bde9a",
       "version_major": 2,
       "version_minor": 0
      },
      "text/plain": [
       "HBox(children=(FloatProgress(value=0.0, max=5551.0), HTML(value='')))"
      ]
     },
     "metadata": {},
     "output_type": "display_data"
    },
    {
     "name": "stdout",
     "output_type": "stream",
     "text": [
      "loss_curr 0.6291845440864563\n",
      "loss_curr 0.6588358283042908\n",
      "loss_curr 0.6455166339874268\n",
      "loss_curr 0.6352298259735107\n",
      "loss_curr 0.6359235644340515\n",
      "loss_curr 0.6261568069458008\n",
      "\n",
      "Train Epoch: 46 \t Loss: 0.0015870554513133745 \t Accuracy: 63.49% Recall: 69.00%\n",
      "total testing batch = 1388\n"
     ]
    },
    {
     "data": {
      "application/vnd.jupyter.widget-view+json": {
       "model_id": "a87658097cb44dd5b4b2a11d278b13bc",
       "version_major": 2,
       "version_minor": 0
      },
      "text/plain": [
       "HBox(children=(FloatProgress(value=0.0, max=1388.0), HTML(value='')))"
      ]
     },
     "metadata": {},
     "output_type": "display_data"
    },
    {
     "name": "stdout",
     "output_type": "stream",
     "text": [
      "loss_curr 0.6375474333763123\n",
      "loss_curr 0.6684436798095703\n",
      "\n",
      "Train Epoch: 46 \t Loss: 0.00165424375891306 \t Accuracy: 62.06% Recall: 60.00%\n",
      "Epoch 47\n",
      "total training batch = 5551\n"
     ]
    },
    {
     "data": {
      "application/vnd.jupyter.widget-view+json": {
       "model_id": "bcc2ccd289574df09445a2a32e724e9a",
       "version_major": 2,
       "version_minor": 0
      },
      "text/plain": [
       "HBox(children=(FloatProgress(value=0.0, max=5551.0), HTML(value='')))"
      ]
     },
     "metadata": {},
     "output_type": "display_data"
    },
    {
     "name": "stdout",
     "output_type": "stream",
     "text": [
      "loss_curr 0.6379801034927368\n",
      "loss_curr 0.6337903141975403\n",
      "loss_curr 0.6056002378463745\n",
      "loss_curr 0.6480414271354675\n",
      "loss_curr 0.6284409761428833\n",
      "loss_curr 0.6192664504051208\n",
      "\n",
      "Train Epoch: 47 \t Loss: 0.0015869928428592001 \t Accuracy: 63.52% Recall: 69.00%\n",
      "total testing batch = 1388\n"
     ]
    },
    {
     "data": {
      "application/vnd.jupyter.widget-view+json": {
       "model_id": "f258ca68ca2d4a11b25d30a3cce9cb76",
       "version_major": 2,
       "version_minor": 0
      },
      "text/plain": [
       "HBox(children=(FloatProgress(value=0.0, max=1388.0), HTML(value='')))"
      ]
     },
     "metadata": {},
     "output_type": "display_data"
    },
    {
     "name": "stdout",
     "output_type": "stream",
     "text": [
      "loss_curr 0.6488986015319824\n",
      "loss_curr 0.6627280116081238\n",
      "\n",
      "Train Epoch: 47 \t Loss: 0.001654200446004792 \t Accuracy: 62.04% Recall: 60.00%\n",
      "Epoch 48\n",
      "total training batch = 5551\n"
     ]
    },
    {
     "data": {
      "application/vnd.jupyter.widget-view+json": {
       "model_id": "483c73bfa9244ad8be77c69a74f3e816",
       "version_major": 2,
       "version_minor": 0
      },
      "text/plain": [
       "HBox(children=(FloatProgress(value=0.0, max=5551.0), HTML(value='')))"
      ]
     },
     "metadata": {},
     "output_type": "display_data"
    },
    {
     "name": "stdout",
     "output_type": "stream",
     "text": [
      "loss_curr 0.632979691028595\n",
      "loss_curr 0.650076150894165\n",
      "loss_curr 0.618922770023346\n",
      "loss_curr 0.6548895239830017\n",
      "loss_curr 0.638397216796875\n",
      "loss_curr 0.6270387172698975\n",
      "\n",
      "Train Epoch: 48 \t Loss: 0.0015869626768727075 \t Accuracy: 63.49% Recall: 69.00%\n",
      "total testing batch = 1388\n"
     ]
    },
    {
     "data": {
      "application/vnd.jupyter.widget-view+json": {
       "model_id": "877e1a5fec6945d88caeda472c886eab",
       "version_major": 2,
       "version_minor": 0
      },
      "text/plain": [
       "HBox(children=(FloatProgress(value=0.0, max=1388.0), HTML(value='')))"
      ]
     },
     "metadata": {},
     "output_type": "display_data"
    },
    {
     "name": "stdout",
     "output_type": "stream",
     "text": [
      "loss_curr 0.664377748966217\n",
      "loss_curr 0.666667640209198\n",
      "\n",
      "Train Epoch: 48 \t Loss: 0.0016542332099876312 \t Accuracy: 62.06% Recall: 60.00%\n",
      "Epoch 49\n",
      "total training batch = 5551\n"
     ]
    },
    {
     "data": {
      "application/vnd.jupyter.widget-view+json": {
       "model_id": "59149d824224480db0364f2a3947db44",
       "version_major": 2,
       "version_minor": 0
      },
      "text/plain": [
       "HBox(children=(FloatProgress(value=0.0, max=5551.0), HTML(value='')))"
      ]
     },
     "metadata": {},
     "output_type": "display_data"
    },
    {
     "name": "stdout",
     "output_type": "stream",
     "text": [
      "loss_curr 0.626829206943512\n",
      "loss_curr 0.6571027636528015\n",
      "loss_curr 0.640311062335968\n",
      "loss_curr 0.6555317640304565\n",
      "loss_curr 0.6502448916435242\n",
      "loss_curr 0.6234210133552551\n",
      "\n",
      "Train Epoch: 49 \t Loss: 0.0015869661700776427 \t Accuracy: 63.47% Recall: 69.00%\n",
      "total testing batch = 1388\n"
     ]
    },
    {
     "data": {
      "application/vnd.jupyter.widget-view+json": {
       "model_id": "854f3a9d270a439e839e014d4f8bcc80",
       "version_major": 2,
       "version_minor": 0
      },
      "text/plain": [
       "HBox(children=(FloatProgress(value=0.0, max=1388.0), HTML(value='')))"
      ]
     },
     "metadata": {},
     "output_type": "display_data"
    },
    {
     "name": "stdout",
     "output_type": "stream",
     "text": [
      "loss_curr 0.6725542545318604\n",
      "loss_curr 0.6362221837043762\n",
      "\n",
      "Train Epoch: 49 \t Loss: 0.0016540447001737104 \t Accuracy: 62.10% Recall: 60.00%\n"
     ]
    }
   ],
   "source": [
    "best_accuracy = 0\n",
    "CONFIG.epochs = 50\n",
    "scheduler = torch.optim.lr_scheduler.ExponentialLR(optimizer, gamma=0.9)\n",
    "for epoch in range(CONFIG.epochs):\n",
    "    print('Epoch {}'.format(epoch))\n",
    "    train_loss, train_accuracy, train_recall = train(model=fm, Config=CONFIG, \n",
    "                                 train_iter=data_module.train_dataloader(), \n",
    "                                 optimizer=optimizer, loss_fn=loss_fn)\n",
    "    scheduler.step()\n",
    "#     test_loss, test_accuracy = valid(model=model_v1, Config=Config, test_iter=data_module.test_dataloader())\n",
    "#     if epoch%10==0:\n",
    "    print('Train Epoch: {} \\t Loss: {} \\t Accuracy: {:.2f}% Recall: {:.2f}%'.format(\n",
    "        epoch, train_loss, train_accuracy, train_recall))\n",
    "    test_loss, test_accu, test_recall, test_res = val(\n",
    "        model=fm, Config=CONFIG, test_iter=data_module.test_dataloader(), loss_fn=loss_fn)\n",
    "    print('Train Epoch: {} \\t Loss: {} \\t Accuracy: {:.2f}% Recall: {:.2f}%'.format(\n",
    "        epoch, test_loss, test_accu, test_recall))\n",
    "    if test_accu > best_accuracy:\n",
    "        torch.save(fm.state_dict(), './fm-model/model_fm_'+str(CONFIG.name)+'_epoch'+str(epoch))"
   ]
  },
  {
   "cell_type": "code",
   "execution_count": null,
   "metadata": {},
   "outputs": [],
   "source": []
  }
 ],
 "metadata": {
  "kernelspec": {
   "display_name": "Python 3",
   "language": "python",
   "name": "python3"
  },
  "language_info": {
   "codemirror_mode": {
    "name": "ipython",
    "version": 3
   },
   "file_extension": ".py",
   "mimetype": "text/x-python",
   "name": "python",
   "nbconvert_exporter": "python",
   "pygments_lexer": "ipython3",
   "version": "3.7.5"
  }
 },
 "nbformat": 4,
 "nbformat_minor": 4
}
