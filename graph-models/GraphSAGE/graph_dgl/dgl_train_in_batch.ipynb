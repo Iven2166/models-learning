{
 "cells": [
  {
   "cell_type": "code",
   "execution_count": 13,
   "id": "20284f03-1d8a-4d7d-92e3-0eb8170718be",
   "metadata": {
    "collapsed": true,
    "jupyter": {
     "outputs_hidden": true
    },
    "tags": []
   },
   "outputs": [
    {
     "name": "stdout",
     "output_type": "stream",
     "text": [
      "Collecting ogb\n",
      "  Downloading ogb-1.3.5-py3-none-any.whl (78 kB)\n",
      "\u001b[2K     \u001b[90m━━━━━━━━━━━━━━━━━━━━━━━━━━━━━━━━━━━━━━━\u001b[0m \u001b[32m78.6/78.6 kB\u001b[0m \u001b[31m541.3 kB/s\u001b[0m eta \u001b[36m0:00:00\u001b[0ma \u001b[36m0:00:01\u001b[0m\n",
      "\u001b[?25hRequirement already satisfied: torch>=1.6.0 in /Users/liuguizhou/opt/anaconda3/envs/dgl/lib/python3.10/site-packages (from ogb) (1.13.1)\n",
      "Collecting outdated>=0.2.0\n",
      "  Downloading outdated-0.2.2-py2.py3-none-any.whl (7.5 kB)\n",
      "Requirement already satisfied: numpy>=1.16.0 in /Users/liuguizhou/opt/anaconda3/envs/dgl/lib/python3.10/site-packages (from ogb) (1.21.6)\n",
      "Requirement already satisfied: pandas>=0.24.0 in /Users/liuguizhou/opt/anaconda3/envs/dgl/lib/python3.10/site-packages (from ogb) (1.3.5)\n",
      "Requirement already satisfied: tqdm>=4.29.0 in /Users/liuguizhou/opt/anaconda3/envs/dgl/lib/python3.10/site-packages (from ogb) (4.64.1)\n",
      "Requirement already satisfied: six>=1.12.0 in /Users/liuguizhou/opt/anaconda3/envs/dgl/lib/python3.10/site-packages (from ogb) (1.16.0)\n",
      "Requirement already satisfied: urllib3>=1.24.0 in /Users/liuguizhou/opt/anaconda3/envs/dgl/lib/python3.10/site-packages (from ogb) (1.26.14)\n",
      "Collecting scikit-learn>=0.20.0\n",
      "  Downloading scikit_learn-1.2.1-cp310-cp310-macosx_10_9_x86_64.whl (9.1 MB)\n",
      "\u001b[2K     \u001b[90m━━━━━━━━━━━━━━━━━━━━━━━━━━━━━━━━━━━━━━━━\u001b[0m \u001b[32m9.1/9.1 MB\u001b[0m \u001b[31m5.3 MB/s\u001b[0m eta \u001b[36m0:00:00\u001b[0m00:01\u001b[0m00:01\u001b[0m\n",
      "\u001b[?25hCollecting littleutils\n",
      "  Downloading littleutils-0.2.2.tar.gz (6.6 kB)\n",
      "  Preparing metadata (setup.py) ... \u001b[?25ldone\n",
      "\u001b[?25hRequirement already satisfied: requests in /Users/liuguizhou/opt/anaconda3/envs/dgl/lib/python3.10/site-packages (from outdated>=0.2.0->ogb) (2.28.2)\n",
      "Requirement already satisfied: setuptools>=44 in /Users/liuguizhou/opt/anaconda3/envs/dgl/lib/python3.10/site-packages (from outdated>=0.2.0->ogb) (65.6.3)\n",
      "Requirement already satisfied: python-dateutil>=2.7.3 in /Users/liuguizhou/opt/anaconda3/envs/dgl/lib/python3.10/site-packages (from pandas>=0.24.0->ogb) (2.8.2)\n",
      "Requirement already satisfied: pytz>=2017.3 in /Users/liuguizhou/opt/anaconda3/envs/dgl/lib/python3.10/site-packages (from pandas>=0.24.0->ogb) (2022.7.1)\n",
      "Collecting threadpoolctl>=2.0.0\n",
      "  Using cached threadpoolctl-3.1.0-py3-none-any.whl (14 kB)\n",
      "Collecting joblib>=1.1.1\n",
      "  Using cached joblib-1.2.0-py3-none-any.whl (297 kB)\n",
      "Requirement already satisfied: scipy>=1.3.2 in /Users/liuguizhou/opt/anaconda3/envs/dgl/lib/python3.10/site-packages (from scikit-learn>=0.20.0->ogb) (1.7.3)\n",
      "Requirement already satisfied: typing-extensions in /Users/liuguizhou/opt/anaconda3/envs/dgl/lib/python3.10/site-packages (from torch>=1.6.0->ogb) (4.4.0)\n",
      "Requirement already satisfied: idna<4,>=2.5 in /Users/liuguizhou/opt/anaconda3/envs/dgl/lib/python3.10/site-packages (from requests->outdated>=0.2.0->ogb) (3.4)\n",
      "Requirement already satisfied: certifi>=2017.4.17 in /Users/liuguizhou/opt/anaconda3/envs/dgl/lib/python3.10/site-packages (from requests->outdated>=0.2.0->ogb) (2022.12.7)\n",
      "Requirement already satisfied: charset-normalizer<4,>=2 in /Users/liuguizhou/opt/anaconda3/envs/dgl/lib/python3.10/site-packages (from requests->outdated>=0.2.0->ogb) (3.0.1)\n",
      "Building wheels for collected packages: littleutils\n",
      "  Building wheel for littleutils (setup.py) ... \u001b[?25ldone\n",
      "\u001b[?25h  Created wheel for littleutils: filename=littleutils-0.2.2-py3-none-any.whl size=7028 sha256=4fef911cdbf031710e51d10536762bf8e362541eaf2fad86d809e5d32dc2d39c\n",
      "  Stored in directory: /Users/liuguizhou/Library/Caches/pip/wheels/e0/3b/9c/d55ff5bc6cfbe70537c4731a22f2ee2462c2e5010b56ac9726\n",
      "Successfully built littleutils\n",
      "Installing collected packages: littleutils, threadpoolctl, joblib, scikit-learn, outdated, ogb\n",
      "Successfully installed joblib-1.2.0 littleutils-0.2.2 ogb-1.3.5 outdated-0.2.2 scikit-learn-1.2.1 threadpoolctl-3.1.0\n"
     ]
    }
   ],
   "source": [
    "# !pip install ogb"
   ]
  },
  {
   "cell_type": "code",
   "execution_count": 136,
   "id": "7d291a72-6d24-4e35-8148-1aaf40c4404e",
   "metadata": {},
   "outputs": [],
   "source": [
    "import sys\n",
    "import torch\n",
    "import torch.nn as nn\n",
    "import torch.nn.functional as F\n",
    "import torchmetrics.functional as MF\n",
    "import dgl\n",
    "import dgl.nn as dglnn\n",
    "from dgl.data import AsNodePredDataset\n",
    "from dgl.dataloading import DataLoader, NeighborSampler, MultiLayerFullNeighborSampler\n",
    "from dgl.data import CiteseerGraphDataset, CoraGraphDataset, PubmedGraphDataset\n",
    "from dgl import AddSelfLoop\n",
    "from ogb.nodeproppred import DglNodePropPredDataset\n",
    "import tqdm\n",
    "import argparse "
   ]
  },
  {
   "cell_type": "code",
   "execution_count": 122,
   "id": "42549f15-01ab-4b84-92ed-1f0e8edac93a",
   "metadata": {},
   "outputs": [
    {
     "name": "stdout",
     "output_type": "stream",
     "text": [
      "Downloading http://snap.stanford.edu/ogb/data/nodeproppred/arxiv.zip\n"
     ]
    },
    {
     "name": "stderr",
     "output_type": "stream",
     "text": [
      "Downloaded 0.08 GB: 100%|██████████| 81/81 [02:13<00:00,  1.65s/it]\n"
     ]
    },
    {
     "name": "stdout",
     "output_type": "stream",
     "text": [
      "Extracting dataset/arxiv.zip\n",
      "Loading necessary files...\n",
      "This might take a while.\n",
      "Processing graphs...\n"
     ]
    },
    {
     "name": "stderr",
     "output_type": "stream",
     "text": [
      "100%|██████████| 1/1 [00:00<00:00, 11781.75it/s]\n"
     ]
    },
    {
     "name": "stdout",
     "output_type": "stream",
     "text": [
      "Converting graphs into DGL objects...\n"
     ]
    },
    {
     "name": "stderr",
     "output_type": "stream",
     "text": [
      "100%|██████████| 1/1 [00:00<00:00, 63.10it/s]"
     ]
    },
    {
     "name": "stdout",
     "output_type": "stream",
     "text": [
      "Saving...\n"
     ]
    },
    {
     "name": "stderr",
     "output_type": "stream",
     "text": [
      "\n"
     ]
    }
   ],
   "source": [
    "ogbn_arxiv_dataset = AsNodePredDataset(DglNodePropPredDataset('ogbn-arxiv'))"
   ]
  },
  {
   "cell_type": "code",
   "execution_count": 134,
   "id": "8d2a60e2-0060-4023-ab60-d89f79230cd8",
   "metadata": {},
   "outputs": [
    {
     "data": {
      "text/plain": [
       "{}"
      ]
     },
     "execution_count": 134,
     "metadata": {},
     "output_type": "execute_result"
    }
   ],
   "source": [
    "ogbn_arxiv_dataset[0].edata"
   ]
  },
  {
   "cell_type": "code",
   "execution_count": null,
   "id": "b4cc82a8-ae97-4bdb-b6db-aaf59ba98999",
   "metadata": {},
   "outputs": [],
   "source": []
  },
  {
   "cell_type": "code",
   "execution_count": 2,
   "id": "63ed1a30-baf8-479c-b2af-d2d402b4061b",
   "metadata": {},
   "outputs": [
    {
     "name": "stdout",
     "output_type": "stream",
     "text": [
      "Done loading data from cached files.\n"
     ]
    }
   ],
   "source": [
    "ds = dgl.data.CSVDataset('./cora_csv/')"
   ]
  },
  {
   "cell_type": "code",
   "execution_count": 3,
   "id": "33cb6de6-1a24-4f6b-b73e-0b128b55b20c",
   "metadata": {
    "tags": []
   },
   "outputs": [],
   "source": [
    "# dataset = AsNodePredDataset(DglNodePropPredDataset('ogbn-products'))\n",
    "dataset = AsNodePredDataset(ds, split_ratio=(0.5,0.2,0.3))"
   ]
  },
  {
   "cell_type": "code",
   "execution_count": 4,
   "id": "51ec8e36-89f0-4527-b7b2-cd1cf0cc2576",
   "metadata": {},
   "outputs": [
    {
     "data": {
      "text/plain": [
       "Dataset(\"my_cora_dataset-as-nodepred\", num_graphs=1, save_path=/Users/liuguizhou/.dgl/my_cora_dataset-as-nodepred)"
      ]
     },
     "execution_count": 4,
     "metadata": {},
     "output_type": "execute_result"
    }
   ],
   "source": [
    "dataset"
   ]
  },
  {
   "cell_type": "code",
   "execution_count": 5,
   "id": "ba56b02a-7221-4d7c-897a-a665579517a4",
   "metadata": {},
   "outputs": [],
   "source": [
    "g = dataset[0]"
   ]
  },
  {
   "cell_type": "code",
   "execution_count": 145,
   "id": "ab76d519-e321-4663-8dfe-6453848d534b",
   "metadata": {},
   "outputs": [
    {
     "name": "stdout",
     "output_type": "stream",
     "text": [
      "Graph(num_nodes=2708, num_edges=5429,\n",
      "      ndata_schemes={'feat': Scheme(shape=(1433,), dtype=torch.float32), 'label': Scheme(shape=(), dtype=torch.int64), 'train_mask': Scheme(shape=(), dtype=torch.bool), 'val_mask': Scheme(shape=(), dtype=torch.bool), 'test_mask': Scheme(shape=(), dtype=torch.bool)}\n",
      "      edata_schemes={})\n"
     ]
    }
   ],
   "source": [
    "print(g)"
   ]
  },
  {
   "cell_type": "code",
   "execution_count": 32,
   "id": "b0aa14f8-b04c-42c6-b603-00a4e89ecf64",
   "metadata": {},
   "outputs": [],
   "source": [
    "g.ndata['feat'] = g.ndata['feat'].float()"
   ]
  },
  {
   "cell_type": "code",
   "execution_count": 33,
   "id": "a96b14e8-7391-4cd3-97ac-3ccc14181150",
   "metadata": {},
   "outputs": [],
   "source": [
    "in_size = g.ndata['feat'].shape[1]\n",
    "out_size = dataset.num_classes"
   ]
  },
  {
   "cell_type": "code",
   "execution_count": 34,
   "id": "f9e90fdc-fad6-4c64-9f13-3ba6edc16daf",
   "metadata": {},
   "outputs": [
    {
     "data": {
      "text/plain": [
       "'/Users/liuguizhou/.dgl/my_cora_dataset-as-nodepred'"
      ]
     },
     "execution_count": 34,
     "metadata": {},
     "output_type": "execute_result"
    }
   ],
   "source": [
    "dataset.raw_path"
   ]
  },
  {
   "cell_type": "code",
   "execution_count": 35,
   "id": "edf64749-32f2-4bea-b297-6b20de072f39",
   "metadata": {},
   "outputs": [
    {
     "data": {
      "text/plain": [
       "7"
      ]
     },
     "execution_count": 35,
     "metadata": {},
     "output_type": "execute_result"
    }
   ],
   "source": [
    "dataset.num_classes"
   ]
  },
  {
   "cell_type": "code",
   "execution_count": 147,
   "id": "2097f94f-c7d1-43b7-b194-8715ec886991",
   "metadata": {},
   "outputs": [
    {
     "data": {
      "text/plain": [
       "(tensor([   0,    0,    0,  ..., 1874, 1876, 1897]),\n",
       " tensor([  21,  905,  906,  ..., 2586, 1874, 2707]))"
      ]
     },
     "execution_count": 147,
     "metadata": {},
     "output_type": "execute_result"
    }
   ],
   "source": [
    "g.edges()"
   ]
  },
  {
   "cell_type": "code",
   "execution_count": 146,
   "id": "432eb77e-3c89-4bbb-a8d1-18dabc850ccc",
   "metadata": {},
   "outputs": [
    {
     "data": {
      "text/plain": [
       "torch.Size([5429])"
      ]
     },
     "execution_count": 146,
     "metadata": {},
     "output_type": "execute_result"
    }
   ],
   "source": [
    "g.edges()[0].shape  # 5429条边, edges是tuple，表示从 a节点连接到b节点。"
   ]
  },
  {
   "cell_type": "code",
   "execution_count": 149,
   "id": "490e860e-6a40-42ab-8da2-de92feb10279",
   "metadata": {},
   "outputs": [
    {
     "data": {
      "text/plain": [
       "(tensor([0]), tensor([906]))"
      ]
     },
     "execution_count": 149,
     "metadata": {},
     "output_type": "execute_result"
    }
   ],
   "source": [
    "g.find_edges(2)  # 第二条边的为 0到906"
   ]
  },
  {
   "cell_type": "code",
   "execution_count": 152,
   "id": "de58825b-731b-4ce4-920c-08776a0486b0",
   "metadata": {},
   "outputs": [
    {
     "data": {
      "text/plain": [
       "(tensor([3, 1, 0,  ..., 3, 3, 3]), torch.Size([2708]))"
      ]
     },
     "execution_count": 152,
     "metadata": {},
     "output_type": "execute_result"
    }
   ],
   "source": [
    "g.in_degrees(), g.in_degrees().shape  # 表示第一个节点有3个in的连接"
   ]
  },
  {
   "cell_type": "code",
   "execution_count": 156,
   "id": "ab7c86f3-d171-4078-8b09-cdbbae08f2ad",
   "metadata": {},
   "outputs": [
    {
     "data": {
      "text/plain": [
       "tensor([166,   3,  42,  ...,   0,   0,   0])"
      ]
     },
     "execution_count": 156,
     "metadata": {},
     "output_type": "execute_result"
    }
   ],
   "source": [
    "g.out_degrees()"
   ]
  },
  {
   "cell_type": "code",
   "execution_count": 161,
   "id": "406d2ae4-099d-4d88-98eb-998bf7483a4b",
   "metadata": {},
   "outputs": [
    {
     "data": {
      "text/plain": [
       "tensor([2.2795, 1.0000, 0.0000,  ..., 2.2795, 2.2795, 2.2795])"
      ]
     },
     "execution_count": 161,
     "metadata": {},
     "output_type": "execute_result"
    }
   ],
   "source": [
    "g.in_degrees().float() ** 0.75"
   ]
  },
  {
   "cell_type": "code",
   "execution_count": null,
   "id": "060f11ee-7848-4e4d-a9ec-69aa377a1bff",
   "metadata": {},
   "outputs": [],
   "source": []
  },
  {
   "cell_type": "code",
   "execution_count": null,
   "id": "b0da3ba1-2af7-4fa3-8147-05120db148ff",
   "metadata": {},
   "outputs": [],
   "source": []
  },
  {
   "cell_type": "code",
   "execution_count": null,
   "id": "891f949e-803b-4c1f-a3e3-c4805f47383f",
   "metadata": {},
   "outputs": [],
   "source": []
  },
  {
   "cell_type": "code",
   "execution_count": 11,
   "id": "80b550d3-b6d2-4453-a8ed-c287d52743af",
   "metadata": {},
   "outputs": [],
   "source": [
    "parser = argparse.ArgumentParser()\n",
    "parser.add_argument('--mode', \n",
    "                    default='mixed',\n",
    "                    choices=['cpu','mixed','puregpu'])\n",
    "# args = parser.parse_args()\n",
    "args = parser.parse_args(args=['--mode', 'cpu'])"
   ]
  },
  {
   "cell_type": "code",
   "execution_count": 12,
   "id": "00441810-5723-4256-ab80-1caf33490499",
   "metadata": {},
   "outputs": [
    {
     "data": {
      "text/plain": [
       "Namespace(mode='cpu')"
      ]
     },
     "execution_count": 12,
     "metadata": {},
     "output_type": "execute_result"
    }
   ],
   "source": [
    "args"
   ]
  },
  {
   "cell_type": "code",
   "execution_count": 13,
   "id": "57ceea92-69ce-45eb-91d8-5ccd0c5954ce",
   "metadata": {},
   "outputs": [],
   "source": [
    "device = torch.device('cpu' if args.mode == 'cpu' else 'cuda')"
   ]
  },
  {
   "cell_type": "code",
   "execution_count": 85,
   "id": "bdf73aa8-8789-412b-ac4b-ccf90e6995bb",
   "metadata": {},
   "outputs": [],
   "source": [
    "class SAGE(nn.Module):\n",
    "    def __init__(self, in_size, hid_size, out_size):\n",
    "        super().__init__()\n",
    "        self.layers = nn.ModuleList()\n",
    "        self.layers.append(dglnn.SAGEConv(in_size,hid_size,'mean'))\n",
    "        self.layers.append(dglnn.SAGEConv(hid_size,hid_size,'mean'))\n",
    "        self.layers.append(dglnn.SAGEConv(hid_size,out_size,'mean'))\n",
    "        self.dropout = nn.Dropout(0.5)\n",
    "        self.hid_size = hid_size\n",
    "        self.out_size = out_size\n",
    "        \n",
    "    def forward(self, blocks, x):\n",
    "        # blocks 相当于根据layers选择的多个block，属于选择节点（特征为x）的邻居采样\n",
    "        h = x\n",
    "        for l, (layer, block) in enumerate(zip(self.layers, blocks)):\n",
    "            h = layer(block, h)\n",
    "            if l != len(self.layers) - 1:\n",
    "                h = F.relu(h)\n",
    "                h = self.dropout(h)\n",
    "        return h \n",
    "    \n",
    "    def inference(self, g, device, batch_size):\n",
    "        \"\"\"Conduct layer-wise inference to get all the node embeddings.\"\"\"\n",
    "        # 从feat到最终的输出，节点在不同的layer层有不同的emb表示。\n",
    "        feat = g.ndata['feat']\n",
    "        sampler = MultiLayerFullNeighborSampler(1,prefetch_node_feats=['feat'])\n",
    "        dataloader = DataLoader(\n",
    "            g, torch.arange(g.num_nodes()).to(g.device), sampler, \n",
    "            device=device, batch_size=batch_size, \n",
    "            shuffle=False, drop_last=False, num_workers=0)\n",
    "        buffer_device = torch.device('cpu')\n",
    "        pin_memory = (buffer_device != device)\n",
    "        \n",
    "        for l, layer in enumerate(self.layers):\n",
    "            y = torch.empty(g.num_nodes(),\n",
    "                            self.hid_size if l!=len(self.layers)-1 else self.out_size, \n",
    "                            device=buffer_device,\n",
    "                            pin_memory=pin_memory)\n",
    "            feat = feat.to(device)  # 在此的feat可能很大，但的确dataloader也是device\n",
    "            for input_nodes, output_nodes, blocks in tqdm.tqdm(dataloader):\n",
    "                x = feat[input_nodes]\n",
    "                h = layer(blocks[0], x)  # len(blocks)=1 因为是在前面 MultiLayerFullNeighborSampler只选择了一层\n",
    "                if l != len(self.layers) - 1:\n",
    "                    h = F.relu(h)\n",
    "                    h = self.dropout(h)\n",
    "                # by design, our output nodes are contiguous\n",
    "                y[output_nodes[0]: output_nodes[-1]+1] = h.to(buffer_device)\n",
    "            feat = y\n",
    "            \n",
    "        return y"
   ]
  },
  {
   "cell_type": "code",
   "execution_count": 86,
   "id": "add66160-3f77-456b-a131-03353b819301",
   "metadata": {},
   "outputs": [],
   "source": [
    "model = SAGE(in_size, 256, out_size).to(device)"
   ]
  },
  {
   "cell_type": "code",
   "execution_count": 87,
   "id": "d0f5007e-11dc-4dba-9e8d-2335ad86d1f2",
   "metadata": {},
   "outputs": [
    {
     "data": {
      "text/plain": [
       "SAGE(\n",
       "  (layers): ModuleList(\n",
       "    (0): SAGEConv(\n",
       "      (feat_drop): Dropout(p=0.0, inplace=False)\n",
       "      (fc_self): Linear(in_features=1433, out_features=256, bias=False)\n",
       "      (fc_neigh): Linear(in_features=1433, out_features=256, bias=False)\n",
       "    )\n",
       "    (1): SAGEConv(\n",
       "      (feat_drop): Dropout(p=0.0, inplace=False)\n",
       "      (fc_self): Linear(in_features=256, out_features=256, bias=False)\n",
       "      (fc_neigh): Linear(in_features=256, out_features=256, bias=False)\n",
       "    )\n",
       "    (2): SAGEConv(\n",
       "      (feat_drop): Dropout(p=0.0, inplace=False)\n",
       "      (fc_self): Linear(in_features=256, out_features=7, bias=False)\n",
       "      (fc_neigh): Linear(in_features=256, out_features=7, bias=False)\n",
       "    )\n",
       "  )\n",
       "  (dropout): Dropout(p=0.5, inplace=False)\n",
       ")"
      ]
     },
     "execution_count": 87,
     "metadata": {},
     "output_type": "execute_result"
    }
   ],
   "source": [
    "model"
   ]
  },
  {
   "cell_type": "code",
   "execution_count": null,
   "id": "e72828a6-8f56-42ef-b714-0b720a238553",
   "metadata": {},
   "outputs": [],
   "source": []
  },
  {
   "cell_type": "code",
   "execution_count": 111,
   "id": "31e50b0b-2cfd-4a90-9226-8f7951593d00",
   "metadata": {},
   "outputs": [],
   "source": [
    "def compute_acc(pred, labels):\n",
    "    \"\"\"\n",
    "    计算准确率\n",
    "    \"\"\"\n",
    "    return (torch.argmax(pred, dim=1) == labels).float().sum() / len(pred)"
   ]
  },
  {
   "cell_type": "code",
   "execution_count": 112,
   "id": "40ed58c8-ab0d-467b-95c2-8929a57f1b04",
   "metadata": {},
   "outputs": [],
   "source": [
    "def evaluate(model, graph, dataloader):\n",
    "    model.eval()\n",
    "    ys = []\n",
    "    y_hats = []\n",
    "    for it, (input_nodes, output_nodes, blocks) in enumerate(dataloader):\n",
    "        with torch.no_grad():\n",
    "            x = blocks[0].srcdata['feat']  # 最初 num_src_nodes（在第一层）的特征 feat\n",
    "            ys.append(blocks[-1].dstdata['label'])  # 最后 num_dst_nodes （在最后层）的 label\n",
    "            y_hats.append(model(blocks, x))\n",
    "    return compute_acc(torch.cat(y_hats), torch.cat(ys))\n",
    "    # return MF.accuracy(torch.cat(y_hats), torch.cat(ys))\n",
    "    # return MF.accuracy(torch.cat(y_hats), torch.cat(ys), task='multiclass', num_classes=7)"
   ]
  },
  {
   "cell_type": "code",
   "execution_count": 119,
   "id": "6794976b-616a-4c62-86dd-265c3b1db80d",
   "metadata": {},
   "outputs": [],
   "source": [
    "def layerwise_infer(device, graph, nid, model, batch_size):\n",
    "    model.eval()\n",
    "    with torch.no_grad():\n",
    "        pred = model.inference(graph, device, batch_size)  # pred in buffer_device\n",
    "        pred = pred[nid]\n",
    "        label = graph.ndata['label'][nid].to(pred.device)\n",
    "        return compute_acc(pred, label)\n",
    "        # return MF.accuracy(pred, label)\n",
    "        # return MF.accuracy(pred, label, task='multiclass', num_classes=7)"
   ]
  },
  {
   "cell_type": "code",
   "execution_count": 114,
   "id": "f7566eff-5ea4-4ca1-8d07-3b7bab7323be",
   "metadata": {},
   "outputs": [],
   "source": [
    "def train(args, device, g, dataset, model):\n",
    "    train_idx = dataset.train_idx.to(device)\n",
    "    val_idx = dataset.val_idx.to(device)\n",
    "    sampler = NeighborSampler([10,10,10],\n",
    "                          prefetch_node_feats=['feat'],\n",
    "                          prefetch_labels=['label'])\n",
    "    use_uva = (args.mode == 'mixed')\n",
    "    train_dataloader = DataLoader(g, train_idx, sampler, device=device,\n",
    "                              batch_size=512,\n",
    "                              shuffle=True, \n",
    "                              drop_last=False, \n",
    "                              num_workers=0,\n",
    "                              use_uva=use_uva)\n",
    "    val_dataloader = DataLoader(g, val_idx, sampler, device=device,\n",
    "                              batch_size=512,\n",
    "                              shuffle=True, \n",
    "                              drop_last=False, \n",
    "                              num_workers=0,\n",
    "                              use_uva=use_uva)\n",
    "    opt = torch.optim.Adam(model.parameters(), lr=1e-3, weight_decay=5e-4)\n",
    "    \n",
    "    for epoch in range(10):\n",
    "        model.train()\n",
    "        total_loss = 0\n",
    "        for it, (input_nodes, output_nodes, blocks) in enumerate(train_dataloader):\n",
    "            x = blocks[0].srcdata['feat']\n",
    "            y = blocks[-1].dstdata['label']\n",
    "            y_hat = model(blocks, x)\n",
    "            loss = F.cross_entropy(y_hat, y)\n",
    "            opt.zero_grad()\n",
    "            loss.backward()\n",
    "            opt.step()\n",
    "            total_loss += loss.item()\n",
    "        acc = evaluate(model, g, val_dataloader)\n",
    "        print(\"Epoch {:05d} | Loss {:.4f} | Accuracy {:.4f} \"\n",
    "              .format(epoch, total_loss / (it+1), acc.item()))"
   ]
  },
  {
   "cell_type": "code",
   "execution_count": 95,
   "id": "4ea0f983-3564-4036-8d73-f835f2f234f9",
   "metadata": {},
   "outputs": [],
   "source": []
  },
  {
   "cell_type": "code",
   "execution_count": 99,
   "id": "828662d6-1886-4189-97b5-5103add002db",
   "metadata": {},
   "outputs": [
    {
     "name": "stderr",
     "output_type": "stream",
     "text": [
      "/Users/liuguizhou/opt/anaconda3/envs/dgl/lib/python3.10/site-packages/dgl/dataloading/dataloader.py:859: DGLWarning: Dataloader CPU affinity opt is not enabled, consider switching it on (see enable_cpu_affinity() or CPU best practices for DGL [https://docs.dgl.ai/tutorials/cpu/cpu_best_practises.html])\n",
      "  dgl_warning(f'Dataloader CPU affinity opt is not enabled, consider switching it on '\n"
     ]
    }
   ],
   "source": [
    "model.eval()\n",
    "ys = []\n",
    "y_hats = []\n",
    "for it, (input_nodes, output_nodes, blocks) in enumerate(val_dataloader):\n",
    "    with torch.no_grad():\n",
    "        x = blocks[0].srcdata['feat']  # 最初 num_src_nodes（在第一层）的特征 feat\n",
    "        ys.append(blocks[-1].dstdata['label'])  # 最后 num_dst_nodes （在最后层）的 label\n",
    "        y_hats.append(model(blocks, x))\n",
    "# return MF.accuracy(torch.cat(y_hats), torch.cat(ys))\n",
    "# return MF.accuracy(torch.cat(y_hats), torch.cat(ys), task='multiclass', num_classes=7)"
   ]
  },
  {
   "cell_type": "code",
   "execution_count": 101,
   "id": "bfbe25fc-7d10-45c0-8522-22f40b7b9c57",
   "metadata": {},
   "outputs": [
    {
     "data": {
      "text/plain": [
       "[Block(num_src_nodes=149, num_dst_nodes=113, num_edges=164),\n",
       " Block(num_src_nodes=113, num_dst_nodes=73, num_edges=102),\n",
       " Block(num_src_nodes=73, num_dst_nodes=29, num_edges=46)]"
      ]
     },
     "execution_count": 101,
     "metadata": {},
     "output_type": "execute_result"
    }
   ],
   "source": [
    "blocks"
   ]
  },
  {
   "cell_type": "code",
   "execution_count": 108,
   "id": "c64ce61a-d188-4f25-8fec-bd13b94ceac3",
   "metadata": {},
   "outputs": [
    {
     "data": {
      "text/plain": [
       "(torch.Size([541, 7]), torch.Size([541]))"
      ]
     },
     "execution_count": 108,
     "metadata": {},
     "output_type": "execute_result"
    }
   ],
   "source": [
    "torch.cat(y_hats).shape, torch.cat(ys).shape"
   ]
  },
  {
   "cell_type": "code",
   "execution_count": 110,
   "id": "0ed0a474-bae7-45d7-a602-f7ca524de159",
   "metadata": {},
   "outputs": [
    {
     "data": {
      "text/plain": [
       "torch.Size([541])"
      ]
     },
     "execution_count": 110,
     "metadata": {},
     "output_type": "execute_result"
    }
   ],
   "source": [
    "torch.argmax(torch.cat(y_hats), dim=1)"
   ]
  },
  {
   "cell_type": "code",
   "execution_count": null,
   "id": "7142b6f3-24d2-4465-b14f-865b1e394e20",
   "metadata": {},
   "outputs": [],
   "source": []
  },
  {
   "cell_type": "code",
   "execution_count": null,
   "id": "93bbc9cc-2452-4da8-bfed-8d30bb13e474",
   "metadata": {},
   "outputs": [],
   "source": []
  },
  {
   "cell_type": "code",
   "execution_count": 115,
   "id": "ffc68145-9487-4df4-8240-0389aa893c42",
   "metadata": {},
   "outputs": [
    {
     "name": "stdout",
     "output_type": "stream",
     "text": [
      "Epoch 00000 | Loss 0.1830 | Accuracy 0.8410 \n",
      "Epoch 00001 | Loss 0.1612 | Accuracy 0.8429 \n",
      "Epoch 00002 | Loss 0.1594 | Accuracy 0.8540 \n",
      "Epoch 00003 | Loss 0.1375 | Accuracy 0.8540 \n",
      "Epoch 00004 | Loss 0.1233 | Accuracy 0.8614 \n",
      "Epoch 00005 | Loss 0.1004 | Accuracy 0.8558 \n",
      "Epoch 00006 | Loss 0.1013 | Accuracy 0.8595 \n",
      "Epoch 00007 | Loss 0.0819 | Accuracy 0.8614 \n",
      "Epoch 00008 | Loss 0.0750 | Accuracy 0.8614 \n",
      "Epoch 00009 | Loss 0.0798 | Accuracy 0.8503 \n"
     ]
    }
   ],
   "source": [
    "train_idx = dataset.train_idx.to(device)\n",
    "val_idx = dataset.val_idx.to(device)\n",
    "sampler = NeighborSampler([10,10,10],\n",
    "                      prefetch_node_feats=['feat'],\n",
    "                      prefetch_labels=['label'])\n",
    "use_uva = (args.mode == 'mixed')\n",
    "train_dataloader = DataLoader(g, train_idx, sampler, device=device,\n",
    "                          batch_size=512,\n",
    "                          shuffle=True, \n",
    "                          drop_last=False, \n",
    "                          num_workers=0,\n",
    "                          use_uva=use_uva)\n",
    "val_dataloader = DataLoader(g, val_idx, sampler, device=device,\n",
    "                          batch_size=512,\n",
    "                          shuffle=True, \n",
    "                          drop_last=False, \n",
    "                          num_workers=0,\n",
    "                          use_uva=use_uva)\n",
    "opt = torch.optim.Adam(model.parameters(), lr=1e-3, weight_decay=5e-4)\n",
    "\n",
    "for epoch in range(10):\n",
    "    model.train()\n",
    "    total_loss = 0\n",
    "    for it, (input_nodes, output_nodes, blocks) in enumerate(train_dataloader):\n",
    "        x = blocks[0].srcdata['feat']\n",
    "        y = blocks[-1].dstdata['label'].type(torch.LongTensor)\n",
    "        y_hat = model(blocks, x)\n",
    "        loss = F.cross_entropy(y_hat, y)\n",
    "        opt.zero_grad()\n",
    "        loss.backward()\n",
    "        opt.step()\n",
    "        total_loss += loss.item()\n",
    "    acc = evaluate(model, g, val_dataloader)\n",
    "    print(\"Epoch {:05d} | Loss {:.4f} | Accuracy {:.4f} \"\n",
    "          .format(epoch, total_loss / (it+1), acc.item()))"
   ]
  },
  {
   "cell_type": "code",
   "execution_count": null,
   "id": "d2f23cc9-f3ce-4070-85b1-9264fc97c220",
   "metadata": {},
   "outputs": [],
   "source": []
  },
  {
   "cell_type": "code",
   "execution_count": 120,
   "id": "307b3f3f-57b2-4de0-afcc-8d1d258256fd",
   "metadata": {},
   "outputs": [
    {
     "name": "stderr",
     "output_type": "stream",
     "text": [
      "100%|██████████| 1/1 [00:00<00:00, 32.98it/s]\n",
      "100%|██████████| 1/1 [00:00<00:00, 36.89it/s]\n",
      "100%|██████████| 1/1 [00:00<00:00, 67.61it/s]\n"
     ]
    }
   ],
   "source": [
    "acc = layerwise_infer(device, g, dataset.test_idx, model, batch_size=4096)"
   ]
  },
  {
   "cell_type": "code",
   "execution_count": 121,
   "id": "83f37a5d-db2e-4716-bb51-9fc107007994",
   "metadata": {},
   "outputs": [
    {
     "data": {
      "text/plain": [
       "tensor(0.8339)"
      ]
     },
     "execution_count": 121,
     "metadata": {},
     "output_type": "execute_result"
    }
   ],
   "source": [
    "acc"
   ]
  },
  {
   "cell_type": "code",
   "execution_count": null,
   "id": "5a292652-c5b1-4c01-bf3a-ded41fcf6d2a",
   "metadata": {},
   "outputs": [],
   "source": []
  }
 ],
 "metadata": {
  "kernelspec": {
   "display_name": "Python 3 (ipykernel)",
   "language": "python",
   "name": "python3"
  },
  "language_info": {
   "codemirror_mode": {
    "name": "ipython",
    "version": 3
   },
   "file_extension": ".py",
   "mimetype": "text/x-python",
   "name": "python",
   "nbconvert_exporter": "python",
   "pygments_lexer": "ipython3",
   "version": "3.9.13"
  }
 },
 "nbformat": 4,
 "nbformat_minor": 5
}
