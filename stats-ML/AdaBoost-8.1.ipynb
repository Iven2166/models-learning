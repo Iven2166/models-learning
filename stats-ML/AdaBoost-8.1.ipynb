{
 "cells": [
  {
   "cell_type": "markdown",
   "metadata": {},
   "source": [
    "来自于《统计学习方法》- AdaBoost 的例题8.1"
   ]
  },
  {
   "cell_type": "code",
   "execution_count": 1,
   "metadata": {},
   "outputs": [],
   "source": [
    "import math"
   ]
  },
  {
   "cell_type": "code",
   "execution_count": 2,
   "metadata": {},
   "outputs": [
    {
     "name": "stdout",
     "output_type": "stream",
     "text": [
      "10\n"
     ]
    }
   ],
   "source": [
    "# create dataset\n",
    "x = [0,1,2,3,4,5,6,7,8,9]\n",
    "y = [1 for i in range(len(x))]\n",
    "for i in [3,4,5,9]:\n",
    "    y[i] = -1\n",
    "n = len(x)\n",
    "print(n)"
   ]
  },
  {
   "cell_type": "code",
   "execution_count": 3,
   "metadata": {},
   "outputs": [
    {
     "name": "stdout",
     "output_type": "stream",
     "text": [
      "test:  0.6\n"
     ]
    }
   ],
   "source": [
    "def func_G(thred, x):\n",
    "    return 1 if x <= thred else -1, -1 if x <= thred else 1    \n",
    "\n",
    "def total_pre(func_G_list, alpha_list):\n",
    "    total_pre = list()\n",
    "    for pos in range(n):\n",
    "        curr = 0\n",
    "        for i in range(len(func_G_list)):\n",
    "            curr += func_G_list[i][pos] * alpha_list[i]\n",
    "        total_pre.append(1 if curr >= 0 else -1)\n",
    "    return total_pre\n",
    "\n",
    "def cal_acc(y = None, pre = None, D = None):\n",
    "    assert len(y) == len(pre) and len(y) > 0\n",
    "    res, n = 0, len(y)\n",
    "    for i in range(n):\n",
    "        if y[i] == pre[i]:\n",
    "            res += D[i]\n",
    "    return round(res,4)\n",
    "\n",
    "print('test: ',cal_acc(y, [1 for _ in range(len(y))], [1/n for _ in range(len(y))]))"
   ]
  },
  {
   "cell_type": "markdown",
   "metadata": {},
   "source": [
    "- 1. 初始化数据权值分布 D\n",
    "- 2. 对m次（第m个分类器）\n",
    "    - 2.1 基于 D 权重的数据进行学习 G\n",
    "    - 2.2 计算 G 分类器的误差率 e\n",
    "    - 2.3 计算 G 的系数（分类器本身的权重） alpha\n",
    "    - 2.4 根据误差率 e 和 分类器权重 alpha 更新数据分布 D\n",
    "- 3. 构建基本分类器 G 的线性组合 "
   ]
  },
  {
   "cell_type": "code",
   "execution_count": 4,
   "metadata": {
    "scrolled": false
   },
   "outputs": [
    {
     "name": "stdout",
     "output_type": "stream",
     "text": [
      "epoch: 0 total_acc = 0.7\n",
      "epoch: 1 total_acc = 0.7\n",
      "epoch: 2 total_acc = 1.0\n",
      "-- epoch end --\n",
      "best combination\n",
      "alpha = 0.4236 classifier: [1, 1, 1, -1, -1, -1, -1, -1, -1, -1]\n",
      "alpha = 0.6496 classifier: [1, 1, 1, 1, 1, 1, 1, 1, 1, -1]\n",
      "alpha = 0.7521 classifier: [-1, -1, -1, -1, -1, -1, 1, 1, 1, 1]\n"
     ]
    }
   ],
   "source": [
    "n = len(x)\n",
    "func_G_list, alpha_list = list(), list()\n",
    "\n",
    "for epoch in range(10):\n",
    "    if epoch == 0:\n",
    "        D = [1/n for _ in range(n)]\n",
    "    else:\n",
    "        w_list = [D[i] * math.exp(-alpha * y[i] * pre_best[i]) for i in range(n)]\n",
    "        z_sum = sum(w_list)\n",
    "        D = [round(w_list[i] / z_sum, 5) for i in range(n)]\n",
    "    \n",
    "    # 计算最低误差率时的分类器\n",
    "    acc_max, acc_list = 0, list()\n",
    "    for thred in range(-1, n + 1):\n",
    "        pre = [func_G(thred, i)[0] for i in range(n)]\n",
    "        acc = cal_acc(y, pre, D)\n",
    "        pre_rev = [func_G(thred, i)[1] for i in range(n)]\n",
    "        acc_rev = cal_acc(y, pre_rev, D)\n",
    "        if acc > acc_max:\n",
    "            thred_best = thred\n",
    "            acc_max = acc\n",
    "            pre_best = pre\n",
    "        if acc_rev > acc_max:\n",
    "            thred_best = thred\n",
    "            acc_max = acc_rev\n",
    "            pre_best = pre_rev\n",
    "#         if epoch==2:\n",
    "#             print(thred, acc_max, thred_best, pre_best)\n",
    "    func_G_list.append(pre_best)    \n",
    "    alpha = 1 / 2 * math.log(round(acc_max,4) / round(1 - acc_max, 4))\n",
    "    alpha_list.append(alpha)\n",
    "#     print(epoch, thred_best, acc_max, alpha, pre_best, D, '\\n')\n",
    "    total_acc = cal_acc(y, total_pre(func_G_list, alpha_list),  [1/n for _ in range(n)])\n",
    "    print('epoch:', epoch, 'total_acc =', total_acc)\n",
    "    if total_acc == 1:\n",
    "        print('-- epoch end --')\n",
    "        print(\"best combination\") \n",
    "        for i in range(len(func_G_list)):\n",
    "            print('alpha =', round(alpha_list[i],4), 'classifier:', func_G_list[i])\n",
    "        break"
   ]
  },
  {
   "cell_type": "code",
   "execution_count": 5,
   "metadata": {},
   "outputs": [
    {
     "data": {
      "text/plain": [
       "[0.42364893019360184, 0.6495990688511223, 0.75209981187596]"
      ]
     },
     "execution_count": 5,
     "metadata": {},
     "output_type": "execute_result"
    }
   ],
   "source": [
    "alpha_list"
   ]
  },
  {
   "cell_type": "code",
   "execution_count": null,
   "metadata": {},
   "outputs": [],
   "source": []
  }
 ],
 "metadata": {
  "kernelspec": {
   "display_name": "Python 3",
   "language": "python",
   "name": "python3"
  },
  "language_info": {
   "codemirror_mode": {
    "name": "ipython",
    "version": 3
   },
   "file_extension": ".py",
   "mimetype": "text/x-python",
   "name": "python",
   "nbconvert_exporter": "python",
   "pygments_lexer": "ipython3",
   "version": "3.7.5"
  }
 },
 "nbformat": 4,
 "nbformat_minor": 4
}
