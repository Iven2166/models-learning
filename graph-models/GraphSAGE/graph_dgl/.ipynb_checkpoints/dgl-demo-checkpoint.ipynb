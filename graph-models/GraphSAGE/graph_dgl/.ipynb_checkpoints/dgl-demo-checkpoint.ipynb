{
 "cells": [
  {
   "cell_type": "code",
   "execution_count": 14,
   "metadata": {},
   "outputs": [],
   "source": [
    "import torch as torch\n",
    "import dgl\n",
    "import pandas as pd\n",
    "import numpy as np\n",
    "import torch.nn as nn\n",
    "import torch.nn.functional as F\n",
    "import itertools"
   ]
  },
  {
   "cell_type": "code",
   "execution_count": 2,
   "metadata": {},
   "outputs": [],
   "source": [
    "u, v = th.tensor([0,0,0,1]), th.tensor([1,2,3,3])"
   ]
  },
  {
   "cell_type": "code",
   "execution_count": 3,
   "metadata": {},
   "outputs": [],
   "source": [
    "g = dgl.graph((u,v))"
   ]
  },
  {
   "cell_type": "code",
   "execution_count": 4,
   "metadata": {},
   "outputs": [
    {
     "name": "stdout",
     "output_type": "stream",
     "text": [
      "Graph(num_nodes=4, num_edges=4,\n",
      "      ndata_schemes={}\n",
      "      edata_schemes={})\n",
      "nodes:  tensor([0, 1, 2, 3])\n",
      "edges:  (tensor([0, 0, 0, 1]), tensor([1, 2, 3, 3]))\n"
     ]
    }
   ],
   "source": [
    "print(g)\n",
    "print('nodes: ', g.nodes())\n",
    "print('edges: ', g.edges())"
   ]
  },
  {
   "cell_type": "code",
   "execution_count": 6,
   "metadata": {},
   "outputs": [
    {
     "name": "stdout",
     "output_type": "stream",
     "text": [
      "demo.py          dgl-demo.ipynb   dgl_graphsage.py\r\n"
     ]
    }
   ],
   "source": [
    "!ls ../"
   ]
  },
  {
   "cell_type": "code",
   "execution_count": 15,
   "metadata": {},
   "outputs": [
    {
     "name": "stderr",
     "output_type": "stream",
     "text": [
      "/Users/tmp/Documents/python_envs/dgl_envs/lib/python3.7/site-packages/dgl/heterograph.py:72: DGLWarning: Recommend creating graphs by `dgl.graph(data)` instead of `dgl.DGLGraph(data)`.\n",
      "  dgl_warning('Recommend creating graphs by `dgl.graph(data)`'\n"
     ]
    }
   ],
   "source": [
    "node_fea = pd.read_table('../../cora/cora.content', header=None)\n",
    "edges = pd.read_table('../../cora/cora.cites', header=None)\n",
    "# 0是node id， 1434是node label\n",
    "node_fea.rename(columns={0: 'node_id', 1434: 'label'}, inplace=True)\n",
    "\n",
    "node_id_number_dict = dict(zip(node_fea['node_id'].unique(),\n",
    "                               range(node_fea['node_id'].nunique())))\n",
    "node_fea['node_id_number'] = node_fea['node_id'].map(node_id_number_dict)\n",
    "edges['edge1'] = edges[0].map(node_id_number_dict)\n",
    "edges['edge2'] = edges[1].map(node_id_number_dict)\n",
    "\n",
    "label_dict = dict(zip(node_fea['label'].unique(),\n",
    "                      range(node_fea['label'].nunique())))\n",
    "node_fea['label_number'] = node_fea['label'].map(label_dict)\n",
    "\n",
    "src = np.array(edges['edge1'].values)\n",
    "dst = np.array(edges['edge2'].values)\n",
    "\n",
    "u = np.concatenate([src, dst])\n",
    "v = np.concatenate([dst, src])\n",
    "\n",
    "my_net = dgl.DGLGraph((u, v))\n",
    "\n",
    "fea_id = range(1, 1434)\n",
    "tensor_fea = torch.tensor(node_fea[fea_id].values, dtype=torch.float32)\n",
    "\n",
    "fea_np = nn.Embedding(2708, 1433)\n",
    "fea_np.weight = nn.Parameter(tensor_fea)\n",
    "\n",
    "my_net.ndata['features'] = fea_np.weight\n",
    "my_net.ndata['label'] = torch.tensor(node_fea['label_number'].values)\n",
    "\n",
    "in_feats = 1433\n",
    "n_classes = node_fea['label'].nunique()\n",
    "\n",
    "data = in_feats, n_classes, my_net, fea_np"
   ]
  },
  {
   "cell_type": "code",
   "execution_count": 20,
   "metadata": {},
   "outputs": [
    {
     "data": {
      "text/plain": "pandas.core.frame.DataFrame"
     },
     "execution_count": 20,
     "metadata": {},
     "output_type": "execute_result"
    }
   ],
   "source": [
    "type(node_fea)"
   ]
  },
  {
   "cell_type": "code",
   "execution_count": 27,
   "metadata": {},
   "outputs": [],
   "source": [
    "train_node_ids = np.array(node_fea.groupby('label_number').apply(lambda x: x.sort_values('node_id_number')['node_id_number'].values[:20]))"
   ]
  },
  {
   "cell_type": "code",
   "execution_count": 41,
   "outputs": [],
   "source": [
    "val_node_ids = np.array(node_fea.groupby('label_number')\n",
    "                        .apply(lambda x: x.sort_values('node_id_number')['node_id_number'].values[21:110]))\n",
    "test_node_ids = np.array(node_fea.groupby('label_number')\n",
    "                         .apply(lambda x: x.sort_values('node_id_number')['node_id_number'].values[111:300]))\n",
    "\n",
    "train_nid = []\n",
    "val_nid = []\n",
    "test_nid = []\n",
    "for (train_nodes, val_nodes, test_nodes) in zip(train_node_ids, val_node_ids, test_node_ids):\n",
    "    train_nid.extend(train_nodes)\n",
    "    val_nid.extend(val_nodes)\n",
    "    test_nid.extend(test_nodes)"
   ],
   "metadata": {
    "collapsed": false
   }
  },
  {
   "cell_type": "code",
   "execution_count": 44,
   "outputs": [
    {
     "data": {
      "text/plain": "140"
     },
     "execution_count": 44,
     "metadata": {},
     "output_type": "execute_result"
    }
   ],
   "source": [
    "len(train_nid)"
   ],
   "metadata": {
    "collapsed": false
   }
  },
  {
   "cell_type": "code",
   "execution_count": 46,
   "outputs": [],
   "source": [
    "train_mask = node_fea['node_id_number'].apply(lambda x: x in train_nid)"
   ],
   "metadata": {
    "collapsed": false
   }
  },
  {
   "cell_type": "code",
   "execution_count": 39,
   "outputs": [
    {
     "data": {
      "text/plain": "0          0\n1          1\n2          2\n3          3\n4          4\n        ... \n2703    2703\n2704    2704\n2705    2705\n2706    2706\n2707    2707\nName: node_id_number, Length: 2708, dtype: int64"
     },
     "execution_count": 39,
     "metadata": {},
     "output_type": "execute_result"
    }
   ],
   "source": [
    "train_mask"
   ],
   "metadata": {
    "collapsed": false
   }
  },
  {
   "cell_type": "code",
   "execution_count": null,
   "outputs": [],
   "source": [],
   "metadata": {
    "collapsed": false
   }
  }
 ],
 "metadata": {
  "kernelspec": {
   "display_name": "Python 3 (ipykernel)",
   "language": "python",
   "name": "python3"
  },
  "language_info": {
   "codemirror_mode": {
    "name": "ipython",
    "version": 3
   },
   "file_extension": ".py",
   "mimetype": "text/x-python",
   "name": "python",
   "nbconvert_exporter": "python",
   "pygments_lexer": "ipython3",
   "version": "3.7.5"
  }
 },
 "nbformat": 4,
 "nbformat_minor": 1
}
