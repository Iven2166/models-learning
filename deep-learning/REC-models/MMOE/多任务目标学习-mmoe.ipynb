{
 "cells": [
  {
   "cell_type": "code",
   "execution_count": 25,
   "metadata": {},
   "outputs": [],
   "source": [
    "import numpy as np\n",
    "import random\n",
    "import pandas as pd\n",
    "from sklearn.metrics import roc_auc_score\n",
    "from tqdm import tqdm\n",
    "\n",
    "import torch\n",
    "import torch.nn as nn\n",
    "import torch.optim as optim\n",
    "from torch.utils.data import DataLoader\n",
    "\n",
    "random.seed(24)\n",
    "np.random.seed(24)\n",
    "seed = 24\n",
    "batch_size = 512\n",
    "device = 'cuda' if torch.cuda.is_available() else 'cpu'\n",
    "\n",
    "data_path = '../data/census-income/'"
   ]
  },
  {
   "cell_type": "markdown",
   "metadata": {},
   "source": [
    "# 整理数据"
   ]
  },
  {
   "cell_type": "code",
   "execution_count": 2,
   "metadata": {},
   "outputs": [],
   "source": [
    "# 获取特征名称\n",
    "# !cat census-income.names | grep -E '#' | grep -aE '#[0-9]* \\(.*' -o > ./census-income-cols-details"
   ]
  },
  {
   "cell_type": "code",
   "execution_count": 3,
   "metadata": {},
   "outputs": [],
   "source": [
    "# cols_file = open(data_path + 'census-income-cols-details')\n",
    "# cols = cols_file.read()\n",
    "# cols_file.close()\n",
    "# cols = cols.split('\\n')\n",
    "\n",
    "# cols_types, cols_name = [], []\n",
    "# for c in cols:\n",
    "#     cols_types.append(c.split(' ')[-1])\n",
    "#     cols_name.append('_'.join(c.split(' ')[1:-1]).replace('(','').replace(')',''))\n",
    "\n",
    "# cols_types=cols_types[0:-1]\n",
    "# cols_name[-1]='income5k'"
   ]
  },
  {
   "cell_type": "code",
   "execution_count": 5,
   "metadata": {},
   "outputs": [],
   "source": [
    "def to_categorical(y, num_classes=None, dtype='float32'):\n",
    "    y = np.array(y, dtype='int')\n",
    "    input_shape = y.shape\n",
    "    if input_shape and input_shape[-1]==1 and len(input_shape)>1:\n",
    "        input_shape = tuple(input_shape[:-1])\n",
    "    y = y.ravel() # https://numpy.org/doc/stable/reference/generated/numpy.ravel.html\n",
    "    if not num_classes:\n",
    "        num_classes = np.max(y) + 1\n",
    "    n = y.shape[0]\n",
    "    categorical = np.zeros((n, num_classes), dtype=dtype)\n",
    "    categorical[np.arange(n), y] = 1\n",
    "    output_shape = input_shape + (num_classes, )\n",
    "    categorical = np.reshape(categorical, output_shape)\n",
    "    return categorical"
   ]
  },
  {
   "cell_type": "code",
   "execution_count": 6,
   "metadata": {},
   "outputs": [],
   "source": [
    "cols_name = ['age', 'class_worker', 'det_ind_code', 'det_occ_code', 'education', 'wage_per_hour', 'hs_college',\n",
    "            'marital_stat', 'major_ind_code', 'major_occ_code', 'race', 'hisp_origin', 'sex', 'union_member',\n",
    "            'unemp_reason', 'full_or_part_emp', 'capital_gains', 'capital_losses', 'stock_dividends',\n",
    "            'tax_filer_stat', 'region_prev_res', 'state_prev_res', 'det_hh_fam_stat', 'det_hh_summ',\n",
    "            'instance_weight', 'mig_chg_msa', 'mig_chg_reg', 'mig_move_reg', 'mig_same', 'mig_prev_sunbelt',\n",
    "            'num_emp', 'fam_under_18', 'country_father', 'country_mother', 'country_self', 'citizenship',\n",
    "            'own_or_self', 'vet_question', 'vet_benefits', 'weeks_worked', 'year', 'income_50k']\n",
    "\n",
    "categorical_columns = ['class_worker', 'det_ind_code', 'det_occ_code', 'education', 'hs_college', 'major_ind_code',\n",
    "                       'major_occ_code', 'race', 'hisp_origin', 'sex', 'union_member', 'unemp_reason',\n",
    "                       'full_or_part_emp', 'tax_filer_stat', 'region_prev_res', 'state_prev_res', 'det_hh_fam_stat',\n",
    "                       'det_hh_summ', 'mig_chg_msa', 'mig_chg_reg', 'mig_move_reg', 'mig_same', 'mig_prev_sunbelt',\n",
    "                       'fam_under_18', 'country_father', 'country_mother', 'country_self', 'citizenship',\n",
    "                       'vet_question']"
   ]
  },
  {
   "cell_type": "code",
   "execution_count": 7,
   "metadata": {},
   "outputs": [],
   "source": [
    "def data_pre(cols_name, categorical_columns):\n",
    "    cols_name = cols_name\n",
    "    categorical_columns = categorical_columns\n",
    "    \n",
    "    train_df = pd.read_csv(data_path + 'census-income.data', names=cols_name)\n",
    "    test_df = pd.read_csv(data_path + 'census-income.test', names=cols_name)\n",
    "    label_columns = ['income_50k','marital_stat']\n",
    "    \n",
    "    train_transformed = pd.get_dummies(train_df.drop(label_columns, axis=1), \n",
    "                                       columns=categorical_columns)\n",
    "    test_transformed = pd.get_dummies(test_df.drop(label_columns, axis=1),\n",
    "                                      columns=categorical_columns)\n",
    "    # 因为dummy变量，train有而test没有，所以单独增加一列\n",
    "    dummy_lack = list(set(train_transformed.columns)-set(test_transformed.columns))\n",
    "    # 'det_hh_fam_stat_ Grandchild <18 ever marr not in subfamily'\n",
    "    for dummy in dummy_lack:\n",
    "        test_transformed[dummy] = 0\n",
    "    train_labels = train_df[label_columns]\n",
    "    test_labels = test_df[label_columns]\n",
    "    \n",
    "    # 训练目标的转化\n",
    "    train_income = to_categorical(\n",
    "        (train_labels.income_50k == ' 50000+.').astype(int), num_classes=2)\n",
    "    train_marital = to_categorical(\n",
    "        (train_labels.marital_stat == ' Never married').astype(int), num_classes=2)\n",
    "    other_income = to_categorical(\n",
    "        (test_labels.income_50k == ' 50000+.').astype(int), num_classes=2)\n",
    "    other_marital = to_categorical(\n",
    "        (test_labels.marital_stat == ' Never married').astype(int), num_classes=2)\n",
    "    \n",
    "    dict_outputs = {'income':train_income.shape[1],'marital':train_marital.shape[1]}\n",
    "    dict_train_labels = {'income':train_income, 'marital':train_marital}\n",
    "    dict_other_labels = {'income':other_income, 'marital':other_marital}\n",
    "    output_info = [(dict_outputs[key], key) for key in sorted(dict_outputs.keys())]\n",
    "    \n",
    "    # 再把test数据集0.5分开-依据原文\n",
    "    validation_indices = test_transformed.sample(\n",
    "        frac=0.5, replace=False, random_state=seed).index\n",
    "    test_indices = list(set(test_transformed.index) - set(validation_indices))\n",
    "    \n",
    "    # 若干个数据集\n",
    "    validation_data = test_transformed.iloc[validation_indices]\n",
    "    validation_label = [dict_other_labels[key][validation_indices] \n",
    "                        for key in sorted(dict_other_labels.keys())]\n",
    "    test_data = test_transformed.iloc[test_indices]\n",
    "    test_label = [dict_other_labels[key][test_indices] \n",
    "                  for key in sorted(dict_other_labels.keys())]\n",
    "    train_data = train_transformed\n",
    "    train_label = [dict_train_labels[key] \n",
    "                   for key in sorted(dict_train_labels.keys())]\n",
    "    \n",
    "    return train_data, train_label, validation_data, validation_label,test_data, test_label, output_info"
   ]
  },
  {
   "cell_type": "code",
   "execution_count": 8,
   "metadata": {},
   "outputs": [],
   "source": [
    "train_data, train_label, validation_data, validation_label, test_data, test_label, output_info = data_pre(cols_name, categorical_columns)\n"
   ]
  },
  {
   "cell_type": "code",
   "execution_count": 9,
   "metadata": {},
   "outputs": [],
   "source": [
    "def getTensorDataset(my_x, my_y):\n",
    "    tensor_x = torch.Tensor(my_x)\n",
    "    tensor_y = torch.Tensor(my_y)\n",
    "    return torch.utils.data.TensorDataset(tensor_x, tensor_y)"
   ]
  },
  {
   "cell_type": "code",
   "execution_count": 10,
   "metadata": {},
   "outputs": [],
   "source": [
    "train_label_tmp = np.column_stack(\n",
    "    (np.argmax(train_label[0], axis=1), np.argmax(train_label[1], axis=1)))\n",
    "train_loader = DataLoader(\n",
    "    dataset=getTensorDataset(train_data.to_numpy(), train_label_tmp), \n",
    "    batch_size=batch_size, shuffle=True)"
   ]
  },
  {
   "cell_type": "code",
   "execution_count": 13,
   "metadata": {},
   "outputs": [
    {
     "data": {
      "text/plain": [
       "(torch.Size([512, 499]), torch.Size([512, 2]))"
      ]
     },
     "execution_count": 13,
     "metadata": {},
     "output_type": "execute_result"
    }
   ],
   "source": [
    "next(iter(train_loader))[0].size(), next(iter(train_loader))[1].size()"
   ]
  },
  {
   "attachments": {
    "image.png": {
     "image/png": "[encoded data removed]"
    }
   },
   "cell_type": "markdown",
   "metadata": {},
   "source": [
    "# MMOE模型架构定义\n",
    "![image.png](attachment:image.png)\n",
    "https://dl.acm.org/doi/pdf/10.1145/3219819.3220007"
   ]
  },
  {
   "cell_type": "code",
   "execution_count": 14,
   "metadata": {},
   "outputs": [],
   "source": [
    "class Expert(nn.Module):\n",
    "    def __init__(self, input_size, output_size, hidden_size):\n",
    "        super(Expert, self).__init__()\n",
    "        self.fc1 = nn.Linear(input_size, hidden_size)\n",
    "        self.fc2 = nn.Linear(hidden_size, output_size)\n",
    "        self.relu = nn.ReLU()\n",
    "        self.dropout = nn.Dropout(0.3)\n",
    "    \n",
    "    def forward(self, x):\n",
    "        out = self.fc1(x)\n",
    "        out = self.relu(out)\n",
    "        out = self.dropout(out)\n",
    "        out = self.fc2(out)\n",
    "        return out"
   ]
  },
  {
   "cell_type": "code",
   "execution_count": 15,
   "metadata": {},
   "outputs": [],
   "source": [
    "class Tower(nn.Module):\n",
    "    def __init__(self, input_size, output_size, hidden_size):\n",
    "        super(Tower, self).__init__()\n",
    "        self.fc1 = nn.Linear(input_size, hidden_size)\n",
    "        self.fc2 = nn.Linear(hidden_size, output_size)\n",
    "        self.relu = nn.ReLU()\n",
    "        self.dropout = nn.Dropout(0.4)\n",
    "        self.sigmoid = nn.Sigmoid()\n",
    "    \n",
    "    def forward(self, x):\n",
    "        out = self.fc1(x)\n",
    "        out = self.relu(out)\n",
    "        out = self.dropout(out)\n",
    "        out = self.fc2(out)\n",
    "        out = self.sigmoid(out)\n",
    "        return out"
   ]
  },
  {
   "cell_type": "code",
   "execution_count": 16,
   "metadata": {},
   "outputs": [],
   "source": [
    "class MMOE(nn.Module):\n",
    "    def __init__(self, input_size, num_experts, experts_out,\n",
    "                 experts_hidden, towers_hidden, tasks):\n",
    "        \"\"\"\n",
    "        指定\n",
    "        \"\"\"\n",
    "        super(MMOE, self).__init__()\n",
    "        self.input_size = input_size\n",
    "        self.num_experts = num_experts\n",
    "        self.experts_out = experts_out\n",
    "        self.experts_hidden = experts_hidden\n",
    "        self.towers_hidden = towers_hidden\n",
    "        self.tasks = tasks\n",
    "        self.softmax = nn.Softmax(dim=1)\n",
    "        \n",
    "        self.experts = nn.ModuleList(\n",
    "            [Expert(self.input_size, self.experts_out, self.experts_hidden) \n",
    "            for i in range(self.num_experts)])\n",
    "        self.w_gates = nn.ParameterList(\n",
    "            [nn.Parameter(torch.randn(self.input_size, self.num_experts), requires_grad=True)\n",
    "            for i in range(self.tasks)])\n",
    "        self.towers = nn.ModuleList(\n",
    "            [Tower(self.experts_out, 1, self.towers_hidden)\n",
    "            for i in range(self.tasks)])\n",
    "    \n",
    "    def forward(self, x):\n",
    "        \"\"\"\n",
    "        x: 在这里是表格型数据 [batch, input_size]\n",
    "        \"\"\"\n",
    "        experts_o = [e(x) for e in self.experts] \n",
    "        # 一个专家输出一个 [batch, experts_out]，拼接为 list\n",
    "        experts_o_tensor = torch.stack(experts_o) \n",
    "        # stack起来 [num_experts, batch, experts_out]\n",
    "        \n",
    "        gates_o = [self.softmax(x @ g) for g in self.w_gates]\n",
    "        # 一个gate输出一个 x @ g, [batch, input_size] @ [input_size, num_experts]\n",
    "        # 相当于每个gate都给每个专家配备了一个门控，而非一个gate对应一个专家。多对多而非单对单。\n",
    "        # 几个task就几个gate，所以 [[batch, num_experts], [batch, num_experts]]\n",
    "        \n",
    "        tower_input = [g.t().unsqueeze(2).expand(-1,-1,self.experts_out) * experts_o_tensor \n",
    "                      for g in gates_o]\n",
    "        # g: [batch, num_experts]\n",
    "        # g.t().unsqueeze(2): [num_experts, batch, 1]\n",
    "        # g.t().unsqueeze(2).expand(-1,-1,self.experts_out): [num_experts, batch, experts_out]\n",
    "        # experts_o_tensor: [num_experts, batch, experts_out]\n",
    "        # 直接矩阵点积，获得 2个[num_experts, batch, experts_out] 形成一个list\n",
    "        \n",
    "        tower_input = [torch.sum(ti, dim=0) for ti in tower_input]\n",
    "        # ti: 作为一个专家给的对全部batch的判断 [num_experts, batch, experts_out]\n",
    "        # torch.sum(ti,dim=0) 之后，得到 2个 [batch, experts_out]\n",
    "        \n",
    "        final_output = [t(ti) for t, ti in zip(self.towers, tower_input)]\n",
    "        # 两个tower（task），ti: [batch, experts_out] 输入t(tower)中，得到 [batch, 1] 共2个\n",
    "        return final_output"
   ]
  },
  {
   "cell_type": "code",
   "execution_count": 17,
   "metadata": {},
   "outputs": [
    {
     "name": "stdout",
     "output_type": "stream",
     "text": [
      "2 torch.Size([512, 1])\n"
     ]
    },
    {
     "data": {
      "text/plain": [
       "tensor([[0.8900],\n",
       "        [0.4751],\n",
       "        [0.4616],\n",
       "        [0.5594],\n",
       "        [0.8336],\n",
       "        [0.4256],\n",
       "        [0.0013],\n",
       "        [0.8454],\n",
       "        [0.9717],\n",
       "        [0.8283]], grad_fn=<SliceBackward>)"
      ]
     },
     "execution_count": 17,
     "metadata": {},
     "output_type": "execute_result"
    }
   ],
   "source": [
    "# 测试输入正确\n",
    "tmp = next(iter(train_loader))[0]\n",
    "\n",
    "model_tmp = MMOE(input_size=499, num_experts=6, experts_out=16, \n",
    "             experts_hidden=32, towers_hidden=8, tasks=2)\n",
    "\n",
    "tmp_y = model_tmp(tmp)\n",
    "print(len(tmp_y), tmp_y[0].size())\n",
    "tmp_y[0][:10]"
   ]
  },
  {
   "cell_type": "markdown",
   "metadata": {},
   "source": [
    "# 获取label数据"
   ]
  },
  {
   "cell_type": "code",
   "execution_count": 18,
   "metadata": {},
   "outputs": [],
   "source": [
    "train_label_tmp = np.column_stack(\n",
    "    (np.argmax(train_label[0], axis=1), np.argmax(train_label[1], axis=1)))\n",
    "train_loader = DataLoader(\n",
    "    dataset=getTensorDataset(train_data.to_numpy(), train_label_tmp), \n",
    "    batch_size=batch_size, shuffle=True)\n",
    "\n",
    "validation_label_tmp = np.column_stack(\n",
    "    (np.argmax(validation_label[0], axis=1), np.argmax(validation_label[1], axis=1)))\n",
    "val_loader = DataLoader(\n",
    "    dataset=getTensorDataset(validation_data.to_numpy(), validation_label_tmp), \n",
    "    batch_size=batch_size)\n",
    "\n",
    "test_label_tmp = np.column_stack(\n",
    "    (np.argmax(test_label[0], axis=1), np.argmax(test_label[1], axis=1)))\n",
    "test_loader = DataLoader(\n",
    "    dataset=getTensorDataset(test_data.to_numpy(), test_label_tmp), batch_size=batch_size)"
   ]
  },
  {
   "cell_type": "code",
   "execution_count": 19,
   "metadata": {},
   "outputs": [
    {
     "name": "stdout",
     "output_type": "stream",
     "text": [
      "torch.Size([512, 499]) torch.Size([512, 499]) torch.Size([512, 499])\n"
     ]
    }
   ],
   "source": [
    "print(next(iter(train_loader))[0].size(),\n",
    "      next(iter(val_loader))[0].size(),\n",
    "      next(iter(test_loader))[0].size())"
   ]
  },
  {
   "cell_type": "markdown",
   "metadata": {},
   "source": [
    "# 测试函数"
   ]
  },
  {
   "cell_type": "code",
   "execution_count": 20,
   "metadata": {},
   "outputs": [],
   "source": [
    "def test(loader):\n",
    "    t1_pred, t2_pred, t1_target, t2_target = [], [], [], []\n",
    "    model.eval()\n",
    "    with torch.no_grad():\n",
    "        epoch_loss = []\n",
    "        for x, y in loader:\n",
    "            x, y = x.to(device), y.to(device)\n",
    "            yhat = model(x)\n",
    "            y1, y2 = y[:, 0],y[:, 1]\n",
    "            yhat_1, yhat_2 = yhat[0], yhat[1]\n",
    "\n",
    "            loss1, loss2 = loss_fn(yhat_1, y1.view(-1, 1)), loss_fn(yhat_2, y2.view(-1, 1))\n",
    "            loss = loss1 + loss2\n",
    "\n",
    "            # t1_hat = yhat_1.view(-1) > 0.7\n",
    "            # t2_hat = yhat_2.view(-1) > 0.5\n",
    "            t1_hat, t2_hat = list(yhat_1), list(yhat_2)\n",
    "\n",
    "            t1_pred += t1_hat\n",
    "            t2_pred += t2_hat\n",
    "            t1_target += list(y1)\n",
    "            t2_target += list(y2)\n",
    "#     return t1_target, t2_target, t1_pred, t2_pred\n",
    "#     t1_pred = [1 if x else 0 for x in list(t1_pred)]\n",
    "#     t2_pred = [1 if x else 0 for x in list(t2_pred)]\n",
    "    \n",
    "    \n",
    "    t1_target = [i.item() for i in t1_target]\n",
    "    t2_target = [i.item() for i in t2_target]\n",
    "    t1_pred = [i.item() for i in t1_pred]\n",
    "    t2_pred = [i.item() for i in t2_pred]\n",
    "    auc_1 = roc_auc_score(t1_target, t1_pred)\n",
    "    auc_2 = roc_auc_score(t2_target, t2_pred)\n",
    "    return auc_1, auc_2"
   ]
  },
  {
   "cell_type": "markdown",
   "metadata": {},
   "source": [
    "# MMOE模型应用"
   ]
  },
  {
   "cell_type": "code",
   "execution_count": 36,
   "metadata": {},
   "outputs": [],
   "source": [
    "model = MMOE(input_size=499, num_experts=6, experts_out=16, \n",
    "             experts_hidden=32, towers_hidden=8, tasks=2)\n",
    "model = model.to(device)"
   ]
  },
  {
   "cell_type": "code",
   "execution_count": 37,
   "metadata": {},
   "outputs": [],
   "source": [
    "lr = 1e-4\n",
    "n_epochs = 100\n",
    "loss_fn = nn.BCELoss(reduction='mean')\n",
    "optimizer = optim.Adam(model.parameters(), lr=lr, weight_decay=1e-5)\n",
    "losses = []\n",
    "val_loss = []"
   ]
  },
  {
   "cell_type": "code",
   "execution_count": 38,
   "metadata": {
    "scrolled": true
   },
   "outputs": [
    {
     "name": "stdout",
     "output_type": "stream",
     "text": [
      "测试test-auc函数:  0.37227054556447803 0.5449308542903704\n"
     ]
    }
   ],
   "source": [
    "# 测试test函数\n",
    "auc1,auc2 = test(test_loader)\n",
    "print('测试test-auc函数: ', auc1,auc2)"
   ]
  },
  {
   "cell_type": "code",
   "execution_count": 39,
   "metadata": {},
   "outputs": [
    {
     "name": "stderr",
     "output_type": "stream",
     "text": [
      "  0%|          | 0/100 [00:00<?, ?it/s]"
     ]
    },
    {
     "name": "stdout",
     "output_type": "stream",
     "text": [
      "Epoch: 0/100\n"
     ]
    },
    {
     "name": "stderr",
     "output_type": "stream",
     "text": [
      "  1%|          | 1/100 [00:14<24:27, 14.82s/it]"
     ]
    },
    {
     "name": "stdout",
     "output_type": "stream",
     "text": [
      "train loss: 2.64831, val task1 auc: 0.67110, val task2 auc: 0.575\n",
      "Epoch: 1/100\n"
     ]
    },
    {
     "name": "stderr",
     "output_type": "stream",
     "text": [
      "  2%|▏         | 2/100 [00:30<24:39, 15.09s/it]"
     ]
    },
    {
     "name": "stdout",
     "output_type": "stream",
     "text": [
      "train loss: 1.05945, val task1 auc: 0.68584, val task2 auc: 0.895\n",
      "Epoch: 2/100\n"
     ]
    },
    {
     "name": "stderr",
     "output_type": "stream",
     "text": [
      "  3%|▎         | 3/100 [00:44<23:44, 14.69s/it]"
     ]
    },
    {
     "name": "stdout",
     "output_type": "stream",
     "text": [
      "train loss: 0.87511, val task1 auc: 0.69327, val task2 auc: 0.928\n",
      "Epoch: 3/100\n"
     ]
    },
    {
     "name": "stderr",
     "output_type": "stream",
     "text": [
      "  4%|▍         | 4/100 [00:58<23:23, 14.62s/it]"
     ]
    },
    {
     "name": "stdout",
     "output_type": "stream",
     "text": [
      "train loss: 0.74794, val task1 auc: 0.70356, val task2 auc: 0.943\n",
      "Epoch: 4/100\n"
     ]
    },
    {
     "name": "stderr",
     "output_type": "stream",
     "text": [
      "  5%|▌         | 5/100 [01:13<23:09, 14.63s/it]"
     ]
    },
    {
     "name": "stdout",
     "output_type": "stream",
     "text": [
      "train loss: 0.67697, val task1 auc: 0.71803, val task2 auc: 0.948\n",
      "Epoch: 5/100\n"
     ]
    },
    {
     "name": "stderr",
     "output_type": "stream",
     "text": [
      "  6%|▌         | 6/100 [01:26<22:18, 14.24s/it]"
     ]
    },
    {
     "name": "stdout",
     "output_type": "stream",
     "text": [
      "train loss: 0.61514, val task1 auc: 0.73820, val task2 auc: 0.951\n",
      "Epoch: 6/100\n"
     ]
    },
    {
     "name": "stderr",
     "output_type": "stream",
     "text": [
      "  7%|▋         | 7/100 [01:43<23:18, 15.04s/it]"
     ]
    },
    {
     "name": "stdout",
     "output_type": "stream",
     "text": [
      "train loss: 0.55847, val task1 auc: 0.77315, val task2 auc: 0.953\n",
      "Epoch: 7/100\n"
     ]
    },
    {
     "name": "stderr",
     "output_type": "stream",
     "text": [
      "  8%|▊         | 8/100 [02:00<23:47, 15.52s/it]"
     ]
    },
    {
     "name": "stdout",
     "output_type": "stream",
     "text": [
      "train loss: 0.52169, val task1 auc: 0.82497, val task2 auc: 0.957\n",
      "Epoch: 8/100\n"
     ]
    },
    {
     "name": "stderr",
     "output_type": "stream",
     "text": [
      "  9%|▉         | 9/100 [02:15<23:21, 15.40s/it]"
     ]
    },
    {
     "name": "stdout",
     "output_type": "stream",
     "text": [
      "train loss: 0.49128, val task1 auc: 0.86540, val task2 auc: 0.959\n",
      "Epoch: 9/100\n"
     ]
    },
    {
     "name": "stderr",
     "output_type": "stream",
     "text": [
      " 10%|█         | 10/100 [02:28<22:13, 14.81s/it]"
     ]
    },
    {
     "name": "stdout",
     "output_type": "stream",
     "text": [
      "train loss: 0.46727, val task1 auc: 0.88472, val task2 auc: 0.963\n",
      "Epoch: 10/100\n"
     ]
    },
    {
     "name": "stderr",
     "output_type": "stream",
     "text": [
      " 11%|█         | 11/100 [02:41<21:10, 14.28s/it]"
     ]
    },
    {
     "name": "stdout",
     "output_type": "stream",
     "text": [
      "train loss: 0.44203, val task1 auc: 0.90236, val task2 auc: 0.967\n",
      "Epoch: 11/100\n"
     ]
    },
    {
     "name": "stderr",
     "output_type": "stream",
     "text": [
      " 12%|█▏        | 12/100 [02:56<21:05, 14.38s/it]"
     ]
    },
    {
     "name": "stdout",
     "output_type": "stream",
     "text": [
      "train loss: 0.41790, val task1 auc: 0.90695, val task2 auc: 0.970\n",
      "Epoch: 12/100\n"
     ]
    },
    {
     "name": "stderr",
     "output_type": "stream",
     "text": [
      " 13%|█▎        | 13/100 [03:13<21:53, 15.10s/it]"
     ]
    },
    {
     "name": "stdout",
     "output_type": "stream",
     "text": [
      "train loss: 0.39724, val task1 auc: 0.91118, val task2 auc: 0.974\n",
      "Epoch: 13/100\n"
     ]
    },
    {
     "name": "stderr",
     "output_type": "stream",
     "text": [
      " 14%|█▍        | 14/100 [03:27<21:16, 14.84s/it]"
     ]
    },
    {
     "name": "stdout",
     "output_type": "stream",
     "text": [
      "train loss: 0.38374, val task1 auc: 0.91262, val task2 auc: 0.975\n",
      "Epoch: 14/100\n"
     ]
    },
    {
     "name": "stderr",
     "output_type": "stream",
     "text": [
      " 15%|█▌        | 15/100 [03:40<20:26, 14.42s/it]"
     ]
    },
    {
     "name": "stdout",
     "output_type": "stream",
     "text": [
      "train loss: 0.37415, val task1 auc: 0.91555, val task2 auc: 0.977\n",
      "Epoch: 15/100\n"
     ]
    },
    {
     "name": "stderr",
     "output_type": "stream",
     "text": [
      " 16%|█▌        | 16/100 [03:55<20:14, 14.46s/it]"
     ]
    },
    {
     "name": "stdout",
     "output_type": "stream",
     "text": [
      "train loss: 0.36848, val task1 auc: 0.91832, val task2 auc: 0.979\n",
      "Epoch: 16/100\n"
     ]
    },
    {
     "name": "stderr",
     "output_type": "stream",
     "text": [
      " 17%|█▋        | 17/100 [04:09<19:51, 14.36s/it]"
     ]
    },
    {
     "name": "stdout",
     "output_type": "stream",
     "text": [
      "train loss: 0.36078, val task1 auc: 0.91996, val task2 auc: 0.979\n",
      "Epoch: 17/100\n"
     ]
    },
    {
     "name": "stderr",
     "output_type": "stream",
     "text": [
      " 18%|█▊        | 18/100 [04:24<19:58, 14.62s/it]"
     ]
    },
    {
     "name": "stdout",
     "output_type": "stream",
     "text": [
      "train loss: 0.35658, val task1 auc: 0.92058, val task2 auc: 0.979\n",
      "Epoch: 18/100\n"
     ]
    },
    {
     "name": "stderr",
     "output_type": "stream",
     "text": [
      " 19%|█▉        | 19/100 [04:38<19:24, 14.37s/it]"
     ]
    },
    {
     "name": "stdout",
     "output_type": "stream",
     "text": [
      "train loss: 0.35332, val task1 auc: 0.92268, val task2 auc: 0.980\n",
      "Epoch: 19/100\n"
     ]
    },
    {
     "name": "stderr",
     "output_type": "stream",
     "text": [
      " 20%|██        | 20/100 [04:52<18:56, 14.21s/it]"
     ]
    },
    {
     "name": "stdout",
     "output_type": "stream",
     "text": [
      "train loss: 0.34502, val task1 auc: 0.92391, val task2 auc: 0.979\n",
      "Epoch: 20/100\n"
     ]
    },
    {
     "name": "stderr",
     "output_type": "stream",
     "text": [
      " 21%|██        | 21/100 [05:06<18:36, 14.13s/it]"
     ]
    },
    {
     "name": "stdout",
     "output_type": "stream",
     "text": [
      "train loss: 0.33858, val task1 auc: 0.92517, val task2 auc: 0.980\n",
      "Epoch: 21/100\n"
     ]
    },
    {
     "name": "stderr",
     "output_type": "stream",
     "text": [
      " 22%|██▏       | 22/100 [05:20<18:24, 14.16s/it]"
     ]
    },
    {
     "name": "stdout",
     "output_type": "stream",
     "text": [
      "train loss: 0.33707, val task1 auc: 0.92608, val task2 auc: 0.980\n",
      "Epoch: 22/100\n"
     ]
    },
    {
     "name": "stderr",
     "output_type": "stream",
     "text": [
      " 23%|██▎       | 23/100 [05:34<18:06, 14.11s/it]"
     ]
    },
    {
     "name": "stdout",
     "output_type": "stream",
     "text": [
      "train loss: 0.33303, val task1 auc: 0.92649, val task2 auc: 0.978\n",
      "Epoch: 23/100\n"
     ]
    },
    {
     "name": "stderr",
     "output_type": "stream",
     "text": [
      " 24%|██▍       | 24/100 [05:47<17:30, 13.82s/it]"
     ]
    },
    {
     "name": "stdout",
     "output_type": "stream",
     "text": [
      "train loss: 0.32952, val task1 auc: 0.92865, val task2 auc: 0.978\n",
      "Epoch: 24/100\n"
     ]
    },
    {
     "name": "stderr",
     "output_type": "stream",
     "text": [
      " 25%|██▌       | 25/100 [06:02<17:30, 14.00s/it]"
     ]
    },
    {
     "name": "stdout",
     "output_type": "stream",
     "text": [
      "train loss: 0.32942, val task1 auc: 0.92898, val task2 auc: 0.979\n",
      "Epoch: 25/100\n"
     ]
    },
    {
     "name": "stderr",
     "output_type": "stream",
     "text": [
      " 26%|██▌       | 26/100 [06:15<16:53, 13.69s/it]"
     ]
    },
    {
     "name": "stdout",
     "output_type": "stream",
     "text": [
      "train loss: 0.32755, val task1 auc: 0.92979, val task2 auc: 0.977\n",
      "Epoch: 26/100\n"
     ]
    },
    {
     "name": "stderr",
     "output_type": "stream",
     "text": [
      " 27%|██▋       | 27/100 [06:28<16:24, 13.49s/it]"
     ]
    },
    {
     "name": "stdout",
     "output_type": "stream",
     "text": [
      "train loss: 0.32068, val task1 auc: 0.92921, val task2 auc: 0.977\n",
      "Epoch: 27/100\n"
     ]
    },
    {
     "name": "stderr",
     "output_type": "stream",
     "text": [
      " 28%|██▊       | 28/100 [06:40<15:54, 13.25s/it]"
     ]
    },
    {
     "name": "stdout",
     "output_type": "stream",
     "text": [
      "train loss: 0.31653, val task1 auc: 0.93117, val task2 auc: 0.976\n",
      "Epoch: 28/100\n"
     ]
    },
    {
     "name": "stderr",
     "output_type": "stream",
     "text": [
      " 29%|██▉       | 29/100 [06:53<15:33, 13.15s/it]"
     ]
    },
    {
     "name": "stdout",
     "output_type": "stream",
     "text": [
      "train loss: 0.31501, val task1 auc: 0.93154, val task2 auc: 0.976\n",
      "Epoch: 29/100\n"
     ]
    },
    {
     "name": "stderr",
     "output_type": "stream",
     "text": [
      " 30%|███       | 30/100 [07:06<15:15, 13.08s/it]"
     ]
    },
    {
     "name": "stdout",
     "output_type": "stream",
     "text": [
      "train loss: 0.31276, val task1 auc: 0.93340, val task2 auc: 0.977\n",
      "Epoch: 30/100\n"
     ]
    },
    {
     "name": "stderr",
     "output_type": "stream",
     "text": [
      " 31%|███       | 31/100 [07:21<15:33, 13.53s/it]"
     ]
    },
    {
     "name": "stdout",
     "output_type": "stream",
     "text": [
      "train loss: 0.30975, val task1 auc: 0.93280, val task2 auc: 0.979\n",
      "Epoch: 31/100\n"
     ]
    },
    {
     "name": "stderr",
     "output_type": "stream",
     "text": [
      " 32%|███▏      | 32/100 [07:37<16:07, 14.23s/it]"
     ]
    },
    {
     "name": "stdout",
     "output_type": "stream",
     "text": [
      "train loss: 0.30727, val task1 auc: 0.93398, val task2 auc: 0.975\n",
      "Epoch: 32/100\n"
     ]
    },
    {
     "name": "stderr",
     "output_type": "stream",
     "text": [
      " 33%|███▎      | 33/100 [07:52<16:10, 14.49s/it]"
     ]
    },
    {
     "name": "stdout",
     "output_type": "stream",
     "text": [
      "train loss: 0.30587, val task1 auc: 0.93413, val task2 auc: 0.975\n",
      "Epoch: 33/100\n"
     ]
    },
    {
     "name": "stderr",
     "output_type": "stream",
     "text": [
      " 34%|███▍      | 34/100 [08:07<16:04, 14.61s/it]"
     ]
    },
    {
     "name": "stdout",
     "output_type": "stream",
     "text": [
      "train loss: 0.30397, val task1 auc: 0.93467, val task2 auc: 0.975\n",
      "Epoch: 34/100\n"
     ]
    },
    {
     "name": "stderr",
     "output_type": "stream",
     "text": [
      " 35%|███▌      | 35/100 [08:19<15:14, 14.07s/it]"
     ]
    },
    {
     "name": "stdout",
     "output_type": "stream",
     "text": [
      "train loss: 0.30166, val task1 auc: 0.93524, val task2 auc: 0.975\n",
      "Epoch: 35/100\n"
     ]
    },
    {
     "name": "stderr",
     "output_type": "stream",
     "text": [
      " 36%|███▌      | 36/100 [08:32<14:37, 13.72s/it]"
     ]
    },
    {
     "name": "stdout",
     "output_type": "stream",
     "text": [
      "train loss: 0.29966, val task1 auc: 0.93652, val task2 auc: 0.975\n",
      "Epoch: 36/100\n"
     ]
    },
    {
     "name": "stderr",
     "output_type": "stream",
     "text": [
      " 37%|███▋      | 37/100 [08:45<14:10, 13.49s/it]"
     ]
    },
    {
     "name": "stdout",
     "output_type": "stream",
     "text": [
      "train loss: 0.30178, val task1 auc: 0.93624, val task2 auc: 0.971\n",
      "Epoch: 37/100\n"
     ]
    },
    {
     "name": "stderr",
     "output_type": "stream",
     "text": [
      " 38%|███▊      | 38/100 [08:59<13:58, 13.52s/it]"
     ]
    },
    {
     "name": "stdout",
     "output_type": "stream",
     "text": [
      "train loss: 0.29919, val task1 auc: 0.93546, val task2 auc: 0.976\n",
      "Epoch: 38/100\n"
     ]
    },
    {
     "name": "stderr",
     "output_type": "stream",
     "text": [
      " 39%|███▉      | 39/100 [09:13<13:48, 13.58s/it]"
     ]
    },
    {
     "name": "stdout",
     "output_type": "stream",
     "text": [
      "train loss: 0.29418, val task1 auc: 0.93780, val task2 auc: 0.978\n",
      "Epoch: 39/100\n"
     ]
    },
    {
     "name": "stderr",
     "output_type": "stream",
     "text": [
      " 40%|████      | 40/100 [09:26<13:33, 13.57s/it]"
     ]
    },
    {
     "name": "stdout",
     "output_type": "stream",
     "text": [
      "train loss: 0.29273, val task1 auc: 0.93747, val task2 auc: 0.975\n",
      "Epoch: 40/100\n"
     ]
    },
    {
     "name": "stderr",
     "output_type": "stream",
     "text": [
      " 41%|████      | 41/100 [09:40<13:25, 13.66s/it]"
     ]
    },
    {
     "name": "stdout",
     "output_type": "stream",
     "text": [
      "train loss: 0.29233, val task1 auc: 0.93743, val task2 auc: 0.972\n",
      "Epoch: 41/100\n"
     ]
    },
    {
     "name": "stderr",
     "output_type": "stream",
     "text": [
      " 42%|████▏     | 42/100 [09:54<13:09, 13.61s/it]"
     ]
    },
    {
     "name": "stdout",
     "output_type": "stream",
     "text": [
      "train loss: 0.28989, val task1 auc: 0.93664, val task2 auc: 0.971\n",
      "Epoch: 42/100\n"
     ]
    },
    {
     "name": "stderr",
     "output_type": "stream",
     "text": [
      " 43%|████▎     | 43/100 [10:09<13:22, 14.07s/it]"
     ]
    },
    {
     "name": "stdout",
     "output_type": "stream",
     "text": [
      "train loss: 0.29156, val task1 auc: 0.93761, val task2 auc: 0.969\n",
      "Epoch: 43/100\n"
     ]
    },
    {
     "name": "stderr",
     "output_type": "stream",
     "text": [
      " 44%|████▍     | 44/100 [10:22<13:03, 13.98s/it]"
     ]
    },
    {
     "name": "stdout",
     "output_type": "stream",
     "text": [
      "train loss: 0.28879, val task1 auc: 0.93751, val task2 auc: 0.972\n",
      "Epoch: 44/100\n"
     ]
    },
    {
     "name": "stderr",
     "output_type": "stream",
     "text": [
      " 45%|████▌     | 45/100 [10:36<12:38, 13.80s/it]"
     ]
    },
    {
     "name": "stdout",
     "output_type": "stream",
     "text": [
      "train loss: 0.28678, val task1 auc: 0.93948, val task2 auc: 0.969\n",
      "Epoch: 45/100\n"
     ]
    },
    {
     "name": "stderr",
     "output_type": "stream",
     "text": [
      " 46%|████▌     | 46/100 [10:50<12:37, 14.02s/it]"
     ]
    },
    {
     "name": "stdout",
     "output_type": "stream",
     "text": [
      "train loss: 0.28529, val task1 auc: 0.93901, val task2 auc: 0.972\n",
      "Epoch: 46/100\n"
     ]
    },
    {
     "name": "stderr",
     "output_type": "stream",
     "text": [
      " 47%|████▋     | 47/100 [11:03<12:02, 13.64s/it]"
     ]
    },
    {
     "name": "stdout",
     "output_type": "stream",
     "text": [
      "train loss: 0.28633, val task1 auc: 0.93846, val task2 auc: 0.967\n",
      "Epoch: 47/100\n"
     ]
    },
    {
     "name": "stderr",
     "output_type": "stream",
     "text": [
      " 48%|████▊     | 48/100 [11:17<11:53, 13.73s/it]"
     ]
    },
    {
     "name": "stdout",
     "output_type": "stream",
     "text": [
      "train loss: 0.28234, val task1 auc: 0.93915, val task2 auc: 0.971\n",
      "Epoch: 48/100\n"
     ]
    },
    {
     "name": "stderr",
     "output_type": "stream",
     "text": [
      " 49%|████▉     | 49/100 [11:31<11:43, 13.80s/it]"
     ]
    },
    {
     "name": "stdout",
     "output_type": "stream",
     "text": [
      "train loss: 0.28221, val task1 auc: 0.93929, val task2 auc: 0.974\n",
      "Epoch: 49/100\n"
     ]
    },
    {
     "name": "stderr",
     "output_type": "stream",
     "text": [
      " 50%|█████     | 50/100 [11:44<11:14, 13.49s/it]"
     ]
    },
    {
     "name": "stdout",
     "output_type": "stream",
     "text": [
      "train loss: 0.28105, val task1 auc: 0.93960, val task2 auc: 0.972\n",
      "Epoch: 50/100\n"
     ]
    },
    {
     "name": "stderr",
     "output_type": "stream",
     "text": [
      " 51%|█████     | 51/100 [11:57<11:03, 13.54s/it]"
     ]
    },
    {
     "name": "stdout",
     "output_type": "stream",
     "text": [
      "train loss: 0.28154, val task1 auc: 0.94027, val task2 auc: 0.968\n",
      "Epoch: 51/100\n"
     ]
    },
    {
     "name": "stderr",
     "output_type": "stream",
     "text": [
      " 52%|█████▏    | 52/100 [12:11<10:46, 13.46s/it]"
     ]
    },
    {
     "name": "stdout",
     "output_type": "stream",
     "text": [
      "train loss: 0.27975, val task1 auc: 0.93917, val task2 auc: 0.968\n",
      "Epoch: 52/100\n"
     ]
    },
    {
     "name": "stderr",
     "output_type": "stream",
     "text": [
      " 53%|█████▎    | 53/100 [12:24<10:33, 13.49s/it]"
     ]
    },
    {
     "name": "stdout",
     "output_type": "stream",
     "text": [
      "train loss: 0.28143, val task1 auc: 0.94036, val task2 auc: 0.967\n",
      "Epoch: 53/100\n"
     ]
    },
    {
     "name": "stderr",
     "output_type": "stream",
     "text": [
      " 54%|█████▍    | 54/100 [12:38<10:29, 13.69s/it]"
     ]
    },
    {
     "name": "stdout",
     "output_type": "stream",
     "text": [
      "train loss: 0.27842, val task1 auc: 0.94040, val task2 auc: 0.964\n",
      "Epoch: 54/100\n"
     ]
    },
    {
     "name": "stderr",
     "output_type": "stream",
     "text": [
      " 55%|█████▌    | 55/100 [12:54<10:34, 14.10s/it]"
     ]
    },
    {
     "name": "stdout",
     "output_type": "stream",
     "text": [
      "train loss: 0.27731, val task1 auc: 0.93851, val task2 auc: 0.972\n",
      "Epoch: 55/100\n"
     ]
    },
    {
     "name": "stderr",
     "output_type": "stream",
     "text": [
      " 56%|█████▌    | 56/100 [13:06<10:02, 13.70s/it]"
     ]
    },
    {
     "name": "stdout",
     "output_type": "stream",
     "text": [
      "train loss: 0.27689, val task1 auc: 0.94147, val task2 auc: 0.962\n",
      "Epoch: 56/100\n"
     ]
    },
    {
     "name": "stderr",
     "output_type": "stream",
     "text": [
      " 57%|█████▋    | 57/100 [13:19<09:39, 13.48s/it]"
     ]
    },
    {
     "name": "stdout",
     "output_type": "stream",
     "text": [
      "train loss: 0.27781, val task1 auc: 0.94076, val task2 auc: 0.971\n",
      "Epoch: 57/100\n"
     ]
    },
    {
     "name": "stderr",
     "output_type": "stream",
     "text": [
      " 58%|█████▊    | 58/100 [13:35<09:50, 14.07s/it]"
     ]
    },
    {
     "name": "stdout",
     "output_type": "stream",
     "text": [
      "train loss: 0.27573, val task1 auc: 0.94097, val task2 auc: 0.974\n",
      "Epoch: 58/100\n"
     ]
    },
    {
     "name": "stderr",
     "output_type": "stream",
     "text": [
      " 59%|█████▉    | 59/100 [13:51<09:59, 14.62s/it]"
     ]
    },
    {
     "name": "stdout",
     "output_type": "stream",
     "text": [
      "train loss: 0.27613, val task1 auc: 0.93975, val task2 auc: 0.962\n",
      "Epoch: 59/100\n"
     ]
    },
    {
     "name": "stderr",
     "output_type": "stream",
     "text": [
      " 60%|██████    | 60/100 [14:07<10:07, 15.18s/it]"
     ]
    },
    {
     "name": "stdout",
     "output_type": "stream",
     "text": [
      "train loss: 0.27504, val task1 auc: 0.94164, val task2 auc: 0.972\n",
      "Epoch: 60/100\n"
     ]
    },
    {
     "name": "stderr",
     "output_type": "stream",
     "text": [
      " 61%|██████    | 61/100 [14:22<09:44, 14.99s/it]"
     ]
    },
    {
     "name": "stdout",
     "output_type": "stream",
     "text": [
      "train loss: 0.27473, val task1 auc: 0.93951, val task2 auc: 0.972\n",
      "Epoch: 61/100\n"
     ]
    },
    {
     "name": "stderr",
     "output_type": "stream",
     "text": [
      " 62%|██████▏   | 62/100 [14:37<09:34, 15.11s/it]"
     ]
    },
    {
     "name": "stdout",
     "output_type": "stream",
     "text": [
      "train loss: 0.27296, val task1 auc: 0.94163, val task2 auc: 0.973\n",
      "Epoch: 62/100\n"
     ]
    },
    {
     "name": "stderr",
     "output_type": "stream",
     "text": [
      " 63%|██████▎   | 63/100 [14:51<09:10, 14.89s/it]"
     ]
    },
    {
     "name": "stdout",
     "output_type": "stream",
     "text": [
      "train loss: 0.27273, val task1 auc: 0.94087, val task2 auc: 0.970\n",
      "Epoch: 63/100\n"
     ]
    },
    {
     "name": "stderr",
     "output_type": "stream",
     "text": [
      " 64%|██████▍   | 64/100 [15:07<08:58, 14.96s/it]"
     ]
    },
    {
     "name": "stdout",
     "output_type": "stream",
     "text": [
      "train loss: 0.27376, val task1 auc: 0.94170, val task2 auc: 0.964\n",
      "Epoch: 64/100\n"
     ]
    },
    {
     "name": "stderr",
     "output_type": "stream",
     "text": [
      " 65%|██████▌   | 65/100 [15:22<08:45, 15.01s/it]"
     ]
    },
    {
     "name": "stdout",
     "output_type": "stream",
     "text": [
      "train loss: 0.27173, val task1 auc: 0.94180, val task2 auc: 0.973\n",
      "Epoch: 65/100\n"
     ]
    },
    {
     "name": "stderr",
     "output_type": "stream",
     "text": [
      " 66%|██████▌   | 66/100 [15:37<08:37, 15.21s/it]"
     ]
    },
    {
     "name": "stdout",
     "output_type": "stream",
     "text": [
      "train loss: 0.27410, val task1 auc: 0.94175, val task2 auc: 0.973\n",
      "Epoch: 66/100\n"
     ]
    },
    {
     "name": "stderr",
     "output_type": "stream",
     "text": [
      " 67%|██████▋   | 67/100 [15:51<08:09, 14.82s/it]"
     ]
    },
    {
     "name": "stdout",
     "output_type": "stream",
     "text": [
      "train loss: 0.27315, val task1 auc: 0.94251, val task2 auc: 0.974\n",
      "Epoch: 67/100\n"
     ]
    },
    {
     "name": "stderr",
     "output_type": "stream",
     "text": [
      " 68%|██████▊   | 68/100 [16:05<07:45, 14.56s/it]"
     ]
    },
    {
     "name": "stdout",
     "output_type": "stream",
     "text": [
      "train loss: 0.27179, val task1 auc: 0.94143, val task2 auc: 0.970\n",
      "Epoch: 68/100\n"
     ]
    },
    {
     "name": "stderr",
     "output_type": "stream",
     "text": [
      " 69%|██████▉   | 69/100 [16:20<07:29, 14.49s/it]"
     ]
    },
    {
     "name": "stdout",
     "output_type": "stream",
     "text": [
      "train loss: 0.27265, val task1 auc: 0.94267, val task2 auc: 0.974\n",
      "Epoch: 69/100\n"
     ]
    },
    {
     "name": "stderr",
     "output_type": "stream",
     "text": [
      " 70%|███████   | 70/100 [16:34<07:14, 14.47s/it]"
     ]
    },
    {
     "name": "stdout",
     "output_type": "stream",
     "text": [
      "train loss: 0.27070, val task1 auc: 0.94149, val task2 auc: 0.972\n",
      "Epoch: 70/100\n"
     ]
    },
    {
     "name": "stderr",
     "output_type": "stream",
     "text": [
      " 71%|███████   | 71/100 [16:49<07:08, 14.78s/it]"
     ]
    },
    {
     "name": "stdout",
     "output_type": "stream",
     "text": [
      "train loss: 0.27213, val task1 auc: 0.94225, val task2 auc: 0.971\n",
      "Epoch: 71/100\n"
     ]
    },
    {
     "name": "stderr",
     "output_type": "stream",
     "text": [
      " 72%|███████▏  | 72/100 [17:04<06:51, 14.71s/it]"
     ]
    },
    {
     "name": "stdout",
     "output_type": "stream",
     "text": [
      "train loss: 0.26984, val task1 auc: 0.94165, val task2 auc: 0.971\n",
      "Epoch: 72/100\n"
     ]
    },
    {
     "name": "stderr",
     "output_type": "stream",
     "text": [
      " 73%|███████▎  | 73/100 [17:18<06:35, 14.64s/it]"
     ]
    },
    {
     "name": "stdout",
     "output_type": "stream",
     "text": [
      "train loss: 0.27023, val task1 auc: 0.94199, val task2 auc: 0.975\n",
      "Epoch: 73/100\n"
     ]
    },
    {
     "name": "stderr",
     "output_type": "stream",
     "text": [
      " 74%|███████▍  | 74/100 [17:35<06:37, 15.30s/it]"
     ]
    },
    {
     "name": "stdout",
     "output_type": "stream",
     "text": [
      "train loss: 0.27144, val task1 auc: 0.94209, val task2 auc: 0.973\n",
      "Epoch: 74/100\n"
     ]
    },
    {
     "name": "stderr",
     "output_type": "stream",
     "text": [
      " 75%|███████▌  | 75/100 [17:51<06:23, 15.34s/it]"
     ]
    },
    {
     "name": "stdout",
     "output_type": "stream",
     "text": [
      "train loss: 0.26978, val task1 auc: 0.94038, val task2 auc: 0.973\n",
      "Epoch: 75/100\n"
     ]
    },
    {
     "name": "stderr",
     "output_type": "stream",
     "text": [
      " 76%|███████▌  | 76/100 [18:04<05:56, 14.84s/it]"
     ]
    },
    {
     "name": "stdout",
     "output_type": "stream",
     "text": [
      "train loss: 0.26914, val task1 auc: 0.94214, val task2 auc: 0.974\n",
      "Epoch: 76/100\n"
     ]
    },
    {
     "name": "stderr",
     "output_type": "stream",
     "text": [
      " 77%|███████▋  | 77/100 [18:18<05:30, 14.39s/it]"
     ]
    },
    {
     "name": "stdout",
     "output_type": "stream",
     "text": [
      "train loss: 0.27067, val task1 auc: 0.94159, val task2 auc: 0.973\n",
      "Epoch: 77/100\n"
     ]
    },
    {
     "name": "stderr",
     "output_type": "stream",
     "text": [
      " 78%|███████▊  | 78/100 [18:32<05:16, 14.40s/it]"
     ]
    },
    {
     "name": "stdout",
     "output_type": "stream",
     "text": [
      "train loss: 0.26921, val task1 auc: 0.94193, val task2 auc: 0.973\n",
      "Epoch: 78/100\n"
     ]
    },
    {
     "name": "stderr",
     "output_type": "stream",
     "text": [
      " 79%|███████▉  | 79/100 [18:45<04:55, 14.06s/it]"
     ]
    },
    {
     "name": "stdout",
     "output_type": "stream",
     "text": [
      "train loss: 0.26913, val task1 auc: 0.94213, val task2 auc: 0.972\n",
      "Epoch: 79/100\n"
     ]
    },
    {
     "name": "stderr",
     "output_type": "stream",
     "text": [
      " 80%|████████  | 80/100 [18:58<04:33, 13.65s/it]"
     ]
    },
    {
     "name": "stdout",
     "output_type": "stream",
     "text": [
      "train loss: 0.26764, val task1 auc: 0.94213, val task2 auc: 0.971\n",
      "Epoch: 80/100\n"
     ]
    },
    {
     "name": "stderr",
     "output_type": "stream",
     "text": [
      " 81%|████████  | 81/100 [19:12<04:21, 13.78s/it]"
     ]
    },
    {
     "name": "stdout",
     "output_type": "stream",
     "text": [
      "train loss: 0.26867, val task1 auc: 0.94294, val task2 auc: 0.971\n",
      "Epoch: 81/100\n"
     ]
    },
    {
     "name": "stderr",
     "output_type": "stream",
     "text": [
      " 82%|████████▏ | 82/100 [19:28<04:19, 14.42s/it]"
     ]
    },
    {
     "name": "stdout",
     "output_type": "stream",
     "text": [
      "train loss: 0.26733, val task1 auc: 0.94241, val task2 auc: 0.965\n",
      "Epoch: 82/100\n"
     ]
    },
    {
     "name": "stderr",
     "output_type": "stream",
     "text": [
      " 83%|████████▎ | 83/100 [19:43<04:07, 14.58s/it]"
     ]
    },
    {
     "name": "stdout",
     "output_type": "stream",
     "text": [
      "train loss: 0.26731, val task1 auc: 0.93969, val task2 auc: 0.968\n",
      "Epoch: 83/100\n"
     ]
    },
    {
     "name": "stderr",
     "output_type": "stream",
     "text": [
      " 84%|████████▍ | 84/100 [19:57<03:49, 14.33s/it]"
     ]
    },
    {
     "name": "stdout",
     "output_type": "stream",
     "text": [
      "train loss: 0.26867, val task1 auc: 0.94289, val task2 auc: 0.966\n",
      "Epoch: 84/100\n"
     ]
    },
    {
     "name": "stderr",
     "output_type": "stream",
     "text": [
      " 85%|████████▌ | 85/100 [20:13<03:41, 14.74s/it]"
     ]
    },
    {
     "name": "stdout",
     "output_type": "stream",
     "text": [
      "train loss: 0.26749, val task1 auc: 0.94289, val task2 auc: 0.979\n",
      "Epoch: 85/100\n"
     ]
    },
    {
     "name": "stderr",
     "output_type": "stream",
     "text": [
      " 86%|████████▌ | 86/100 [20:30<03:36, 15.48s/it]"
     ]
    },
    {
     "name": "stdout",
     "output_type": "stream",
     "text": [
      "train loss: 0.26752, val task1 auc: 0.94298, val task2 auc: 0.973\n",
      "Epoch: 86/100\n"
     ]
    },
    {
     "name": "stderr",
     "output_type": "stream",
     "text": [
      " 87%|████████▋ | 87/100 [20:46<03:23, 15.67s/it]"
     ]
    },
    {
     "name": "stdout",
     "output_type": "stream",
     "text": [
      "train loss: 0.26856, val task1 auc: 0.94221, val task2 auc: 0.973\n",
      "Epoch: 87/100\n"
     ]
    },
    {
     "name": "stderr",
     "output_type": "stream",
     "text": [
      " 88%|████████▊ | 88/100 [21:00<03:04, 15.36s/it]"
     ]
    },
    {
     "name": "stdout",
     "output_type": "stream",
     "text": [
      "train loss: 0.26694, val task1 auc: 0.94172, val task2 auc: 0.974\n",
      "Epoch: 88/100\n"
     ]
    },
    {
     "name": "stderr",
     "output_type": "stream",
     "text": [
      " 89%|████████▉ | 89/100 [21:14<02:43, 14.90s/it]"
     ]
    },
    {
     "name": "stdout",
     "output_type": "stream",
     "text": [
      "train loss: 0.26565, val task1 auc: 0.94285, val task2 auc: 0.977\n",
      "Epoch: 89/100\n"
     ]
    },
    {
     "name": "stderr",
     "output_type": "stream",
     "text": [
      " 90%|█████████ | 90/100 [21:28<02:25, 14.58s/it]"
     ]
    },
    {
     "name": "stdout",
     "output_type": "stream",
     "text": [
      "train loss: 0.26613, val task1 auc: 0.94352, val task2 auc: 0.975\n",
      "Epoch: 90/100\n"
     ]
    },
    {
     "name": "stderr",
     "output_type": "stream",
     "text": [
      " 91%|█████████ | 91/100 [21:42<02:08, 14.24s/it]"
     ]
    },
    {
     "name": "stdout",
     "output_type": "stream",
     "text": [
      "train loss: 0.26774, val task1 auc: 0.94301, val task2 auc: 0.971\n",
      "Epoch: 91/100\n"
     ]
    },
    {
     "name": "stderr",
     "output_type": "stream",
     "text": [
      " 92%|█████████▏| 92/100 [21:55<01:51, 13.97s/it]"
     ]
    },
    {
     "name": "stdout",
     "output_type": "stream",
     "text": [
      "train loss: 0.26623, val task1 auc: 0.94205, val task2 auc: 0.973\n",
      "Epoch: 92/100\n"
     ]
    },
    {
     "name": "stderr",
     "output_type": "stream",
     "text": [
      " 93%|█████████▎| 93/100 [22:09<01:38, 14.03s/it]"
     ]
    },
    {
     "name": "stdout",
     "output_type": "stream",
     "text": [
      "train loss: 0.26520, val task1 auc: 0.94314, val task2 auc: 0.977\n",
      "Epoch: 93/100\n"
     ]
    },
    {
     "name": "stderr",
     "output_type": "stream",
     "text": [
      " 94%|█████████▍| 94/100 [22:23<01:23, 13.96s/it]"
     ]
    },
    {
     "name": "stdout",
     "output_type": "stream",
     "text": [
      "train loss: 0.26487, val task1 auc: 0.94342, val task2 auc: 0.969\n",
      "Epoch: 94/100\n"
     ]
    },
    {
     "name": "stderr",
     "output_type": "stream",
     "text": [
      " 95%|█████████▌| 95/100 [22:38<01:11, 14.36s/it]"
     ]
    },
    {
     "name": "stdout",
     "output_type": "stream",
     "text": [
      "train loss: 0.26442, val task1 auc: 0.94333, val task2 auc: 0.974\n",
      "Epoch: 95/100\n"
     ]
    },
    {
     "name": "stderr",
     "output_type": "stream",
     "text": [
      " 96%|█████████▌| 96/100 [22:55<00:59, 15.00s/it]"
     ]
    },
    {
     "name": "stdout",
     "output_type": "stream",
     "text": [
      "train loss: 0.26576, val task1 auc: 0.94365, val task2 auc: 0.968\n",
      "Epoch: 96/100\n"
     ]
    },
    {
     "name": "stderr",
     "output_type": "stream",
     "text": [
      " 97%|█████████▋| 97/100 [23:09<00:44, 14.91s/it]"
     ]
    },
    {
     "name": "stdout",
     "output_type": "stream",
     "text": [
      "train loss: 0.26397, val task1 auc: 0.94246, val task2 auc: 0.973\n",
      "Epoch: 97/100\n"
     ]
    },
    {
     "name": "stderr",
     "output_type": "stream",
     "text": [
      " 98%|█████████▊| 98/100 [23:24<00:29, 14.75s/it]"
     ]
    },
    {
     "name": "stdout",
     "output_type": "stream",
     "text": [
      "train loss: 0.26383, val task1 auc: 0.94295, val task2 auc: 0.974\n",
      "Epoch: 98/100\n"
     ]
    },
    {
     "name": "stderr",
     "output_type": "stream",
     "text": [
      " 99%|█████████▉| 99/100 [23:38<00:14, 14.45s/it]"
     ]
    },
    {
     "name": "stdout",
     "output_type": "stream",
     "text": [
      "train loss: 0.26544, val task1 auc: 0.94265, val task2 auc: 0.970\n",
      "Epoch: 99/100\n"
     ]
    },
    {
     "name": "stderr",
     "output_type": "stream",
     "text": [
      "100%|██████████| 100/100 [23:53<00:00, 14.33s/it]"
     ]
    },
    {
     "name": "stdout",
     "output_type": "stream",
     "text": [
      "train loss: 0.26442, val task1 auc: 0.94286, val task2 auc: 0.974\n"
     ]
    },
    {
     "name": "stderr",
     "output_type": "stream",
     "text": [
      "\n"
     ]
    }
   ],
   "source": [
    "auc1_max, auc2_max = 0, 0 \n",
    "\n",
    "for epoch in tqdm(range(n_epochs)):\n",
    "    model.train()\n",
    "    epoch_loss = []\n",
    "    c = 0\n",
    "    print(\"Epoch: {}/{}\".format(epoch, n_epochs))\n",
    "    for x, y in train_loader:\n",
    "        x, y = x.to(device), y.to(device)\n",
    "        y_hat = model(x)\n",
    "\n",
    "        y1, y2 = y[:, 0], y[:, 1]\n",
    "        y_1, y_2 = y_hat[0], y_hat[1]\n",
    "\n",
    "        loss1 = loss_fn(y_1, y1.view(-1, 1))\n",
    "        loss2 = loss_fn(y_2, y2.view(-1, 1))\n",
    "        loss = loss1 + loss2\n",
    "        loss.backward()\n",
    "        optimizer.step()\n",
    "        optimizer.zero_grad()\n",
    "        epoch_loss.append(loss.item())\n",
    "    losses.append(np.mean(epoch_loss))\n",
    "\n",
    "    auc1, auc2 = test(val_loader)\n",
    "    auc1_max, auc2_max = max(auc1_max, auc1), max(auc2_max, auc2)\n",
    "    print('train loss: {:.5f}, val task1 auc: {:.5f}, val task2 auc: {:.3f}'.format(\n",
    "        np.mean(epoch_loss), auc1, auc2))\n",
    "\n",
    "    if auc1 >= auc1_max and auc2 >= auc2_max:\n",
    "        torch.save(model.state_dict(), './model-mmoe-v1-save/model'+\n",
    "                  '_auc1_'+str(round(auc1,4))+\n",
    "                  '_auc2_'+str(round(auc2,4)))"
   ]
  },
  {
   "cell_type": "code",
   "execution_count": 42,
   "metadata": {},
   "outputs": [
    {
     "name": "stdout",
     "output_type": "stream",
     "text": [
      "model_auc1_0.6711_auc2_0.5753  model_auc1_0.8847_auc2_0.9631\r\n",
      "model_auc1_0.6858_auc2_0.8953  model_auc1_0.9024_auc2_0.9668\r\n",
      "model_auc1_0.6933_auc2_0.9282  model_auc1_0.907_auc2_0.9702\r\n",
      "model_auc1_0.7036_auc2_0.943   model_auc1_0.9112_auc2_0.9739\r\n",
      "model_auc1_0.718_auc2_0.948    model_auc1_0.9126_auc2_0.9752\r\n",
      "model_auc1_0.7382_auc2_0.9509  model_auc1_0.9155_auc2_0.9771\r\n",
      "model_auc1_0.7732_auc2_0.9534  model_auc1_0.9183_auc2_0.9786\r\n",
      "model_auc1_0.825_auc2_0.9567   model_auc1_0.9227_auc2_0.9796\r\n",
      "model_auc1_0.8654_auc2_0.9594  model_auc1_0.9252_auc2_0.9799\r\n",
      "modelauc10.8846auc20.8246      model_auc1_0.92_auc2_0.979\r\n"
     ]
    }
   ],
   "source": [
    "!ls ./model-mmoe-v1-save/"
   ]
  },
  {
   "cell_type": "code",
   "execution_count": 40,
   "metadata": {},
   "outputs": [
    {
     "name": "stdout",
     "output_type": "stream",
     "text": [
      "test task1 auc: 0.946, test task2 auc: 0.974\n"
     ]
    }
   ],
   "source": [
    "# model_mmoe_load = MMOE(input_size=499, num_experts=6, experts_out=16, \n",
    "#              experts_hidden=32, towers_hidden=8, tasks=2)\n",
    "# model_mmoe_load.load_state_dict(torch.load('./model-mmoe-v1-save/model_auc1_0.9252_auc2_0.9799'))\n",
    "# model = model_mmoe_load\n",
    "auc1, auc2 = test(test_loader)\n",
    "print('test task1 auc: {:.3f}, test task2 auc: {:.3f}'.format(auc1, auc2))"
   ]
  }
 ],
 "metadata": {
  "kernelspec": {
   "display_name": "Python 3",
   "language": "python",
   "name": "python3"
  },
  "language_info": {
   "codemirror_mode": {
    "name": "ipython",
    "version": 3
   },
   "file_extension": ".py",
   "mimetype": "text/x-python",
   "name": "python",
   "nbconvert_exporter": "python",
   "pygments_lexer": "ipython3",
   "version": "3.7.5"
  }
 },
 "nbformat": 4,
 "nbformat_minor": 4
}
