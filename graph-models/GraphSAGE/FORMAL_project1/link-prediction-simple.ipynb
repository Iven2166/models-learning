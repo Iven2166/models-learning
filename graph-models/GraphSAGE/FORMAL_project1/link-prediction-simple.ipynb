{
 "cells": [
  {
   "cell_type": "markdown",
   "id": "d80e932c-3d93-4f7c-a50a-e682b93c74ad",
   "metadata": {},
   "source": [
    "# Introduction\n",
    "\n",
    "The source code: https://github.com/dglai/WSDM21-Hands-on-Tutorial/blob/main/L2_large_link_prediction.ipynb\n",
    "\n",
    "This replica is simple but clear in showing how unsupvised learning works in DGL module."
   ]
  },
  {
   "cell_type": "code",
   "execution_count": null,
   "id": "f3214bfa-6d03-494a-9a7e-1bce107b56a4",
   "metadata": {},
   "outputs": [],
   "source": []
  },
  {
   "cell_type": "markdown",
   "id": "9d748902-b8c6-43ef-9f41-ca62330bf3a9",
   "metadata": {},
   "source": [
    "# loading dataset"
   ]
  },
  {
   "cell_type": "code",
   "execution_count": 28,
   "id": "3a4f6314-09a6-42b9-816f-09d4dc9b52a8",
   "metadata": {},
   "outputs": [],
   "source": [
    "import dgl\n",
    "import torch\n",
    "from dgl.data import AsNodePredDataset\n",
    "import numpy as np \n",
    "\n",
    "device = 'cpu'"
   ]
  },
  {
   "cell_type": "code",
   "execution_count": 2,
   "id": "6c348a68-6fce-40e7-afd3-7b839dc358ba",
   "metadata": {},
   "outputs": [],
   "source": [
    "def load_cora():\n",
    "    data0 = dgl.data.CSVDataset('../graph_dgl/cora_csv/')\n",
    "    data = AsNodePredDataset(data0, split_ratio=(0.5,0.2,0.3))\n",
    "    g = data[0]\n",
    "    g.ndata[\"features\"] = g.ndata.pop(\"feat\")\n",
    "    g.ndata[\"labels\"] = g.ndata.pop(\"label\")\n",
    "    return g, data.num_classes"
   ]
  },
  {
   "cell_type": "code",
   "execution_count": 7,
   "id": "bd307364-4666-4aac-bcc5-0cf842403434",
   "metadata": {},
   "outputs": [
    {
     "name": "stdout",
     "output_type": "stream",
     "text": [
      "Done loading data from cached files.\n"
     ]
    }
   ],
   "source": [
    "raw_g, n_classes = load_cora()"
   ]
  },
  {
   "cell_type": "code",
   "execution_count": 8,
   "id": "95831045-b22d-4754-8539-6971507fd813",
   "metadata": {},
   "outputs": [],
   "source": [
    "g = dgl.add_reverse_edges(raw_g)"
   ]
  },
  {
   "cell_type": "code",
   "execution_count": 17,
   "id": "262512fa-12d3-4370-8c9b-1df152769195",
   "metadata": {},
   "outputs": [
    {
     "name": "stdout",
     "output_type": "stream",
     "text": [
      "Number of classes: 7\n"
     ]
    }
   ],
   "source": [
    "node_features = g.ndata['features']\n",
    "node_labels = g.ndata['labels']\n",
    "num_features = node_features.shape[1]\n",
    "num_classes = (node_labels.max() + 1).item()\n",
    "print('Number of classes: {:d}'.format(num_classes))"
   ]
  },
  {
   "cell_type": "code",
   "execution_count": 18,
   "id": "ab3b644f-43c9-448d-b5db-927bd3814add",
   "metadata": {},
   "outputs": [],
   "source": [
    "train_nid = torch.nonzero(g.ndata['train_mask'], as_tuple=True)[0]\n",
    "val_nid = torch.nonzero(g.ndata['val_mask'], as_tuple=True)[0]\n",
    "test_nid = torch.nonzero(~(g.ndata['train_mask'] | g.ndata['val_mask']), as_tuple=True)[0]"
   ]
  },
  {
   "cell_type": "code",
   "execution_count": 23,
   "id": "2b433a56-f6a0-4c95-9d3c-4ff14624701c",
   "metadata": {},
   "outputs": [
    {
     "data": {
      "text/plain": [
       "(torch.Size([1354]), torch.Size([541]), torch.Size([813]))"
      ]
     },
     "execution_count": 23,
     "metadata": {},
     "output_type": "execute_result"
    }
   ],
   "source": [
    "train_nid.shape, val_nid.shape, test_nid.shape"
   ]
  },
  {
   "cell_type": "code",
   "execution_count": null,
   "id": "78be5b8b-18c5-402b-bcb7-207555376689",
   "metadata": {},
   "outputs": [],
   "source": []
  },
  {
   "cell_type": "markdown",
   "id": "7a63ff53-6655-477d-807c-91130c43c603",
   "metadata": {},
   "source": [
    "# Defining Neighbor Sampler and Data Loader in DGL"
   ]
  },
  {
   "cell_type": "markdown",
   "id": "3aa3111f-1361-456a-980b-20f47c61ba7e",
   "metadata": {},
   "source": [
    "DGL provides `dgl.dataloading.EdgeDataLoader` to iterate over edges for edge classification or link prediction tasks.\n",
    "\n",
    "To perform link prediction, you need to specify a negative sampler. DGL provides builtin negative samplers such as `dgl.dataloading.negative_sampler.Uniform`. \n",
    "\n",
    "Here this tutorial uniformly **draws 5 negative examples per positive example**."
   ]
  },
  {
   "cell_type": "code",
   "execution_count": 25,
   "id": "97c52a1c-9544-4ea9-a5e1-c537884a8400",
   "metadata": {},
   "outputs": [],
   "source": [
    "negative_sampler = dgl.dataloading.negative_sampler.Uniform(5)"
   ]
  },
  {
   "cell_type": "code",
   "execution_count": 31,
   "id": "b98e7b84-978a-4e92-85d8-2c39c6eb4789",
   "metadata": {},
   "outputs": [],
   "source": [
    "sampler = dgl.dataloading.MultiLayerNeighborSampler([4,4])  # select 4 on each layer\n",
    "train_dataloader = dgl.dataloading.EdgeDataLoader(\n",
    "    g,\n",
    "    torch.arange(g.number_of_edges()), # the edges to iterate over \n",
    "    sampler,                           # neighbor sampler\n",
    "    negative_sampler=negative_sampler, \n",
    "    device = device,\n",
    "    # --- the following arguments are inherited from Pytorch Dataloader ---\n",
    "    batch_size = 128,\n",
    "    shuffle = True,\n",
    "    drop_last = False, # if we drop the last incomplete batch\n",
    "    num_workers = 0\n",
    ")"
   ]
  },
  {
   "cell_type": "code",
   "execution_count": 32,
   "id": "7104886d-07d9-47ae-bcf6-ffe1afdc01df",
   "metadata": {},
   "outputs": [
    {
     "name": "stdout",
     "output_type": "stream",
     "text": [
      "Number of input nodes: 2158\n",
      "Positive graph # nodes: 726 # edges: 128\n",
      "Negative graph # nodes: 726 # edges: 640\n",
      "[Block(num_src_nodes=2158, num_dst_nodes=1614, num_edges=5055), Block(num_src_nodes=1614, num_dst_nodes=726, num_edges=2170)]\n"
     ]
    }
   ],
   "source": [
    "input_nodes, pos_graph, neg_graph, mfgs = next(iter(train_dataloader))\n",
    "print('Number of input nodes:', len(input_nodes))\n",
    "print('Positive graph # nodes:', pos_graph.number_of_nodes(), '# edges:', pos_graph.number_of_edges())\n",
    "print('Negative graph # nodes:', neg_graph.number_of_nodes(), '# edges:', neg_graph.number_of_edges())\n",
    "print(mfgs)"
   ]
  },
  {
   "cell_type": "code",
   "execution_count": null,
   "id": "9d4534d1-2262-498e-8ac0-01f8af3d8779",
   "metadata": {},
   "outputs": [],
   "source": []
  },
  {
   "cell_type": "code",
   "execution_count": null,
   "id": "5531d9da-d9bc-4d2f-becb-042c208b2aa4",
   "metadata": {},
   "outputs": [],
   "source": []
  },
  {
   "cell_type": "code",
   "execution_count": null,
   "id": "e189b62e-8915-4498-b6e9-455f4896f248",
   "metadata": {},
   "outputs": [],
   "source": []
  },
  {
   "cell_type": "code",
   "execution_count": null,
   "id": "919837c2-70b6-4c9c-b42b-6bd09b24b384",
   "metadata": {},
   "outputs": [],
   "source": []
  }
 ],
 "metadata": {
  "kernelspec": {
   "display_name": "Python 3 (ipykernel)",
   "language": "python",
   "name": "python3"
  },
  "language_info": {
   "codemirror_mode": {
    "name": "ipython",
    "version": 3
   },
   "file_extension": ".py",
   "mimetype": "text/x-python",
   "name": "python",
   "nbconvert_exporter": "python",
   "pygments_lexer": "ipython3",
   "version": "3.10.9"
  }
 },
 "nbformat": 4,
 "nbformat_minor": 5
}
