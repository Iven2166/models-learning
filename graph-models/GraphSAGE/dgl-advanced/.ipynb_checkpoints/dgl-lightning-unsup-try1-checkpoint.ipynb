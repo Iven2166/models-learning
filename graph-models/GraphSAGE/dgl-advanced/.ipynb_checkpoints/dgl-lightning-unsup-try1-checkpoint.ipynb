{
 "cells": [
  {
   "cell_type": "markdown",
   "metadata": {},
   "source": [
    "有几个模块\n",
    "\n",
    "1. DataModule：实现数据模块，能够分批加载训练、验证数据\n",
    "2. SAGELightning：继承LightningModule的模块，用于sage的信息传递\n",
    "3. CrossEntropyLoss：定义损失函数，graphsage里的无监督训练\n",
    "4. UnsuptervisedClassfication：无监督训练，产出emb后进行下游的分类任务\n"
   ]
  },
  {
   "cell_type": "markdown",
   "metadata": {},
   "source": [
    "## 1. data loader"
   ]
  },
  {
   "cell_type": "code",
   "execution_count": 6,
   "metadata": {},
   "outputs": [],
   "source": [
    "import dgl\n",
    "import torch\n",
    "from dgl.data import AsNodePredDataset\n",
    "import numpy as np "
   ]
  },
  {
   "cell_type": "code",
   "execution_count": 2,
   "metadata": {},
   "outputs": [],
   "source": [
    "def load_cora():\n",
    "    data0 = dgl.data.CSVDataset('../graph_dgl/cora_csv/')\n",
    "    data = AsNodePredDataset(data0, split_ratio=(0.5,0.2,0.3))\n",
    "    g = data[0]\n",
    "    g.ndata[\"features\"] = g.ndata.pop(\"feat\")\n",
    "    g.ndata[\"labels\"] = g.ndata.pop(\"label\")\n",
    "    return g, data.num_classes"
   ]
  },
  {
   "cell_type": "code",
   "execution_count": null,
   "metadata": {},
   "outputs": [],
   "source": []
  },
  {
   "cell_type": "code",
   "execution_count": 3,
   "metadata": {
    "pycharm": {
     "is_executing": true
    }
   },
   "outputs": [],
   "source": [
    "def load_reddit(self_loop=True, raw_dir='~/.dgl/'):\n",
    "    from dgl.data import RedditDataset\n",
    "\n",
    "    # load reddit data\n",
    "    data = RedditDataset(self_loop=self_loop, raw_dir=raw_dir)\n",
    "    g = data[0]\n",
    "    g.ndata[\"features\"] = g.ndata.pop(\"feat\")\n",
    "    g.ndata[\"labels\"] = g.ndata.pop(\"label\")\n",
    "    return g, data.num_classes"
   ]
  },
  {
   "cell_type": "code",
   "execution_count": 4,
   "metadata": {},
   "outputs": [
    {
     "name": "stdout",
     "output_type": "stream",
     "text": [
      "Done loading data from cached files.\n"
     ]
    }
   ],
   "source": [
    "g, n_classes = load_cora()"
   ]
  },
  {
   "cell_type": "code",
   "execution_count": 7,
   "metadata": {},
   "outputs": [],
   "source": [
    "n_edges = g.num_edges()\n",
    "reverse_eids = torch.cat([\n",
    "    torch.arange(n_edges // 2, n_edges),\n",
    "    torch.arange(0, n_edges // 2)])"
   ]
  },
  {
   "cell_type": "code",
   "execution_count": 8,
   "metadata": {},
   "outputs": [
    {
     "data": {
      "text/plain": [
       "5429"
      ]
     },
     "execution_count": 8,
     "metadata": {},
     "output_type": "execute_result"
    }
   ],
   "source": [
    "n_edges"
   ]
  },
  {
   "cell_type": "code",
   "execution_count": 9,
   "metadata": {},
   "outputs": [
    {
     "data": {
      "text/plain": [
       "tensor([2714, 2715, 2716,  ..., 2711, 2712, 2713])"
      ]
     },
     "execution_count": 9,
     "metadata": {},
     "output_type": "execute_result"
    }
   ],
   "source": [
    "reverse_eids"
   ]
  },
  {
   "cell_type": "code",
   "execution_count": 10,
   "metadata": {},
   "outputs": [],
   "source": [
    "train_nid = th.nonzero(g.ndata['train_mask'], as_tuple=True)[0]\n",
    "val_nid = th.nonzero(g.ndata['val_mask'], as_tuple=True)[0]\n",
    "test_nid = th.nonzero(~(g.ndata['train_mask'] | g.ndata['val_mask']), as_tuple=True)[0]"
   ]
  },
  {
   "cell_type": "code",
   "execution_count": 11,
   "metadata": {},
   "outputs": [],
   "source": [
    "def inductive_split(g):\n",
    "    \"\"\"Split the graph into training graph, validation graph, and test graph by training\n",
    "    and validation masks.  Suitable for inductive models.\"\"\"\n",
    "    train_g = g.subgraph(g.ndata[\"train_mask\"])\n",
    "    val_g = g.subgraph(g.ndata[\"train_mask\"] | g.ndata[\"val_mask\"])\n",
    "    test_g = g\n",
    "    return train_g, val_g, test_g"
   ]
  },
  {
   "cell_type": "code",
   "execution_count": 12,
   "metadata": {},
   "outputs": [],
   "source": [
    "fan_out=[10, 25]\n",
    "base_sampler = dgl.dataloading.MultiLayerNeighborSampler([int(_) for _ in fan_out])"
   ]
  },
  {
   "cell_type": "code",
   "execution_count": null,
   "metadata": {},
   "outputs": [],
   "source": []
  },
  {
   "cell_type": "code",
   "execution_count": null,
   "metadata": {},
   "outputs": [],
   "source": []
  },
  {
   "cell_type": "code",
   "execution_count": null,
   "metadata": {},
   "outputs": [],
   "source": []
  },
  {
   "cell_type": "code",
   "execution_count": null,
   "metadata": {},
   "outputs": [],
   "source": []
  },
  {
   "cell_type": "markdown",
   "metadata": {},
   "source": [
    "## 2. nagetive sampler"
   ]
  },
  {
   "cell_type": "code",
   "execution_count": 13,
   "metadata": {},
   "outputs": [],
   "source": [
    "class NegativeSampler(object):\n",
    "    def __init__(self, g, k, neg_share=False, device=None):\n",
    "        if device is None:\n",
    "            device = g.device\n",
    "        self.weights = g.in_degrees().float().to(device) ** 0.75\n",
    "        self.k = k # k的作用？？？\n",
    "        self.neg_share = neg_share\n",
    "\n",
    "    def __call__(self, g, eids):\n",
    "        src, _ = g.find_edges(eids)\n",
    "        n = len(src)\n",
    "        if self.neg_share and n % self.k == 0:\n",
    "            dst = self.weights.multinomial(n, replacement=True)\n",
    "            dst = dst.view(-1, 1, self.k).expand(-1, self.k, -1).flatten()\n",
    "        else:\n",
    "            dst = self.weights.multinomial(n * self.k, replacement=True)\n",
    "        src = src.repeat_interleave(self.k)\n",
    "        return src, dst\n"
   ]
  },
  {
   "cell_type": "code",
   "execution_count": 14,
   "metadata": {},
   "outputs": [],
   "source": [
    "sampler = dgl.dataloading.as_edge_prediction_sampler(\n",
    "    # 如果是无监督训练，仅有的label，也就是节点之间的连接。所以利用节点的\n",
    "            base_sampler, exclude='reverse_id',\n",
    "            reverse_eids=reverse_eids,\n",
    "            negative_sampler=NegativeSampler(g, 1, False))"
   ]
  },
  {
   "cell_type": "code",
   "execution_count": 15,
   "metadata": {},
   "outputs": [],
   "source": [
    "train_dataloder = dgl.dataloading.DataLoader(\n",
    "            g,\n",
    "            np.arange(g.num_edges()),\n",
    "            sampler,\n",
    "            device=th.device('cpu'),\n",
    "            batch_size=128,\n",
    "            shuffle=True,\n",
    "            drop_last=False,\n",
    "            num_workers=0)"
   ]
  },
  {
   "cell_type": "code",
   "execution_count": 16,
   "metadata": {},
   "outputs": [
    {
     "name": "stderr",
     "output_type": "stream",
     "text": [
      "/Users/tmp/opt/anaconda3/envs/dgl/lib/python3.10/site-packages/dgl/dataloading/dataloader.py:859: DGLWarning: Dataloader CPU affinity opt is not enabled, consider switching it on (see enable_cpu_affinity() or CPU best practices for DGL [https://docs.dgl.ai/tutorials/cpu/cpu_best_practises.html])\n",
      "  dgl_warning(f'Dataloader CPU affinity opt is not enabled, consider switching it on '\n"
     ]
    }
   ],
   "source": [
    "one_batch = next(iter(train_dataloder))"
   ]
  },
  {
   "cell_type": "code",
   "execution_count": 27,
   "metadata": {},
   "outputs": [
    {
     "name": "stdout",
     "output_type": "stream",
     "text": [
      "4\n"
     ]
    },
    {
     "data": {
      "text/plain": [
       "'\\n一个batch有4个返回。第一个是input的节点，第二是 正样本的图，第三是 负样本的图，第四是 各层的 block\\n'"
      ]
     },
     "execution_count": 27,
     "metadata": {},
     "output_type": "execute_result"
    }
   ],
   "source": [
    "print(len(one_batch)) # input_nodes, pos_graph, neg_graph, mfgs = batch\n",
    "\"\"\"\n",
    "一个batch有4个返回。第一个是input的节点，第二是 正样本的图，第三是 负样本的图，第四是 各层的 block\n",
    "\"\"\""
   ]
  },
  {
   "cell_type": "code",
   "execution_count": 19,
   "metadata": {},
   "outputs": [
    {
     "data": {
      "text/plain": [
       "(Graph(num_nodes=345, num_edges=128,\n",
       "       ndata_schemes={'train_mask': Scheme(shape=(), dtype=torch.bool), 'val_mask': Scheme(shape=(), dtype=torch.bool), 'test_mask': Scheme(shape=(), dtype=torch.bool), 'features': Scheme(shape=(1433,), dtype=torch.int64), 'labels': Scheme(shape=(), dtype=torch.int64), '_ID': Scheme(shape=(), dtype=torch.int64)}\n",
       "       edata_schemes={'_ID': Scheme(shape=(), dtype=torch.int64)}),\n",
       " '',\n",
       " Graph(num_nodes=345, num_edges=128,\n",
       "       ndata_schemes={'_ID': Scheme(shape=(), dtype=torch.int64)}\n",
       "       edata_schemes={}),\n",
       " [Block(num_src_nodes=873, num_dst_nodes=741, num_edges=1312),\n",
       "  Block(num_src_nodes=741, num_dst_nodes=345, num_edges=727)])"
      ]
     },
     "execution_count": 19,
     "metadata": {},
     "output_type": "execute_result"
    }
   ],
   "source": [
    "one_batch[1], '', one_batch[2], one_batch[3]"
   ]
  },
  {
   "cell_type": "code",
   "execution_count": 20,
   "metadata": {},
   "outputs": [],
   "source": [
    "b0, b1, b2, b3 = one_batch"
   ]
  },
  {
   "cell_type": "code",
   "execution_count": 28,
   "metadata": {},
   "outputs": [
    {
     "name": "stdout",
     "output_type": "stream",
     "text": [
      "Number of input nodes: 873\n",
      "Positive graph # nodes: 345 # edges: 128\n",
      "Negative graph # nodes: 345 # edges: 128\n",
      "[Block(num_src_nodes=873, num_dst_nodes=741, num_edges=1312), Block(num_src_nodes=741, num_dst_nodes=345, num_edges=727)]\n"
     ]
    }
   ],
   "source": [
    "print('Number of input nodes:', len(b0))\n",
    "print('Positive graph # nodes:', b1.number_of_nodes(), '# edges:', b1.number_of_edges())\n",
    "print('Negative graph # nodes:', b2.number_of_nodes(), '# edges:', b2.number_of_edges())\n",
    "print(b3)"
   ]
  },
  {
   "cell_type": "code",
   "execution_count": 50,
   "metadata": {},
   "outputs": [
    {
     "data": {
      "text/plain": [
       "'\\n一个batch里，初始有 873 个节点，输入后经过 2 个layer的采样，dst 计算到 345 个节点。\\n\\n该 345 个节点，连通 128 条边，\\n'"
      ]
     },
     "execution_count": 50,
     "metadata": {},
     "output_type": "execute_result"
    }
   ],
   "source": [
    "\"\"\"\n",
    "一个batch里，初始有 873 个节点，输入后经过 2 个layer的采样，dst 计算到 345 个节点。\n",
    "1. 输入节点的 ID tensor ，在这个batch里计算第一层GNN layer 所需的输入特征\n",
    "2. 第二、第三部分，是这个 batch 里的正、负图。在这个 batch 里，正图、负图 只包含了计算成对的节点之间边的分数\n",
    "3. MFGs 对于每层GNN layer 所需的计算依赖\n",
    "\n",
    "该 345 个节点，连通 128 条边， \n",
    "\"\"\""
   ]
  },
  {
   "cell_type": "code",
   "execution_count": 33,
   "metadata": {},
   "outputs": [
    {
     "data": {
      "text/plain": [
       "dict_keys(['train_mask', 'val_mask', 'test_mask', 'features', 'labels', '_ID'])"
      ]
     },
     "execution_count": 33,
     "metadata": {},
     "output_type": "execute_result"
    }
   ],
   "source": [
    "b1.ndata.keys()"
   ]
  },
  {
   "cell_type": "code",
   "execution_count": 37,
   "metadata": {},
   "outputs": [
    {
     "data": {
      "text/plain": [
       "(tensor(153), tensor(80), tensor(112))"
      ]
     },
     "execution_count": 37,
     "metadata": {},
     "output_type": "execute_result"
    }
   ],
   "source": [
    "b1.ndata['train_mask'].sum(), b1.ndata['val_mask'].sum(), b1.ndata['test_mask'].sum() #153+80+112=345"
   ]
  },
  {
   "cell_type": "code",
   "execution_count": 41,
   "metadata": {},
   "outputs": [
    {
     "name": "stdout",
     "output_type": "stream",
     "text": [
      "torch.Size([128])\n"
     ]
    },
    {
     "data": {
      "text/plain": [
       "tensor([2725, 2468, 2488, 4642, 3156, 3728, 3567, 1266, 1226, 1725, 4026, 1049,\n",
       "        5397, 2471, 1202, 4206, 3897, 2946, 2152, 3165, 4484, 2206,  748, 2326,\n",
       "         581, 1728, 1554, 2575, 2572, 4300, 3541, 5127,  453, 1109, 3690, 4924,\n",
       "        2093, 5360, 3779,   63, 2029, 4280, 3523,  426, 3819,  487, 2464, 4813,\n",
       "        3029, 4433, 3472, 4874, 3680, 4077, 1423, 2922, 4955, 1434, 3864, 5277,\n",
       "        4845, 1496, 4768, 3548,  228, 2381,  322, 5032, 3423, 5088, 3969, 1746,\n",
       "         299, 2388, 1542, 5301, 1154, 3973, 3993, 1052, 5380,  437, 2131, 1912,\n",
       "        1697, 4222, 2626,  879, 2108, 5196, 4488,  176, 5018, 1769, 3830, 1029,\n",
       "        3872, 3675, 4197, 4573, 1566,  537,  198, 2693, 3416,  586, 4829,  966,\n",
       "        3910, 1369, 4766,   77, 1294, 4402,  832,  266,  681, 3067, 1873, 3053,\n",
       "        5046, 5030, 4865, 3026, 1018, 3787,  497,  839])"
      ]
     },
     "execution_count": 41,
     "metadata": {},
     "output_type": "execute_result"
    }
   ],
   "source": [
    "print(b1.edata['_ID'].shape)\n",
    "b1.edata['_ID']"
   ]
  },
  {
   "cell_type": "code",
   "execution_count": 43,
   "metadata": {},
   "outputs": [
    {
     "data": {
      "text/plain": [
       "tensor([  0,   1,   2,   3,   4,   5,   6,   7,   8,   9,  10,  11,  12,  13,\n",
       "         14,  15,  16,  17,  18,  19,  20,  21,  22,  23,  24,  25,  26,  27,\n",
       "         28,  29,  30,  31,  32,  33,  34,  35,  36,  37,  38,  39,  40,  41,\n",
       "         42,  43,  44,  45,  46,  47,  48,  49,  50,  51,  52,  53,  54,  55,\n",
       "         56,  57,  58,  59,  60,  61,  62,  63,  64,  65,  66,  67,  68,  69,\n",
       "         70,  71,  72,  73,  74,  75,  76,  77,  78,  79,  80,  81,  82,  83,\n",
       "         84,  85,  86,  87,  88,  89,  90,  91,  92,  93,  94,  95,  96,  97,\n",
       "         98,  99, 100, 101, 102, 103, 104, 105, 106, 107, 108, 109, 110, 111,\n",
       "        112, 113, 114, 115, 116, 117, 118, 119, 120, 121, 122, 123, 124, 125,\n",
       "        126, 127, 128, 129, 130, 131, 132, 133, 134, 135, 136, 137, 138, 139,\n",
       "        140, 141, 142, 143, 144, 145, 146, 147, 148, 149, 150, 151, 152, 153,\n",
       "        154, 155, 156, 157, 158, 159, 160, 161, 162, 163, 164, 165, 166, 167,\n",
       "        168, 169, 170, 171, 172, 173, 174, 175, 176, 177, 178, 179, 180, 181,\n",
       "        182, 183, 184, 185, 186, 187, 188, 189, 190, 191, 192, 193, 194, 195,\n",
       "        196, 197, 198, 199, 200, 201, 202, 203, 204, 205, 206, 207, 208, 209,\n",
       "        210, 211, 212, 213, 214, 215, 216, 217, 218, 219, 220, 221, 222, 223,\n",
       "        224, 225, 226, 227, 228, 229, 230, 231, 232, 233, 234, 235, 236, 237,\n",
       "        238, 239, 240, 241, 242, 243, 244, 245, 246, 247, 248, 249, 250, 251,\n",
       "        252, 253, 254, 255, 256, 257, 258, 259, 260, 261, 262, 263, 264, 265,\n",
       "        266, 267, 268, 269, 270, 271, 272, 273, 274, 275, 276, 277, 278, 279,\n",
       "        280, 281, 282, 283, 284, 285, 286, 287, 288, 289, 290, 291, 292, 293,\n",
       "        294, 295, 296, 297, 298, 299, 300, 301, 302, 303, 304, 305, 306, 307,\n",
       "        308, 309, 310, 311, 312, 313, 314, 315, 316, 317, 318, 319, 320, 321,\n",
       "        322, 323, 324, 325, 326, 327, 328, 329, 330, 331, 332, 333, 334, 335,\n",
       "        336, 337, 338, 339, 340, 341, 342, 343, 344])"
      ]
     },
     "execution_count": 43,
     "metadata": {},
     "output_type": "execute_result"
    }
   ],
   "source": [
    "b1.dstnodes()"
   ]
  },
  {
   "cell_type": "code",
   "execution_count": 46,
   "metadata": {},
   "outputs": [
    {
     "name": "stdout",
     "output_type": "stream",
     "text": [
      "Help on method number_of_edges in module dgl.heterograph:\n",
      "\n",
      "number_of_edges(etype=None) method of dgl.heterograph.DGLHeteroGraph instance\n",
      "    Alias of :func:`num_edges`\n",
      "\n"
     ]
    }
   ],
   "source": [
    "help(b1.number_of_edges)"
   ]
  },
  {
   "cell_type": "code",
   "execution_count": null,
   "metadata": {},
   "outputs": [],
   "source": []
  },
  {
   "cell_type": "code",
   "execution_count": null,
   "metadata": {},
   "outputs": [],
   "source": []
  }
 ],
 "metadata": {
  "kernelspec": {
   "display_name": "Python 3 (ipykernel)",
   "language": "python",
   "name": "python3"
  },
  "language_info": {
   "codemirror_mode": {
    "name": "ipython",
    "version": 3
   },
   "file_extension": ".py",
   "mimetype": "text/x-python",
   "name": "python",
   "nbconvert_exporter": "python",
   "pygments_lexer": "ipython3",
   "version": "3.10.9"
  }
 },
 "nbformat": 4,
 "nbformat_minor": 4
}
